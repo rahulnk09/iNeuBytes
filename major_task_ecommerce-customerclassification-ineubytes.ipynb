{
 "cells": [
  {
   "cell_type": "markdown",
   "id": "f382617a",
   "metadata": {
    "papermill": {
     "duration": 0.021946,
     "end_time": "2023-08-18T10:44:13.968859",
     "exception": false,
     "start_time": "2023-08-18T10:44:13.946913",
     "status": "completed"
    },
    "tags": []
   },
   "source": [
    "# Major Project : Predictive Analysis & Customer Segmentation for a E-Commerce Project"
   ]
  },
  {
   "cell_type": "code",
   "execution_count": 1,
   "id": "ac5aace2",
   "metadata": {
    "_cell_guid": "b1076dfc-b9ad-4769-8c92-a6c4dae69d19",
    "_uuid": "8f2839f25d086af736a60e9eeb907d3b93b6e0e5",
    "execution": {
     "iopub.execute_input": "2023-08-18T10:44:14.011507Z",
     "iopub.status.busy": "2023-08-18T10:44:14.010649Z",
     "iopub.status.idle": "2023-08-18T10:44:14.030744Z",
     "shell.execute_reply": "2023-08-18T10:44:14.029813Z"
    },
    "papermill": {
     "duration": 0.045593,
     "end_time": "2023-08-18T10:44:14.033881",
     "exception": false,
     "start_time": "2023-08-18T10:44:13.988288",
     "status": "completed"
    },
    "tags": []
   },
   "outputs": [
    {
     "name": "stdout",
     "output_type": "stream",
     "text": [
      "/kaggle/input/online-retail-ecommerce-dataset/data.csv\n"
     ]
    }
   ],
   "source": [
    "# This Python 3 environment comes with many helpful analytics libraries installed\n",
    "# It is defined by the kaggle/python Docker image: https://github.com/kaggle/docker-python\n",
    "# For example, here's several helpful packages to load\n",
    "\n",
    "import numpy as np # linear algebra\n",
    "import pandas as pd # data processing, CSV file I/O (e.g. pd.read_csv)\n",
    "\n",
    "# Input data files are available in the read-only \"../input/\" directory\n",
    "# For example, running this (by clicking run or pressing Shift+Enter) will list all files under the input directory\n",
    "\n",
    "import os\n",
    "for dirname, _, filenames in os.walk('/kaggle/input'):\n",
    "    for filename in filenames:\n",
    "        print(os.path.join(dirname, filename))\n",
    "\n",
    "# You can write up to 20GB to the current directory (/kaggle/working/) that gets preserved as output when you create a version using \"Save & Run All\" \n",
    "# You can also write temporary files to /kaggle/temp/, but they won't be saved outside of the current session"
   ]
  },
  {
   "cell_type": "code",
   "execution_count": 2,
   "id": "9e199554",
   "metadata": {
    "execution": {
     "iopub.execute_input": "2023-08-18T10:44:14.075887Z",
     "iopub.status.busy": "2023-08-18T10:44:14.074998Z",
     "iopub.status.idle": "2023-08-18T10:44:16.697032Z",
     "shell.execute_reply": "2023-08-18T10:44:16.695778Z"
    },
    "papermill": {
     "duration": 2.646717,
     "end_time": "2023-08-18T10:44:16.700015",
     "exception": false,
     "start_time": "2023-08-18T10:44:14.053298",
     "status": "completed"
    },
    "tags": []
   },
   "outputs": [
    {
     "name": "stderr",
     "output_type": "stream",
     "text": [
      "/opt/conda/lib/python3.10/site-packages/scipy/__init__.py:146: UserWarning: A NumPy version >=1.16.5 and <1.23.0 is required for this version of SciPy (detected version 1.23.5\n",
      "  warnings.warn(f\"A NumPy version >={np_minversion} and <{np_maxversion}\"\n"
     ]
    }
   ],
   "source": [
    "import pandas as pd\n",
    "import numpy as np\n",
    "import matplotlib.pyplot as plt\n",
    "import seaborn as sns\n",
    "import datetime as dt\n",
    "from sklearn.cluster import KMeans\n",
    "from sklearn.preprocessing import StandardScaler\n",
    "\n",
    "import warnings\n",
    "warnings.filterwarnings('ignore')\n",
    "%matplotlib inline"
   ]
  },
  {
   "cell_type": "code",
   "execution_count": 3,
   "id": "0bfe3701",
   "metadata": {
    "execution": {
     "iopub.execute_input": "2023-08-18T10:44:16.742898Z",
     "iopub.status.busy": "2023-08-18T10:44:16.742427Z",
     "iopub.status.idle": "2023-08-18T10:44:18.261731Z",
     "shell.execute_reply": "2023-08-18T10:44:18.260240Z"
    },
    "papermill": {
     "duration": 1.544612,
     "end_time": "2023-08-18T10:44:18.264887",
     "exception": false,
     "start_time": "2023-08-18T10:44:16.720275",
     "status": "completed"
    },
    "tags": []
   },
   "outputs": [],
   "source": [
    "df=pd.read_csv('/kaggle/input/online-retail-ecommerce-dataset/data.csv',encoding='ISO-8859-1')"
   ]
  },
  {
   "cell_type": "code",
   "execution_count": 4,
   "id": "a86c74f4",
   "metadata": {
    "execution": {
     "iopub.execute_input": "2023-08-18T10:44:18.308520Z",
     "iopub.status.busy": "2023-08-18T10:44:18.308115Z",
     "iopub.status.idle": "2023-08-18T10:44:18.364755Z",
     "shell.execute_reply": "2023-08-18T10:44:18.363580Z"
    },
    "papermill": {
     "duration": 0.080553,
     "end_time": "2023-08-18T10:44:18.367413",
     "exception": false,
     "start_time": "2023-08-18T10:44:18.286860",
     "status": "completed"
    },
    "tags": []
   },
   "outputs": [
    {
     "data": {
      "text/html": [
       "<div>\n",
       "<style scoped>\n",
       "    .dataframe tbody tr th:only-of-type {\n",
       "        vertical-align: middle;\n",
       "    }\n",
       "\n",
       "    .dataframe tbody tr th {\n",
       "        vertical-align: top;\n",
       "    }\n",
       "\n",
       "    .dataframe thead th {\n",
       "        text-align: right;\n",
       "    }\n",
       "</style>\n",
       "<table border=\"1\" class=\"dataframe\">\n",
       "  <thead>\n",
       "    <tr style=\"text-align: right;\">\n",
       "      <th></th>\n",
       "      <th>InvoiceNo</th>\n",
       "      <th>StockCode</th>\n",
       "      <th>Description</th>\n",
       "      <th>Quantity</th>\n",
       "      <th>InvoiceDate</th>\n",
       "      <th>UnitPrice</th>\n",
       "      <th>CustomerID</th>\n",
       "      <th>Country</th>\n",
       "    </tr>\n",
       "  </thead>\n",
       "  <tbody>\n",
       "    <tr>\n",
       "      <th>277749</th>\n",
       "      <td>561192</td>\n",
       "      <td>23029</td>\n",
       "      <td>DRAWER KNOB CRACKLE GLAZE GREEN</td>\n",
       "      <td>6</td>\n",
       "      <td>7/25/2011 13:45</td>\n",
       "      <td>1.65</td>\n",
       "      <td>16033.0</td>\n",
       "      <td>United Kingdom</td>\n",
       "    </tr>\n",
       "    <tr>\n",
       "      <th>133887</th>\n",
       "      <td>547803</td>\n",
       "      <td>22921</td>\n",
       "      <td>HERB MARKER CHIVES</td>\n",
       "      <td>12</td>\n",
       "      <td>3/25/2011 13:23</td>\n",
       "      <td>0.65</td>\n",
       "      <td>13662.0</td>\n",
       "      <td>United Kingdom</td>\n",
       "    </tr>\n",
       "    <tr>\n",
       "      <th>204648</th>\n",
       "      <td>554682</td>\n",
       "      <td>21165</td>\n",
       "      <td>BEWARE OF THE CAT METAL SIGN</td>\n",
       "      <td>3</td>\n",
       "      <td>5/25/2011 16:08</td>\n",
       "      <td>1.69</td>\n",
       "      <td>14085.0</td>\n",
       "      <td>United Kingdom</td>\n",
       "    </tr>\n",
       "    <tr>\n",
       "      <th>69541</th>\n",
       "      <td>541971</td>\n",
       "      <td>90214B</td>\n",
       "      <td>LETTER \"B\" BLING KEY RING</td>\n",
       "      <td>1</td>\n",
       "      <td>1/24/2011 13:48</td>\n",
       "      <td>0.83</td>\n",
       "      <td>NaN</td>\n",
       "      <td>United Kingdom</td>\n",
       "    </tr>\n",
       "    <tr>\n",
       "      <th>162315</th>\n",
       "      <td>550500</td>\n",
       "      <td>22771</td>\n",
       "      <td>CLEAR DRAWER KNOB ACRYLIC EDWARDIAN</td>\n",
       "      <td>6</td>\n",
       "      <td>4/18/2011 15:26</td>\n",
       "      <td>2.46</td>\n",
       "      <td>NaN</td>\n",
       "      <td>United Kingdom</td>\n",
       "    </tr>\n",
       "    <tr>\n",
       "      <th>196206</th>\n",
       "      <td>553831</td>\n",
       "      <td>82484</td>\n",
       "      <td>WOOD BLACK BOARD ANT WHITE FINISH</td>\n",
       "      <td>6</td>\n",
       "      <td>5/19/2011 11:36</td>\n",
       "      <td>7.95</td>\n",
       "      <td>14442.0</td>\n",
       "      <td>Channel Islands</td>\n",
       "    </tr>\n",
       "    <tr>\n",
       "      <th>187239</th>\n",
       "      <td>552956</td>\n",
       "      <td>23155</td>\n",
       "      <td>KNICKERBOCKERGLORY MAGNET ASSORTED</td>\n",
       "      <td>12</td>\n",
       "      <td>5/12/2011 12:34</td>\n",
       "      <td>0.83</td>\n",
       "      <td>12431.0</td>\n",
       "      <td>Australia</td>\n",
       "    </tr>\n",
       "    <tr>\n",
       "      <th>126017</th>\n",
       "      <td>547063</td>\n",
       "      <td>22729</td>\n",
       "      <td>ALARM CLOCK BAKELIKE ORANGE</td>\n",
       "      <td>1</td>\n",
       "      <td>3/20/2011 13:33</td>\n",
       "      <td>3.75</td>\n",
       "      <td>14769.0</td>\n",
       "      <td>United Kingdom</td>\n",
       "    </tr>\n",
       "    <tr>\n",
       "      <th>402427</th>\n",
       "      <td>571498</td>\n",
       "      <td>22147</td>\n",
       "      <td>FELTCRAFT BUTTERFLY HEARTS</td>\n",
       "      <td>2</td>\n",
       "      <td>10/17/2011 15:06</td>\n",
       "      <td>1.45</td>\n",
       "      <td>17841.0</td>\n",
       "      <td>United Kingdom</td>\n",
       "    </tr>\n",
       "    <tr>\n",
       "      <th>526679</th>\n",
       "      <td>580675</td>\n",
       "      <td>21877</td>\n",
       "      <td>HOME SWEET HOME MUG</td>\n",
       "      <td>12</td>\n",
       "      <td>12/5/2011 14:35</td>\n",
       "      <td>1.65</td>\n",
       "      <td>15640.0</td>\n",
       "      <td>United Kingdom</td>\n",
       "    </tr>\n",
       "  </tbody>\n",
       "</table>\n",
       "</div>"
      ],
      "text/plain": [
       "       InvoiceNo StockCode                          Description  Quantity  \\\n",
       "277749    561192     23029      DRAWER KNOB CRACKLE GLAZE GREEN         6   \n",
       "133887    547803     22921                  HERB MARKER CHIVES         12   \n",
       "204648    554682     21165        BEWARE OF THE CAT METAL SIGN          3   \n",
       "69541     541971    90214B            LETTER \"B\" BLING KEY RING         1   \n",
       "162315    550500     22771  CLEAR DRAWER KNOB ACRYLIC EDWARDIAN         6   \n",
       "196206    553831     82484    WOOD BLACK BOARD ANT WHITE FINISH         6   \n",
       "187239    552956     23155  KNICKERBOCKERGLORY MAGNET ASSORTED         12   \n",
       "126017    547063     22729          ALARM CLOCK BAKELIKE ORANGE         1   \n",
       "402427    571498     22147           FELTCRAFT BUTTERFLY HEARTS         2   \n",
       "526679    580675     21877                  HOME SWEET HOME MUG        12   \n",
       "\n",
       "             InvoiceDate  UnitPrice  CustomerID          Country  \n",
       "277749   7/25/2011 13:45       1.65     16033.0   United Kingdom  \n",
       "133887   3/25/2011 13:23       0.65     13662.0   United Kingdom  \n",
       "204648   5/25/2011 16:08       1.69     14085.0   United Kingdom  \n",
       "69541    1/24/2011 13:48       0.83         NaN   United Kingdom  \n",
       "162315   4/18/2011 15:26       2.46         NaN   United Kingdom  \n",
       "196206   5/19/2011 11:36       7.95     14442.0  Channel Islands  \n",
       "187239   5/12/2011 12:34       0.83     12431.0        Australia  \n",
       "126017   3/20/2011 13:33       3.75     14769.0   United Kingdom  \n",
       "402427  10/17/2011 15:06       1.45     17841.0   United Kingdom  \n",
       "526679   12/5/2011 14:35       1.65     15640.0   United Kingdom  "
      ]
     },
     "execution_count": 4,
     "metadata": {},
     "output_type": "execute_result"
    }
   ],
   "source": [
    "df.sample(10)"
   ]
  },
  {
   "cell_type": "code",
   "execution_count": 5,
   "id": "e60f9e10",
   "metadata": {
    "execution": {
     "iopub.execute_input": "2023-08-18T10:44:18.409922Z",
     "iopub.status.busy": "2023-08-18T10:44:18.409499Z",
     "iopub.status.idle": "2023-08-18T10:44:18.416715Z",
     "shell.execute_reply": "2023-08-18T10:44:18.415509Z"
    },
    "papermill": {
     "duration": 0.031421,
     "end_time": "2023-08-18T10:44:18.419216",
     "exception": false,
     "start_time": "2023-08-18T10:44:18.387795",
     "status": "completed"
    },
    "tags": []
   },
   "outputs": [
    {
     "data": {
      "text/plain": [
       "(541909, 8)"
      ]
     },
     "execution_count": 5,
     "metadata": {},
     "output_type": "execute_result"
    }
   ],
   "source": [
    "df.shape"
   ]
  },
  {
   "cell_type": "code",
   "execution_count": 6,
   "id": "ec6b02e2",
   "metadata": {
    "execution": {
     "iopub.execute_input": "2023-08-18T10:44:18.462901Z",
     "iopub.status.busy": "2023-08-18T10:44:18.462471Z",
     "iopub.status.idle": "2023-08-18T10:44:19.355180Z",
     "shell.execute_reply": "2023-08-18T10:44:19.353856Z"
    },
    "papermill": {
     "duration": 0.918545,
     "end_time": "2023-08-18T10:44:19.358219",
     "exception": false,
     "start_time": "2023-08-18T10:44:18.439674",
     "status": "completed"
    },
    "tags": []
   },
   "outputs": [
    {
     "name": "stdout",
     "output_type": "stream",
     "text": [
      "<class 'pandas.core.frame.DataFrame'>\n",
      "RangeIndex: 541909 entries, 0 to 541908\n",
      "Data columns (total 8 columns):\n",
      " #   Column       Non-Null Count   Dtype  \n",
      "---  ------       --------------   -----  \n",
      " 0   InvoiceNo    541909 non-null  object \n",
      " 1   StockCode    541909 non-null  object \n",
      " 2   Description  540455 non-null  object \n",
      " 3   Quantity     541909 non-null  int64  \n",
      " 4   InvoiceDate  541909 non-null  object \n",
      " 5   UnitPrice    541909 non-null  float64\n",
      " 6   CustomerID   406829 non-null  float64\n",
      " 7   Country      541909 non-null  object \n",
      "dtypes: float64(2), int64(1), object(5)\n",
      "memory usage: 33.1+ MB\n"
     ]
    }
   ],
   "source": [
    "df.info()"
   ]
  },
  {
   "cell_type": "code",
   "execution_count": 7,
   "id": "fa04538b",
   "metadata": {
    "execution": {
     "iopub.execute_input": "2023-08-18T10:44:19.403058Z",
     "iopub.status.busy": "2023-08-18T10:44:19.402627Z",
     "iopub.status.idle": "2023-08-18T10:44:19.501639Z",
     "shell.execute_reply": "2023-08-18T10:44:19.500450Z"
    },
    "papermill": {
     "duration": 0.12476,
     "end_time": "2023-08-18T10:44:19.504254",
     "exception": false,
     "start_time": "2023-08-18T10:44:19.379494",
     "status": "completed"
    },
    "tags": []
   },
   "outputs": [
    {
     "data": {
      "text/html": [
       "<div>\n",
       "<style scoped>\n",
       "    .dataframe tbody tr th:only-of-type {\n",
       "        vertical-align: middle;\n",
       "    }\n",
       "\n",
       "    .dataframe tbody tr th {\n",
       "        vertical-align: top;\n",
       "    }\n",
       "\n",
       "    .dataframe thead th {\n",
       "        text-align: right;\n",
       "    }\n",
       "</style>\n",
       "<table border=\"1\" class=\"dataframe\">\n",
       "  <thead>\n",
       "    <tr style=\"text-align: right;\">\n",
       "      <th></th>\n",
       "      <th>Quantity</th>\n",
       "      <th>UnitPrice</th>\n",
       "      <th>CustomerID</th>\n",
       "    </tr>\n",
       "  </thead>\n",
       "  <tbody>\n",
       "    <tr>\n",
       "      <th>count</th>\n",
       "      <td>541909.000000</td>\n",
       "      <td>541909.000000</td>\n",
       "      <td>406829.000000</td>\n",
       "    </tr>\n",
       "    <tr>\n",
       "      <th>mean</th>\n",
       "      <td>9.552250</td>\n",
       "      <td>4.611114</td>\n",
       "      <td>15287.690570</td>\n",
       "    </tr>\n",
       "    <tr>\n",
       "      <th>std</th>\n",
       "      <td>218.081158</td>\n",
       "      <td>96.759853</td>\n",
       "      <td>1713.600303</td>\n",
       "    </tr>\n",
       "    <tr>\n",
       "      <th>min</th>\n",
       "      <td>-80995.000000</td>\n",
       "      <td>-11062.060000</td>\n",
       "      <td>12346.000000</td>\n",
       "    </tr>\n",
       "    <tr>\n",
       "      <th>25%</th>\n",
       "      <td>1.000000</td>\n",
       "      <td>1.250000</td>\n",
       "      <td>13953.000000</td>\n",
       "    </tr>\n",
       "    <tr>\n",
       "      <th>50%</th>\n",
       "      <td>3.000000</td>\n",
       "      <td>2.080000</td>\n",
       "      <td>15152.000000</td>\n",
       "    </tr>\n",
       "    <tr>\n",
       "      <th>75%</th>\n",
       "      <td>10.000000</td>\n",
       "      <td>4.130000</td>\n",
       "      <td>16791.000000</td>\n",
       "    </tr>\n",
       "    <tr>\n",
       "      <th>max</th>\n",
       "      <td>80995.000000</td>\n",
       "      <td>38970.000000</td>\n",
       "      <td>18287.000000</td>\n",
       "    </tr>\n",
       "  </tbody>\n",
       "</table>\n",
       "</div>"
      ],
      "text/plain": [
       "            Quantity      UnitPrice     CustomerID\n",
       "count  541909.000000  541909.000000  406829.000000\n",
       "mean        9.552250       4.611114   15287.690570\n",
       "std       218.081158      96.759853    1713.600303\n",
       "min    -80995.000000  -11062.060000   12346.000000\n",
       "25%         1.000000       1.250000   13953.000000\n",
       "50%         3.000000       2.080000   15152.000000\n",
       "75%        10.000000       4.130000   16791.000000\n",
       "max     80995.000000   38970.000000   18287.000000"
      ]
     },
     "execution_count": 7,
     "metadata": {},
     "output_type": "execute_result"
    }
   ],
   "source": [
    "df.describe()"
   ]
  },
  {
   "cell_type": "markdown",
   "id": "fa810660",
   "metadata": {
    "papermill": {
     "duration": 0.020377,
     "end_time": "2023-08-18T10:44:19.545303",
     "exception": false,
     "start_time": "2023-08-18T10:44:19.524926",
     "status": "completed"
    },
    "tags": []
   },
   "source": [
    "> **The Quantity and Unit price can't be practically be negative, so lets drop the negative values**"
   ]
  },
  {
   "cell_type": "code",
   "execution_count": 8,
   "id": "ef057d7d",
   "metadata": {
    "execution": {
     "iopub.execute_input": "2023-08-18T10:44:19.588398Z",
     "iopub.status.busy": "2023-08-18T10:44:19.587997Z",
     "iopub.status.idle": "2023-08-18T10:44:19.723473Z",
     "shell.execute_reply": "2023-08-18T10:44:19.722183Z"
    },
    "papermill": {
     "duration": 0.159943,
     "end_time": "2023-08-18T10:44:19.726169",
     "exception": false,
     "start_time": "2023-08-18T10:44:19.566226",
     "status": "completed"
    },
    "tags": []
   },
   "outputs": [],
   "source": [
    "df=df[df['Quantity']>0]\n",
    "df=df[df['UnitPrice']>0]"
   ]
  },
  {
   "cell_type": "code",
   "execution_count": 9,
   "id": "bf0514a3",
   "metadata": {
    "execution": {
     "iopub.execute_input": "2023-08-18T10:44:19.775874Z",
     "iopub.status.busy": "2023-08-18T10:44:19.775317Z",
     "iopub.status.idle": "2023-08-18T10:44:20.646779Z",
     "shell.execute_reply": "2023-08-18T10:44:20.644996Z"
    },
    "papermill": {
     "duration": 0.900607,
     "end_time": "2023-08-18T10:44:20.650455",
     "exception": false,
     "start_time": "2023-08-18T10:44:19.749848",
     "status": "completed"
    },
    "tags": []
   },
   "outputs": [
    {
     "data": {
      "text/plain": [
       "InvoiceNo           0\n",
       "StockCode           0\n",
       "Description         0\n",
       "Quantity            0\n",
       "InvoiceDate         0\n",
       "UnitPrice           0\n",
       "CustomerID     132220\n",
       "Country             0\n",
       "dtype: int64"
      ]
     },
     "execution_count": 9,
     "metadata": {},
     "output_type": "execute_result"
    }
   ],
   "source": [
    "df.isnull().sum()"
   ]
  },
  {
   "cell_type": "code",
   "execution_count": 10,
   "id": "27401d00",
   "metadata": {
    "execution": {
     "iopub.execute_input": "2023-08-18T10:44:20.693787Z",
     "iopub.status.busy": "2023-08-18T10:44:20.693364Z",
     "iopub.status.idle": "2023-08-18T10:44:20.779064Z",
     "shell.execute_reply": "2023-08-18T10:44:20.777803Z"
    },
    "papermill": {
     "duration": 0.110739,
     "end_time": "2023-08-18T10:44:20.781938",
     "exception": false,
     "start_time": "2023-08-18T10:44:20.671199",
     "status": "completed"
    },
    "tags": []
   },
   "outputs": [
    {
     "data": {
      "text/plain": [
       "4026"
      ]
     },
     "execution_count": 10,
     "metadata": {},
     "output_type": "execute_result"
    }
   ],
   "source": [
    "df['Description'].nunique()"
   ]
  },
  {
   "cell_type": "code",
   "execution_count": 11,
   "id": "c01219ba",
   "metadata": {
    "execution": {
     "iopub.execute_input": "2023-08-18T10:44:20.828019Z",
     "iopub.status.busy": "2023-08-18T10:44:20.826953Z",
     "iopub.status.idle": "2023-08-18T10:44:20.884341Z",
     "shell.execute_reply": "2023-08-18T10:44:20.882996Z"
    },
    "papermill": {
     "duration": 0.083768,
     "end_time": "2023-08-18T10:44:20.887162",
     "exception": false,
     "start_time": "2023-08-18T10:44:20.803394",
     "status": "completed"
    },
    "tags": []
   },
   "outputs": [
    {
     "data": {
      "text/plain": [
       "3922"
      ]
     },
     "execution_count": 11,
     "metadata": {},
     "output_type": "execute_result"
    }
   ],
   "source": [
    "df['StockCode'].nunique()"
   ]
  },
  {
   "cell_type": "code",
   "execution_count": 12,
   "id": "b5421aee",
   "metadata": {
    "execution": {
     "iopub.execute_input": "2023-08-18T10:44:20.932318Z",
     "iopub.status.busy": "2023-08-18T10:44:20.931913Z",
     "iopub.status.idle": "2023-08-18T10:44:21.172411Z",
     "shell.execute_reply": "2023-08-18T10:44:21.170523Z"
    },
    "papermill": {
     "duration": 0.267748,
     "end_time": "2023-08-18T10:44:21.175654",
     "exception": false,
     "start_time": "2023-08-18T10:44:20.907906",
     "status": "completed"
    },
    "tags": []
   },
   "outputs": [
    {
     "data": {
      "text/plain": [
       "Description\n",
       "METAL SIGN,CUPCAKE SINGLE HOOK         6\n",
       "PINK FAIRY CAKE CHILDRENS APRON        2\n",
       "CHOCOLATE 3 WICK MORRIS BOX CANDLE     2\n",
       "SET OF 4 POLKADOT COASTERS             2\n",
       "SET OF 4 POLKADOT PLACEMATS            2\n",
       "                                      ..\n",
       "FRESHWATER PEARL BRACELET GOLD         1\n",
       "FRESHWATER PEARL BRACELET IVORY        1\n",
       "FRIDGE MAGNETS LA VIE EN ROSE          1\n",
       "FRIDGE MAGNETS LES ENFANTS ASSORTED    1\n",
       "ZINC WIRE SWEETHEART LETTER TRAY       1\n",
       "Name: StockCode, Length: 4026, dtype: int64"
      ]
     },
     "execution_count": 12,
     "metadata": {},
     "output_type": "execute_result"
    }
   ],
   "source": [
    "df.groupby('Description')['StockCode'].nunique().sort_values(ascending=False)"
   ]
  },
  {
   "cell_type": "code",
   "execution_count": 13,
   "id": "efcc1768",
   "metadata": {
    "execution": {
     "iopub.execute_input": "2023-08-18T10:44:21.225020Z",
     "iopub.status.busy": "2023-08-18T10:44:21.223337Z",
     "iopub.status.idle": "2023-08-18T10:44:21.230690Z",
     "shell.execute_reply": "2023-08-18T10:44:21.228943Z"
    },
    "papermill": {
     "duration": 0.03622,
     "end_time": "2023-08-18T10:44:21.233747",
     "exception": false,
     "start_time": "2023-08-18T10:44:21.197527",
     "status": "completed"
    },
    "tags": []
   },
   "outputs": [],
   "source": [
    "\n",
    "#for stockcode in df['StockCode'].unique():\n",
    " #   stockcode_f=df[df['StockCode']==stockcode]['Description'].unique()[0]\n",
    "  #  df.loc[df['StockCode']==stockcode,'Description']=stockcode_f"
   ]
  },
  {
   "cell_type": "code",
   "execution_count": 14,
   "id": "9b720041",
   "metadata": {
    "execution": {
     "iopub.execute_input": "2023-08-18T10:44:21.281633Z",
     "iopub.status.busy": "2023-08-18T10:44:21.281234Z",
     "iopub.status.idle": "2023-08-18T10:44:21.286347Z",
     "shell.execute_reply": "2023-08-18T10:44:21.284971Z"
    },
    "papermill": {
     "duration": 0.032167,
     "end_time": "2023-08-18T10:44:21.288981",
     "exception": false,
     "start_time": "2023-08-18T10:44:21.256814",
     "status": "completed"
    },
    "tags": []
   },
   "outputs": [],
   "source": [
    "#for description in df['Description'].unique():\n",
    " #   if df[df['Description']==description]['StockCode'].nunique()>1:\n",
    "  #      stockcode_f=df[df['Description']==description]['StockCode'].unique()[0]\n",
    "   #     df.loc[df['Description']==description,'StockCode']=stockcode_f"
   ]
  },
  {
   "cell_type": "markdown",
   "id": "2ad8d907",
   "metadata": {
    "papermill": {
     "duration": 0.022152,
     "end_time": "2023-08-18T10:44:21.334092",
     "exception": false,
     "start_time": "2023-08-18T10:44:21.311940",
     "status": "completed"
    },
    "tags": []
   },
   "source": [
    "# Checking for Duplicates"
   ]
  },
  {
   "cell_type": "code",
   "execution_count": 15,
   "id": "0c3635d1",
   "metadata": {
    "execution": {
     "iopub.execute_input": "2023-08-18T10:44:21.382928Z",
     "iopub.status.busy": "2023-08-18T10:44:21.382480Z",
     "iopub.status.idle": "2023-08-18T10:44:21.600002Z",
     "shell.execute_reply": "2023-08-18T10:44:21.598465Z"
    },
    "papermill": {
     "duration": 0.244103,
     "end_time": "2023-08-18T10:44:21.602844",
     "exception": false,
     "start_time": "2023-08-18T10:44:21.358741",
     "status": "completed"
    },
    "tags": []
   },
   "outputs": [
    {
     "data": {
      "text/html": [
       "<div>\n",
       "<style scoped>\n",
       "    .dataframe tbody tr th:only-of-type {\n",
       "        vertical-align: middle;\n",
       "    }\n",
       "\n",
       "    .dataframe tbody tr th {\n",
       "        vertical-align: top;\n",
       "    }\n",
       "\n",
       "    .dataframe thead th {\n",
       "        text-align: right;\n",
       "    }\n",
       "</style>\n",
       "<table border=\"1\" class=\"dataframe\">\n",
       "  <thead>\n",
       "    <tr style=\"text-align: right;\">\n",
       "      <th></th>\n",
       "      <th>InvoiceNo</th>\n",
       "      <th>StockCode</th>\n",
       "      <th>Description</th>\n",
       "      <th>Quantity</th>\n",
       "      <th>InvoiceDate</th>\n",
       "      <th>UnitPrice</th>\n",
       "      <th>CustomerID</th>\n",
       "      <th>Country</th>\n",
       "    </tr>\n",
       "  </thead>\n",
       "  <tbody>\n",
       "    <tr>\n",
       "      <th>113</th>\n",
       "      <td>536381</td>\n",
       "      <td>71270</td>\n",
       "      <td>PHOTO CLIP LINE</td>\n",
       "      <td>1</td>\n",
       "      <td>12/1/2010 9:41</td>\n",
       "      <td>1.25</td>\n",
       "      <td>15311.0</td>\n",
       "      <td>United Kingdom</td>\n",
       "    </tr>\n",
       "    <tr>\n",
       "      <th>483</th>\n",
       "      <td>536409</td>\n",
       "      <td>90199C</td>\n",
       "      <td>5 STRAND GLASS NECKLACE CRYSTAL</td>\n",
       "      <td>3</td>\n",
       "      <td>12/1/2010 11:45</td>\n",
       "      <td>6.35</td>\n",
       "      <td>17908.0</td>\n",
       "      <td>United Kingdom</td>\n",
       "    </tr>\n",
       "    <tr>\n",
       "      <th>485</th>\n",
       "      <td>536409</td>\n",
       "      <td>22111</td>\n",
       "      <td>SCOTTIE DOG HOT WATER BOTTLE</td>\n",
       "      <td>1</td>\n",
       "      <td>12/1/2010 11:45</td>\n",
       "      <td>4.95</td>\n",
       "      <td>17908.0</td>\n",
       "      <td>United Kingdom</td>\n",
       "    </tr>\n",
       "    <tr>\n",
       "      <th>489</th>\n",
       "      <td>536409</td>\n",
       "      <td>22866</td>\n",
       "      <td>HAND WARMER SCOTTY DOG DESIGN</td>\n",
       "      <td>1</td>\n",
       "      <td>12/1/2010 11:45</td>\n",
       "      <td>2.10</td>\n",
       "      <td>17908.0</td>\n",
       "      <td>United Kingdom</td>\n",
       "    </tr>\n",
       "    <tr>\n",
       "      <th>491</th>\n",
       "      <td>536409</td>\n",
       "      <td>85116</td>\n",
       "      <td>BLACK CANDELABRA T-LIGHT HOLDER</td>\n",
       "      <td>1</td>\n",
       "      <td>12/1/2010 11:45</td>\n",
       "      <td>2.10</td>\n",
       "      <td>17908.0</td>\n",
       "      <td>United Kingdom</td>\n",
       "    </tr>\n",
       "    <tr>\n",
       "      <th>...</th>\n",
       "      <td>...</td>\n",
       "      <td>...</td>\n",
       "      <td>...</td>\n",
       "      <td>...</td>\n",
       "      <td>...</td>\n",
       "      <td>...</td>\n",
       "      <td>...</td>\n",
       "      <td>...</td>\n",
       "    </tr>\n",
       "    <tr>\n",
       "      <th>541656</th>\n",
       "      <td>581538</td>\n",
       "      <td>23318</td>\n",
       "      <td>BOX OF 6 MINI VINTAGE CRACKERS</td>\n",
       "      <td>1</td>\n",
       "      <td>12/9/2011 11:34</td>\n",
       "      <td>2.49</td>\n",
       "      <td>14446.0</td>\n",
       "      <td>United Kingdom</td>\n",
       "    </tr>\n",
       "    <tr>\n",
       "      <th>541659</th>\n",
       "      <td>581538</td>\n",
       "      <td>22899</td>\n",
       "      <td>CHILDREN'S APRON DOLLY GIRL</td>\n",
       "      <td>2</td>\n",
       "      <td>12/9/2011 11:34</td>\n",
       "      <td>2.10</td>\n",
       "      <td>14446.0</td>\n",
       "      <td>United Kingdom</td>\n",
       "    </tr>\n",
       "    <tr>\n",
       "      <th>541666</th>\n",
       "      <td>581538</td>\n",
       "      <td>23343</td>\n",
       "      <td>JUMBO BAG VINTAGE CHRISTMAS</td>\n",
       "      <td>1</td>\n",
       "      <td>12/9/2011 11:34</td>\n",
       "      <td>2.08</td>\n",
       "      <td>14446.0</td>\n",
       "      <td>United Kingdom</td>\n",
       "    </tr>\n",
       "    <tr>\n",
       "      <th>541674</th>\n",
       "      <td>581538</td>\n",
       "      <td>35004B</td>\n",
       "      <td>SET OF 3 BLACK FLYING DUCKS</td>\n",
       "      <td>2</td>\n",
       "      <td>12/9/2011 11:34</td>\n",
       "      <td>5.45</td>\n",
       "      <td>14446.0</td>\n",
       "      <td>United Kingdom</td>\n",
       "    </tr>\n",
       "    <tr>\n",
       "      <th>541684</th>\n",
       "      <td>581538</td>\n",
       "      <td>21194</td>\n",
       "      <td>PINK  HONEYCOMB PAPER FAN</td>\n",
       "      <td>2</td>\n",
       "      <td>12/9/2011 11:34</td>\n",
       "      <td>0.65</td>\n",
       "      <td>14446.0</td>\n",
       "      <td>United Kingdom</td>\n",
       "    </tr>\n",
       "  </tbody>\n",
       "</table>\n",
       "<p>10495 rows × 8 columns</p>\n",
       "</div>"
      ],
      "text/plain": [
       "       InvoiceNo StockCode                      Description  Quantity  \\\n",
       "113       536381     71270                  PHOTO CLIP LINE         1   \n",
       "483       536409    90199C  5 STRAND GLASS NECKLACE CRYSTAL         3   \n",
       "485       536409     22111     SCOTTIE DOG HOT WATER BOTTLE         1   \n",
       "489       536409     22866    HAND WARMER SCOTTY DOG DESIGN         1   \n",
       "491       536409     85116  BLACK CANDELABRA T-LIGHT HOLDER         1   \n",
       "...          ...       ...                              ...       ...   \n",
       "541656    581538     23318   BOX OF 6 MINI VINTAGE CRACKERS         1   \n",
       "541659    581538     22899     CHILDREN'S APRON DOLLY GIRL          2   \n",
       "541666    581538     23343     JUMBO BAG VINTAGE CHRISTMAS          1   \n",
       "541674    581538    35004B      SET OF 3 BLACK FLYING DUCKS         2   \n",
       "541684    581538     21194        PINK  HONEYCOMB PAPER FAN         2   \n",
       "\n",
       "            InvoiceDate  UnitPrice  CustomerID         Country  \n",
       "113      12/1/2010 9:41       1.25     15311.0  United Kingdom  \n",
       "483     12/1/2010 11:45       6.35     17908.0  United Kingdom  \n",
       "485     12/1/2010 11:45       4.95     17908.0  United Kingdom  \n",
       "489     12/1/2010 11:45       2.10     17908.0  United Kingdom  \n",
       "491     12/1/2010 11:45       2.10     17908.0  United Kingdom  \n",
       "...                 ...        ...         ...             ...  \n",
       "541656  12/9/2011 11:34       2.49     14446.0  United Kingdom  \n",
       "541659  12/9/2011 11:34       2.10     14446.0  United Kingdom  \n",
       "541666  12/9/2011 11:34       2.08     14446.0  United Kingdom  \n",
       "541674  12/9/2011 11:34       5.45     14446.0  United Kingdom  \n",
       "541684  12/9/2011 11:34       0.65     14446.0  United Kingdom  \n",
       "\n",
       "[10495 rows x 8 columns]"
      ]
     },
     "execution_count": 15,
     "metadata": {},
     "output_type": "execute_result"
    }
   ],
   "source": [
    "df[df.duplicated(subset=['InvoiceNo','StockCode','InvoiceDate'],keep='last')]"
   ]
  },
  {
   "cell_type": "code",
   "execution_count": 16,
   "id": "6f64d7f4",
   "metadata": {
    "execution": {
     "iopub.execute_input": "2023-08-18T10:44:21.650549Z",
     "iopub.status.busy": "2023-08-18T10:44:21.649880Z",
     "iopub.status.idle": "2023-08-18T10:44:21.864305Z",
     "shell.execute_reply": "2023-08-18T10:44:21.863112Z"
    },
    "papermill": {
     "duration": 0.2416,
     "end_time": "2023-08-18T10:44:21.867236",
     "exception": false,
     "start_time": "2023-08-18T10:44:21.625636",
     "status": "completed"
    },
    "tags": []
   },
   "outputs": [
    {
     "data": {
      "text/html": [
       "<div>\n",
       "<style scoped>\n",
       "    .dataframe tbody tr th:only-of-type {\n",
       "        vertical-align: middle;\n",
       "    }\n",
       "\n",
       "    .dataframe tbody tr th {\n",
       "        vertical-align: top;\n",
       "    }\n",
       "\n",
       "    .dataframe thead th {\n",
       "        text-align: right;\n",
       "    }\n",
       "</style>\n",
       "<table border=\"1\" class=\"dataframe\">\n",
       "  <thead>\n",
       "    <tr style=\"text-align: right;\">\n",
       "      <th></th>\n",
       "      <th>InvoiceNo</th>\n",
       "      <th>StockCode</th>\n",
       "      <th>Description</th>\n",
       "      <th>Quantity</th>\n",
       "      <th>InvoiceDate</th>\n",
       "      <th>UnitPrice</th>\n",
       "      <th>CustomerID</th>\n",
       "      <th>Country</th>\n",
       "    </tr>\n",
       "  </thead>\n",
       "  <tbody>\n",
       "    <tr>\n",
       "      <th>541684</th>\n",
       "      <td>581538</td>\n",
       "      <td>21194</td>\n",
       "      <td>PINK  HONEYCOMB PAPER FAN</td>\n",
       "      <td>2</td>\n",
       "      <td>12/9/2011 11:34</td>\n",
       "      <td>0.65</td>\n",
       "      <td>14446.0</td>\n",
       "      <td>United Kingdom</td>\n",
       "    </tr>\n",
       "    <tr>\n",
       "      <th>541697</th>\n",
       "      <td>581538</td>\n",
       "      <td>21194</td>\n",
       "      <td>PINK  HONEYCOMB PAPER FAN</td>\n",
       "      <td>1</td>\n",
       "      <td>12/9/2011 11:34</td>\n",
       "      <td>0.65</td>\n",
       "      <td>14446.0</td>\n",
       "      <td>United Kingdom</td>\n",
       "    </tr>\n",
       "  </tbody>\n",
       "</table>\n",
       "</div>"
      ],
      "text/plain": [
       "       InvoiceNo StockCode                Description  Quantity  \\\n",
       "541684    581538     21194  PINK  HONEYCOMB PAPER FAN         2   \n",
       "541697    581538     21194  PINK  HONEYCOMB PAPER FAN         1   \n",
       "\n",
       "            InvoiceDate  UnitPrice  CustomerID         Country  \n",
       "541684  12/9/2011 11:34       0.65     14446.0  United Kingdom  \n",
       "541697  12/9/2011 11:34       0.65     14446.0  United Kingdom  "
      ]
     },
     "execution_count": 16,
     "metadata": {},
     "output_type": "execute_result"
    }
   ],
   "source": [
    "df[(df['InvoiceNo']=='581538') & (df['StockCode']=='21194')]"
   ]
  },
  {
   "cell_type": "markdown",
   "id": "b871d479",
   "metadata": {
    "papermill": {
     "duration": 0.021354,
     "end_time": "2023-08-18T10:44:21.910322",
     "exception": false,
     "start_time": "2023-08-18T10:44:21.888968",
     "status": "completed"
    },
    "tags": []
   },
   "source": [
    "Lets Remove The duplicates"
   ]
  },
  {
   "cell_type": "code",
   "execution_count": 17,
   "id": "d0559f45",
   "metadata": {
    "execution": {
     "iopub.execute_input": "2023-08-18T10:44:21.956058Z",
     "iopub.status.busy": "2023-08-18T10:44:21.955000Z",
     "iopub.status.idle": "2023-08-18T10:44:22.237534Z",
     "shell.execute_reply": "2023-08-18T10:44:22.236179Z"
    },
    "papermill": {
     "duration": 0.308509,
     "end_time": "2023-08-18T10:44:22.240523",
     "exception": false,
     "start_time": "2023-08-18T10:44:21.932014",
     "status": "completed"
    },
    "tags": []
   },
   "outputs": [],
   "source": [
    "i=df[df.duplicated(subset=['InvoiceNo','StockCode','InvoiceDate'],keep='last')].index\n",
    "df.drop(i,inplace=True)"
   ]
  },
  {
   "cell_type": "code",
   "execution_count": 18,
   "id": "30284570",
   "metadata": {
    "execution": {
     "iopub.execute_input": "2023-08-18T10:44:22.289493Z",
     "iopub.status.busy": "2023-08-18T10:44:22.289094Z",
     "iopub.status.idle": "2023-08-18T10:44:22.975049Z",
     "shell.execute_reply": "2023-08-18T10:44:22.973601Z"
    },
    "papermill": {
     "duration": 0.714973,
     "end_time": "2023-08-18T10:44:22.978651",
     "exception": false,
     "start_time": "2023-08-18T10:44:22.263678",
     "status": "completed"
    },
    "tags": []
   },
   "outputs": [
    {
     "data": {
      "text/plain": [
       "InvoiceNo      0\n",
       "StockCode      0\n",
       "Description    0\n",
       "Quantity       0\n",
       "InvoiceDate    0\n",
       "UnitPrice      0\n",
       "CustomerID     0\n",
       "Country        0\n",
       "dtype: int64"
      ]
     },
     "execution_count": 18,
     "metadata": {},
     "output_type": "execute_result"
    }
   ],
   "source": [
    "df=df[~df['CustomerID'].isnull()]\n",
    "df.isnull().sum()"
   ]
  },
  {
   "cell_type": "markdown",
   "id": "29b6e962",
   "metadata": {
    "papermill": {
     "duration": 0.021821,
     "end_time": "2023-08-18T10:44:23.024090",
     "exception": false,
     "start_time": "2023-08-18T10:44:23.002269",
     "status": "completed"
    },
    "tags": []
   },
   "source": [
    "# Adding Extra Columns to infer more information"
   ]
  },
  {
   "cell_type": "code",
   "execution_count": 19,
   "id": "44640458",
   "metadata": {
    "execution": {
     "iopub.execute_input": "2023-08-18T10:44:23.071406Z",
     "iopub.status.busy": "2023-08-18T10:44:23.070929Z",
     "iopub.status.idle": "2023-08-18T10:44:23.090038Z",
     "shell.execute_reply": "2023-08-18T10:44:23.087982Z"
    },
    "papermill": {
     "duration": 0.044963,
     "end_time": "2023-08-18T10:44:23.093014",
     "exception": false,
     "start_time": "2023-08-18T10:44:23.048051",
     "status": "completed"
    },
    "tags": []
   },
   "outputs": [],
   "source": [
    "data=df.copy()"
   ]
  },
  {
   "cell_type": "code",
   "execution_count": 20,
   "id": "fde752f9",
   "metadata": {
    "execution": {
     "iopub.execute_input": "2023-08-18T10:44:23.140854Z",
     "iopub.status.busy": "2023-08-18T10:44:23.140381Z",
     "iopub.status.idle": "2023-08-18T10:44:25.259219Z",
     "shell.execute_reply": "2023-08-18T10:44:25.256980Z"
    },
    "papermill": {
     "duration": 2.147569,
     "end_time": "2023-08-18T10:44:25.262407",
     "exception": false,
     "start_time": "2023-08-18T10:44:23.114838",
     "status": "completed"
    },
    "tags": []
   },
   "outputs": [],
   "source": [
    "# GROSS ORDER VALUE\n",
    "data['GOV']=data['Quantity']*data['UnitPrice']\n",
    "\n",
    "data['InvoiceDate']=pd.to_datetime(data['InvoiceDate'])"
   ]
  },
  {
   "cell_type": "code",
   "execution_count": 21,
   "id": "0e3f4d50",
   "metadata": {
    "execution": {
     "iopub.execute_input": "2023-08-18T10:44:25.308857Z",
     "iopub.status.busy": "2023-08-18T10:44:25.308343Z",
     "iopub.status.idle": "2023-08-18T10:44:25.450372Z",
     "shell.execute_reply": "2023-08-18T10:44:25.448817Z"
    },
    "papermill": {
     "duration": 0.168403,
     "end_time": "2023-08-18T10:44:25.453345",
     "exception": false,
     "start_time": "2023-08-18T10:44:25.284942",
     "status": "completed"
    },
    "tags": []
   },
   "outputs": [],
   "source": [
    "#year\n",
    "data['Year']=data['InvoiceDate'].dt.year\n",
    "#data['Month']=data['InvoiceDate'].dt.month\n",
    "data['DateYM']=data['InvoiceDate'].dt.to_period('M')\n",
    "data['Day of the week']=data['InvoiceDate'].dt.dayofweek\n"
   ]
  },
  {
   "cell_type": "code",
   "execution_count": 22,
   "id": "afa1ef09",
   "metadata": {
    "execution": {
     "iopub.execute_input": "2023-08-18T10:44:25.504261Z",
     "iopub.status.busy": "2023-08-18T10:44:25.502754Z",
     "iopub.status.idle": "2023-08-18T10:44:25.550156Z",
     "shell.execute_reply": "2023-08-18T10:44:25.549189Z"
    },
    "papermill": {
     "duration": 0.074331,
     "end_time": "2023-08-18T10:44:25.552557",
     "exception": false,
     "start_time": "2023-08-18T10:44:25.478226",
     "status": "completed"
    },
    "tags": []
   },
   "outputs": [
    {
     "data": {
      "text/html": [
       "<div>\n",
       "<style scoped>\n",
       "    .dataframe tbody tr th:only-of-type {\n",
       "        vertical-align: middle;\n",
       "    }\n",
       "\n",
       "    .dataframe tbody tr th {\n",
       "        vertical-align: top;\n",
       "    }\n",
       "\n",
       "    .dataframe thead th {\n",
       "        text-align: right;\n",
       "    }\n",
       "</style>\n",
       "<table border=\"1\" class=\"dataframe\">\n",
       "  <thead>\n",
       "    <tr style=\"text-align: right;\">\n",
       "      <th></th>\n",
       "      <th>InvoiceNo</th>\n",
       "      <th>StockCode</th>\n",
       "      <th>Description</th>\n",
       "      <th>Quantity</th>\n",
       "      <th>InvoiceDate</th>\n",
       "      <th>UnitPrice</th>\n",
       "      <th>CustomerID</th>\n",
       "      <th>Country</th>\n",
       "      <th>GOV</th>\n",
       "      <th>Year</th>\n",
       "      <th>DateYM</th>\n",
       "      <th>Day of the week</th>\n",
       "    </tr>\n",
       "  </thead>\n",
       "  <tbody>\n",
       "    <tr>\n",
       "      <th>403244</th>\n",
       "      <td>571556</td>\n",
       "      <td>23204</td>\n",
       "      <td>CHARLOTTE BAG APPLES DESIGN</td>\n",
       "      <td>10</td>\n",
       "      <td>2011-10-18 09:24:00</td>\n",
       "      <td>0.85</td>\n",
       "      <td>12662.0</td>\n",
       "      <td>Germany</td>\n",
       "      <td>8.50</td>\n",
       "      <td>2011</td>\n",
       "      <td>2011-10</td>\n",
       "      <td>1</td>\n",
       "    </tr>\n",
       "    <tr>\n",
       "      <th>49861</th>\n",
       "      <td>540536</td>\n",
       "      <td>22676</td>\n",
       "      <td>FRENCH BLUE METAL DOOR SIGN 1</td>\n",
       "      <td>3</td>\n",
       "      <td>2011-01-09 14:21:00</td>\n",
       "      <td>1.25</td>\n",
       "      <td>17757.0</td>\n",
       "      <td>United Kingdom</td>\n",
       "      <td>3.75</td>\n",
       "      <td>2011</td>\n",
       "      <td>2011-01</td>\n",
       "      <td>6</td>\n",
       "    </tr>\n",
       "    <tr>\n",
       "      <th>456283</th>\n",
       "      <td>575682</td>\n",
       "      <td>21479</td>\n",
       "      <td>WHITE SKULL HOT WATER BOTTLE</td>\n",
       "      <td>4</td>\n",
       "      <td>2011-11-10 15:37:00</td>\n",
       "      <td>4.25</td>\n",
       "      <td>12826.0</td>\n",
       "      <td>United Kingdom</td>\n",
       "      <td>17.00</td>\n",
       "      <td>2011</td>\n",
       "      <td>2011-11</td>\n",
       "      <td>3</td>\n",
       "    </tr>\n",
       "    <tr>\n",
       "      <th>133288</th>\n",
       "      <td>547772</td>\n",
       "      <td>22063</td>\n",
       "      <td>CERAMIC BOWL WITH STRAWBERRY DESIGN</td>\n",
       "      <td>1</td>\n",
       "      <td>2011-03-25 11:34:00</td>\n",
       "      <td>2.95</td>\n",
       "      <td>17979.0</td>\n",
       "      <td>United Kingdom</td>\n",
       "      <td>2.95</td>\n",
       "      <td>2011</td>\n",
       "      <td>2011-03</td>\n",
       "      <td>4</td>\n",
       "    </tr>\n",
       "  </tbody>\n",
       "</table>\n",
       "</div>"
      ],
      "text/plain": [
       "       InvoiceNo StockCode                          Description  Quantity  \\\n",
       "403244    571556     23204          CHARLOTTE BAG APPLES DESIGN        10   \n",
       "49861     540536     22676        FRENCH BLUE METAL DOOR SIGN 1         3   \n",
       "456283    575682     21479        WHITE SKULL HOT WATER BOTTLE          4   \n",
       "133288    547772     22063  CERAMIC BOWL WITH STRAWBERRY DESIGN         1   \n",
       "\n",
       "               InvoiceDate  UnitPrice  CustomerID         Country    GOV  \\\n",
       "403244 2011-10-18 09:24:00       0.85     12662.0         Germany   8.50   \n",
       "49861  2011-01-09 14:21:00       1.25     17757.0  United Kingdom   3.75   \n",
       "456283 2011-11-10 15:37:00       4.25     12826.0  United Kingdom  17.00   \n",
       "133288 2011-03-25 11:34:00       2.95     17979.0  United Kingdom   2.95   \n",
       "\n",
       "        Year   DateYM  Day of the week  \n",
       "403244  2011  2011-10                1  \n",
       "49861   2011  2011-01                6  \n",
       "456283  2011  2011-11                3  \n",
       "133288  2011  2011-03                4  "
      ]
     },
     "execution_count": 22,
     "metadata": {},
     "output_type": "execute_result"
    }
   ],
   "source": [
    "data.sample(4)\n"
   ]
  },
  {
   "cell_type": "code",
   "execution_count": 23,
   "id": "3c9a8f2b",
   "metadata": {
    "execution": {
     "iopub.execute_input": "2023-08-18T10:44:25.602636Z",
     "iopub.status.busy": "2023-08-18T10:44:25.601970Z",
     "iopub.status.idle": "2023-08-18T10:44:25.706195Z",
     "shell.execute_reply": "2023-08-18T10:44:25.705039Z"
    },
    "papermill": {
     "duration": 0.133456,
     "end_time": "2023-08-18T10:44:25.708800",
     "exception": false,
     "start_time": "2023-08-18T10:44:25.575344",
     "status": "completed"
    },
    "tags": []
   },
   "outputs": [
    {
     "data": {
      "text/html": [
       "<div>\n",
       "<style scoped>\n",
       "    .dataframe tbody tr th:only-of-type {\n",
       "        vertical-align: middle;\n",
       "    }\n",
       "\n",
       "    .dataframe tbody tr th {\n",
       "        vertical-align: top;\n",
       "    }\n",
       "\n",
       "    .dataframe thead th {\n",
       "        text-align: right;\n",
       "    }\n",
       "</style>\n",
       "<table border=\"1\" class=\"dataframe\">\n",
       "  <thead>\n",
       "    <tr style=\"text-align: right;\">\n",
       "      <th></th>\n",
       "      <th>Quantity</th>\n",
       "      <th>UnitPrice</th>\n",
       "      <th>CustomerID</th>\n",
       "      <th>GOV</th>\n",
       "      <th>Year</th>\n",
       "      <th>Day of the week</th>\n",
       "    </tr>\n",
       "  </thead>\n",
       "  <tbody>\n",
       "    <tr>\n",
       "      <th>count</th>\n",
       "      <td>387846.000000</td>\n",
       "      <td>387846.000000</td>\n",
       "      <td>387846.000000</td>\n",
       "      <td>387846.000000</td>\n",
       "      <td>387846.000000</td>\n",
       "      <td>387846.00000</td>\n",
       "    </tr>\n",
       "    <tr>\n",
       "      <th>mean</th>\n",
       "      <td>13.233304</td>\n",
       "      <td>3.120177</td>\n",
       "      <td>15282.105372</td>\n",
       "      <td>22.813690</td>\n",
       "      <td>2010.934755</td>\n",
       "      <td>2.60087</td>\n",
       "    </tr>\n",
       "    <tr>\n",
       "      <th>std</th>\n",
       "      <td>181.603506</td>\n",
       "      <td>21.089883</td>\n",
       "      <td>1713.853807</td>\n",
       "      <td>312.923031</td>\n",
       "      <td>0.246958</td>\n",
       "      <td>1.91982</td>\n",
       "    </tr>\n",
       "    <tr>\n",
       "      <th>min</th>\n",
       "      <td>1.000000</td>\n",
       "      <td>0.001000</td>\n",
       "      <td>12346.000000</td>\n",
       "      <td>0.001000</td>\n",
       "      <td>2010.000000</td>\n",
       "      <td>0.00000</td>\n",
       "    </tr>\n",
       "    <tr>\n",
       "      <th>25%</th>\n",
       "      <td>2.000000</td>\n",
       "      <td>1.250000</td>\n",
       "      <td>13941.000000</td>\n",
       "      <td>4.950000</td>\n",
       "      <td>2011.000000</td>\n",
       "      <td>1.00000</td>\n",
       "    </tr>\n",
       "    <tr>\n",
       "      <th>50%</th>\n",
       "      <td>6.000000</td>\n",
       "      <td>1.950000</td>\n",
       "      <td>15145.000000</td>\n",
       "      <td>12.500000</td>\n",
       "      <td>2011.000000</td>\n",
       "      <td>2.00000</td>\n",
       "    </tr>\n",
       "    <tr>\n",
       "      <th>75%</th>\n",
       "      <td>12.000000</td>\n",
       "      <td>3.750000</td>\n",
       "      <td>16790.000000</td>\n",
       "      <td>19.800000</td>\n",
       "      <td>2011.000000</td>\n",
       "      <td>4.00000</td>\n",
       "    </tr>\n",
       "    <tr>\n",
       "      <th>max</th>\n",
       "      <td>80995.000000</td>\n",
       "      <td>8142.750000</td>\n",
       "      <td>18287.000000</td>\n",
       "      <td>168469.600000</td>\n",
       "      <td>2011.000000</td>\n",
       "      <td>6.00000</td>\n",
       "    </tr>\n",
       "  </tbody>\n",
       "</table>\n",
       "</div>"
      ],
      "text/plain": [
       "            Quantity      UnitPrice     CustomerID            GOV  \\\n",
       "count  387846.000000  387846.000000  387846.000000  387846.000000   \n",
       "mean       13.233304       3.120177   15282.105372      22.813690   \n",
       "std       181.603506      21.089883    1713.853807     312.923031   \n",
       "min         1.000000       0.001000   12346.000000       0.001000   \n",
       "25%         2.000000       1.250000   13941.000000       4.950000   \n",
       "50%         6.000000       1.950000   15145.000000      12.500000   \n",
       "75%        12.000000       3.750000   16790.000000      19.800000   \n",
       "max     80995.000000    8142.750000   18287.000000  168469.600000   \n",
       "\n",
       "                Year  Day of the week  \n",
       "count  387846.000000     387846.00000  \n",
       "mean     2010.934755          2.60087  \n",
       "std         0.246958          1.91982  \n",
       "min      2010.000000          0.00000  \n",
       "25%      2011.000000          1.00000  \n",
       "50%      2011.000000          2.00000  \n",
       "75%      2011.000000          4.00000  \n",
       "max      2011.000000          6.00000  "
      ]
     },
     "execution_count": 23,
     "metadata": {},
     "output_type": "execute_result"
    }
   ],
   "source": [
    "data.describe()"
   ]
  },
  {
   "cell_type": "code",
   "execution_count": 24,
   "id": "bd3f6130",
   "metadata": {
    "execution": {
     "iopub.execute_input": "2023-08-18T10:44:25.756249Z",
     "iopub.status.busy": "2023-08-18T10:44:25.755543Z",
     "iopub.status.idle": "2023-08-18T10:44:26.824936Z",
     "shell.execute_reply": "2023-08-18T10:44:26.823041Z"
    },
    "papermill": {
     "duration": 1.096419,
     "end_time": "2023-08-18T10:44:26.827690",
     "exception": false,
     "start_time": "2023-08-18T10:44:25.731271",
     "status": "completed"
    },
    "tags": []
   },
   "outputs": [
    {
     "data": {
      "text/plain": [
       "<Axes: ylabel='GOV'>"
      ]
     },
     "execution_count": 24,
     "metadata": {},
     "output_type": "execute_result"
    },
    {
     "data": {
      "image/png": "[encoded data removed]",
      "text/plain": [
       "<Figure size 2000x500 with 3 Axes>"
      ]
     },
     "metadata": {},
     "output_type": "display_data"
    }
   ],
   "source": [
    "fig = plt.figure(figsize = (20,5))\n",
    "fig.suptitle(\"Visualisation of outliers\",size=20)\n",
    "\n",
    "axes = fig.add_subplot(1, 3, 1)\n",
    "sns.boxplot(data=data,y=\"UnitPrice\")\n",
    "\n",
    "axes = fig.add_subplot(1, 3, 2)\n",
    "sns.boxplot(data=data,y=\"Quantity\")\n",
    "\n",
    "axes = fig.add_subplot(1, 3, 3)\n",
    "sns.boxplot(data=data,y=\"GOV\")"
   ]
  },
  {
   "cell_type": "code",
   "execution_count": 25,
   "id": "e538127f",
   "metadata": {
    "execution": {
     "iopub.execute_input": "2023-08-18T10:44:26.878678Z",
     "iopub.status.busy": "2023-08-18T10:44:26.878245Z",
     "iopub.status.idle": "2023-08-18T10:44:26.942775Z",
     "shell.execute_reply": "2023-08-18T10:44:26.940945Z"
    },
    "papermill": {
     "duration": 0.092748,
     "end_time": "2023-08-18T10:44:26.946093",
     "exception": false,
     "start_time": "2023-08-18T10:44:26.853345",
     "status": "completed"
    },
    "tags": []
   },
   "outputs": [],
   "source": [
    "from scipy import stats\n",
    "data= data[(np.abs(stats.zscore(data[[\"GOV\"]])) < 2).all(axis=1)]"
   ]
  },
  {
   "cell_type": "markdown",
   "id": "72fa2178",
   "metadata": {
    "papermill": {
     "duration": 0.023377,
     "end_time": "2023-08-18T10:44:26.993666",
     "exception": false,
     "start_time": "2023-08-18T10:44:26.970289",
     "status": "completed"
    },
    "tags": []
   },
   "source": [
    "#  Exploratory Data Analysis\n",
    "> "
   ]
  },
  {
   "cell_type": "markdown",
   "id": "cbf35609",
   "metadata": {
    "papermill": {
     "duration": 0.024247,
     "end_time": "2023-08-18T10:44:27.042238",
     "exception": false,
     "start_time": "2023-08-18T10:44:27.017991",
     "status": "completed"
    },
    "tags": []
   },
   "source": [
    "> Sales are at it's peak during **September, October & November** of 2011"
   ]
  },
  {
   "cell_type": "code",
   "execution_count": 26,
   "id": "e1ad6bbf",
   "metadata": {
    "execution": {
     "iopub.execute_input": "2023-08-18T10:44:27.093555Z",
     "iopub.status.busy": "2023-08-18T10:44:27.092365Z",
     "iopub.status.idle": "2023-08-18T10:44:27.596951Z",
     "shell.execute_reply": "2023-08-18T10:44:27.595986Z"
    },
    "papermill": {
     "duration": 0.53367,
     "end_time": "2023-08-18T10:44:27.600289",
     "exception": false,
     "start_time": "2023-08-18T10:44:27.066619",
     "status": "completed"
    },
    "tags": []
   },
   "outputs": [
    {
     "data": {
      "text/plain": [
       "Text(0.5, 1.0, 'Sale Trend')"
      ]
     },
     "execution_count": 26,
     "metadata": {},
     "output_type": "execute_result"
    },
    {
     "data": {
      "image/png": "[encoded data removed]",
      "text/plain": [
       "<Figure size 1000x600 with 1 Axes>"
      ]
     },
     "metadata": {},
     "output_type": "display_data"
    }
   ],
   "source": [
    "plt.figure(figsize=(10,6))\n",
    "data.groupby('DateYM')['GOV'].sum().plot()\n",
    "plt.ylabel('Gross Sale')\n",
    "plt.title('Sale Trend')"
   ]
  },
  {
   "cell_type": "code",
   "execution_count": 27,
   "id": "f5c371f6",
   "metadata": {
    "execution": {
     "iopub.execute_input": "2023-08-18T10:44:27.657124Z",
     "iopub.status.busy": "2023-08-18T10:44:27.656388Z",
     "iopub.status.idle": "2023-08-18T10:44:27.719392Z",
     "shell.execute_reply": "2023-08-18T10:44:27.718398Z"
    },
    "papermill": {
     "duration": 0.094626,
     "end_time": "2023-08-18T10:44:27.722155",
     "exception": false,
     "start_time": "2023-08-18T10:44:27.627529",
     "status": "completed"
    },
    "tags": []
   },
   "outputs": [],
   "source": [
    "grouped=data.groupby('Day of the week').agg({'GOV':'sum','InvoiceNo':'nunique'})\n",
    "grouped=grouped.reset_index().rename(columns={'GOV':'Gross_Sales_day','InvoiceNo':'Total Order/day'})\n",
    "#grouped.loc[len(grouped)]=[5,0,0]\n",
    "#grouped=grouped.sort_values(by='Day of the week')"
   ]
  },
  {
   "cell_type": "code",
   "execution_count": 28,
   "id": "1c865b69",
   "metadata": {
    "execution": {
     "iopub.execute_input": "2023-08-18T10:44:27.776558Z",
     "iopub.status.busy": "2023-08-18T10:44:27.775786Z",
     "iopub.status.idle": "2023-08-18T10:44:27.790828Z",
     "shell.execute_reply": "2023-08-18T10:44:27.788880Z"
    },
    "papermill": {
     "duration": 0.045642,
     "end_time": "2023-08-18T10:44:27.793937",
     "exception": false,
     "start_time": "2023-08-18T10:44:27.748295",
     "status": "completed"
    },
    "tags": []
   },
   "outputs": [
    {
     "data": {
      "text/html": [
       "<div>\n",
       "<style scoped>\n",
       "    .dataframe tbody tr th:only-of-type {\n",
       "        vertical-align: middle;\n",
       "    }\n",
       "\n",
       "    .dataframe tbody tr th {\n",
       "        vertical-align: top;\n",
       "    }\n",
       "\n",
       "    .dataframe thead th {\n",
       "        text-align: right;\n",
       "    }\n",
       "</style>\n",
       "<table border=\"1\" class=\"dataframe\">\n",
       "  <thead>\n",
       "    <tr style=\"text-align: right;\">\n",
       "      <th></th>\n",
       "      <th>Day of the week</th>\n",
       "      <th>Gross_Sales_day</th>\n",
       "      <th>Total Order/day</th>\n",
       "    </tr>\n",
       "  </thead>\n",
       "  <tbody>\n",
       "    <tr>\n",
       "      <th>0</th>\n",
       "      <td>0</td>\n",
       "      <td>1240080.051</td>\n",
       "      <td>2843</td>\n",
       "    </tr>\n",
       "    <tr>\n",
       "      <th>1</th>\n",
       "      <td>1</td>\n",
       "      <td>1372635.541</td>\n",
       "      <td>3151</td>\n",
       "    </tr>\n",
       "    <tr>\n",
       "      <th>2</th>\n",
       "      <td>2</td>\n",
       "      <td>1472591.110</td>\n",
       "      <td>3431</td>\n",
       "    </tr>\n",
       "    <tr>\n",
       "      <th>3</th>\n",
       "      <td>3</td>\n",
       "      <td>1730898.590</td>\n",
       "      <td>4007</td>\n",
       "    </tr>\n",
       "    <tr>\n",
       "      <th>4</th>\n",
       "      <td>4</td>\n",
       "      <td>1171020.201</td>\n",
       "      <td>2803</td>\n",
       "    </tr>\n",
       "    <tr>\n",
       "      <th>5</th>\n",
       "      <td>6</td>\n",
       "      <td>763003.141</td>\n",
       "      <td>2168</td>\n",
       "    </tr>\n",
       "  </tbody>\n",
       "</table>\n",
       "</div>"
      ],
      "text/plain": [
       "   Day of the week  Gross_Sales_day  Total Order/day\n",
       "0                0      1240080.051             2843\n",
       "1                1      1372635.541             3151\n",
       "2                2      1472591.110             3431\n",
       "3                3      1730898.590             4007\n",
       "4                4      1171020.201             2803\n",
       "5                6       763003.141             2168"
      ]
     },
     "execution_count": 28,
     "metadata": {},
     "output_type": "execute_result"
    }
   ],
   "source": [
    "grouped"
   ]
  },
  {
   "cell_type": "code",
   "execution_count": 29,
   "id": "0324f776",
   "metadata": {
    "execution": {
     "iopub.execute_input": "2023-08-18T10:44:27.850278Z",
     "iopub.status.busy": "2023-08-18T10:44:27.849793Z",
     "iopub.status.idle": "2023-08-18T10:44:28.531744Z",
     "shell.execute_reply": "2023-08-18T10:44:28.530178Z"
    },
    "papermill": {
     "duration": 0.713553,
     "end_time": "2023-08-18T10:44:28.534863",
     "exception": false,
     "start_time": "2023-08-18T10:44:27.821310",
     "status": "completed"
    },
    "tags": []
   },
   "outputs": [
    {
     "data": {
      "text/plain": [
       "[<matplotlib.axis.XTick at 0x7c6da16dc940>,\n",
       " <matplotlib.axis.XTick at 0x7c6da16dc970>,\n",
       " <matplotlib.axis.XTick at 0x7c6da16ddab0>,\n",
       " <matplotlib.axis.XTick at 0x7c6da1720790>,\n",
       " <matplotlib.axis.XTick at 0x7c6da1721240>,\n",
       " <matplotlib.axis.XTick at 0x7c6da1721cf0>,\n",
       " <matplotlib.axis.XTick at 0x7c6da17227a0>]"
      ]
     },
     "execution_count": 29,
     "metadata": {},
     "output_type": "execute_result"
    },
    {
     "data": {
      "image/png": "[encoded data removed]",
      "text/plain": [
       "<Figure size 1000x600 with 2 Axes>"
      ]
     },
     "metadata": {},
     "output_type": "display_data"
    }
   ],
   "source": [
    "plt.figure(figsize=(10,6))\n",
    "#ax=data.groupby('Day of the week')['GOV'].sum().plot(color='r',marker='o',label='Gross Sale')\n",
    "ax1=sns.lineplot(data=grouped,x='Day of the week',y='Gross_Sales_day',marker='o',color='b')\n",
    "ax1.legend(['Gross Sales/day' ],loc='upper left')\n",
    "plt.ylabel('Gross Sale',color='b')\n",
    "plt.title('Sale Trend- Weekly Basis')\n",
    "ax1.tick_params(axis='y', labelcolor='b')\n",
    "\n",
    "ax2=ax1.twinx()\n",
    "sns.lineplot(data=grouped,x='Day of the week',y='Total Order/day',ax=ax2,marker='x',color='orange',label='Orders/day')\n",
    "ax2.legend(loc='upper right')\n",
    "#ax2.set_yticks([4,8,12,16,20,24,28,32,36])\n",
    "ax2.tick_params(axis='y', labelcolor='orange')\n",
    "ax2.set_ylabel('Average Orders',color='orange')\n",
    "ax1.set_xticks(ticks=[0,1,2,3,4,5,6],labels=['Mon','Tue','Wed','Thur','Fri','Sat','Sun'])\n",
    "#ax2.set_xticks(ticks=[0,1,2,3,4,5,6],labels=['Mon','Tue','Wed','Thur','Fri','Sat','Sun'])\n"
   ]
  },
  {
   "cell_type": "markdown",
   "id": "10f5c502",
   "metadata": {
    "papermill": {
     "duration": 0.028289,
     "end_time": "2023-08-18T10:44:28.591276",
     "exception": false,
     "start_time": "2023-08-18T10:44:28.562987",
     "status": "completed"
    },
    "tags": []
   },
   "source": [
    "> **The sales are highest on the Wednesday**\n",
    "> > Saturday is holiday as there no orders recieved "
   ]
  },
  {
   "cell_type": "code",
   "execution_count": 30,
   "id": "d0564d2a",
   "metadata": {
    "execution": {
     "iopub.execute_input": "2023-08-18T10:44:28.648055Z",
     "iopub.status.busy": "2023-08-18T10:44:28.646994Z",
     "iopub.status.idle": "2023-08-18T10:44:28.701806Z",
     "shell.execute_reply": "2023-08-18T10:44:28.700490Z"
    },
    "papermill": {
     "duration": 0.087001,
     "end_time": "2023-08-18T10:44:28.704834",
     "exception": false,
     "start_time": "2023-08-18T10:44:28.617833",
     "status": "completed"
    },
    "tags": []
   },
   "outputs": [],
   "source": [
    "grouped=data.groupby('Country').agg({'GOV':'sum'}).reset_index().rename(columns={'GOV':'Gross sales'}).sort_values(by='Gross sales',ascending=False).head(10)"
   ]
  },
  {
   "cell_type": "code",
   "execution_count": 31,
   "id": "7e2bc935",
   "metadata": {
    "execution": {
     "iopub.execute_input": "2023-08-18T10:44:28.758872Z",
     "iopub.status.busy": "2023-08-18T10:44:28.758442Z",
     "iopub.status.idle": "2023-08-18T10:44:29.207874Z",
     "shell.execute_reply": "2023-08-18T10:44:29.206113Z"
    },
    "papermill": {
     "duration": 0.479922,
     "end_time": "2023-08-18T10:44:29.211236",
     "exception": false,
     "start_time": "2023-08-18T10:44:28.731314",
     "status": "completed"
    },
    "tags": []
   },
   "outputs": [
    {
     "data": {
      "image/png": "[encoded data removed]",
      "text/plain": [
       "<Figure size 640x480 with 1 Axes>"
      ]
     },
     "metadata": {},
     "output_type": "display_data"
    }
   ],
   "source": [
    "ax=sns.barplot(grouped,x='Gross sales',y='Country')\n",
    "\n",
    "for i in ax.containers:\n",
    "    ax.bar_label(i,)"
   ]
  },
  {
   "cell_type": "code",
   "execution_count": 32,
   "id": "d43a54a1",
   "metadata": {
    "execution": {
     "iopub.execute_input": "2023-08-18T10:44:29.271507Z",
     "iopub.status.busy": "2023-08-18T10:44:29.271055Z",
     "iopub.status.idle": "2023-08-18T10:44:29.511297Z",
     "shell.execute_reply": "2023-08-18T10:44:29.509790Z"
    },
    "papermill": {
     "duration": 0.274943,
     "end_time": "2023-08-18T10:44:29.514179",
     "exception": false,
     "start_time": "2023-08-18T10:44:29.239236",
     "status": "completed"
    },
    "tags": []
   },
   "outputs": [
    {
     "data": {
      "text/html": [
       "<style type=\"text/css\">\n",
       "#T_5b37c_row0_col4 {\n",
       "  background-color: #ebf3ed;\n",
       "  color: #000000;\n",
       "}\n",
       "#T_5b37c_row1_col4 {\n",
       "  background-color: #c4ddcf;\n",
       "  color: #000000;\n",
       "}\n",
       "#T_5b37c_row2_col4 {\n",
       "  background-color: #d6e7dd;\n",
       "  color: #000000;\n",
       "}\n",
       "#T_5b37c_row3_col4 {\n",
       "  background-color: #2e8b57;\n",
       "  color: #f1f1f1;\n",
       "}\n",
       "#T_5b37c_row4_col4 {\n",
       "  background-color: #509e72;\n",
       "  color: #f1f1f1;\n",
       "}\n",
       "</style>\n",
       "<table id=\"T_5b37c\">\n",
       "  <thead>\n",
       "    <tr>\n",
       "      <th class=\"blank level0\" >&nbsp;</th>\n",
       "      <th id=\"T_5b37c_level0_col0\" class=\"col_heading level0 col0\" >Country</th>\n",
       "      <th id=\"T_5b37c_level0_col1\" class=\"col_heading level0 col1\" >Product</th>\n",
       "      <th id=\"T_5b37c_level0_col2\" class=\"col_heading level0 col2\" >sales</th>\n",
       "      <th id=\"T_5b37c_level0_col3\" class=\"col_heading level0 col3\" >total sales</th>\n",
       "      <th id=\"T_5b37c_level0_col4\" class=\"col_heading level0 col4\" >% of total sales</th>\n",
       "    </tr>\n",
       "  </thead>\n",
       "  <tbody>\n",
       "    <tr>\n",
       "      <th id=\"T_5b37c_level0_row0\" class=\"row_heading level0 row0\" >35</th>\n",
       "      <td id=\"T_5b37c_row0_col0\" class=\"data row0 col0\" >United Kingdom</td>\n",
       "      <td id=\"T_5b37c_row0_col1\" class=\"data row0 col1\" >REGENCY CAKESTAND 3 TIER</td>\n",
       "      <td id=\"T_5b37c_row0_col2\" class=\"data row0 col2\" >86318.650000</td>\n",
       "      <td id=\"T_5b37c_row0_col3\" class=\"data row0 col3\" >6259432.974000</td>\n",
       "      <td id=\"T_5b37c_row0_col4\" class=\"data row0 col4\" >0.013790</td>\n",
       "    </tr>\n",
       "    <tr>\n",
       "      <th id=\"T_5b37c_level0_row1\" class=\"row_heading level0 row1\" >23</th>\n",
       "      <td id=\"T_5b37c_row1_col0\" class=\"data row1 col0\" >Netherlands</td>\n",
       "      <td id=\"T_5b37c_row1_col1\" class=\"data row1 col1\" >ROUND SNACK BOXES SET OF4 WOODLAND </td>\n",
       "      <td id=\"T_5b37c_row1_col2\" class=\"data row1 col2\" >7991.400000</td>\n",
       "      <td id=\"T_5b37c_row1_col3\" class=\"data row1 col3\" >266328.580000</td>\n",
       "      <td id=\"T_5b37c_row1_col4\" class=\"data row1 col4\" >0.030006</td>\n",
       "    </tr>\n",
       "    <tr>\n",
       "      <th id=\"T_5b37c_level0_row2\" class=\"row_heading level0 row2\" >10</th>\n",
       "      <td id=\"T_5b37c_row2_col0\" class=\"data row2 col0\" >EIRE</td>\n",
       "      <td id=\"T_5b37c_row2_col1\" class=\"data row2 col1\" >REGENCY CAKESTAND 3 TIER</td>\n",
       "      <td id=\"T_5b37c_row2_col2\" class=\"data row2 col2\" >5410.350000</td>\n",
       "      <td id=\"T_5b37c_row2_col3\" class=\"data row2 col3\" >240353.870000</td>\n",
       "      <td id=\"T_5b37c_row2_col4\" class=\"data row2 col4\" >0.022510</td>\n",
       "    </tr>\n",
       "    <tr>\n",
       "      <th id=\"T_5b37c_level0_row3\" class=\"row_heading level0 row3\" >14</th>\n",
       "      <td id=\"T_5b37c_row3_col0\" class=\"data row3 col0\" >Germany</td>\n",
       "      <td id=\"T_5b37c_row3_col1\" class=\"data row3 col1\" >POSTAGE</td>\n",
       "      <td id=\"T_5b37c_row3_col2\" class=\"data row3 col2\" >21001.000000</td>\n",
       "      <td id=\"T_5b37c_row3_col3\" class=\"data row3 col3\" >226530.370000</td>\n",
       "      <td id=\"T_5b37c_row3_col4\" class=\"data row3 col4\" >0.092707</td>\n",
       "    </tr>\n",
       "    <tr>\n",
       "      <th id=\"T_5b37c_level0_row4\" class=\"row_heading level0 row4\" >13</th>\n",
       "      <td id=\"T_5b37c_row4_col0\" class=\"data row4 col0\" >France</td>\n",
       "      <td id=\"T_5b37c_row4_col1\" class=\"data row4 col1\" >POSTAGE</td>\n",
       "      <td id=\"T_5b37c_row4_col2\" class=\"data row4 col2\" >15454.000000</td>\n",
       "      <td id=\"T_5b37c_row4_col3\" class=\"data row4 col3\" >196936.880000</td>\n",
       "      <td id=\"T_5b37c_row4_col4\" class=\"data row4 col4\" >0.078472</td>\n",
       "    </tr>\n",
       "  </tbody>\n",
       "</table>\n"
      ],
      "text/plain": [
       "<pandas.io.formats.style.Styler at 0x7c6da1e18190>"
      ]
     },
     "execution_count": 32,
     "metadata": {},
     "output_type": "execute_result"
    }
   ],
   "source": [
    "group=pd.DataFrame(data.groupby(['Country','Description'])['GOV'].sum())\n",
    "best=pd.DataFrame(group.groupby('Country')['GOV'].idxmax().values.tolist(),columns=['Country','Product'])\n",
    "best['sales']=group.groupby('Country')['GOV'].max().values.tolist()\n",
    "best['total sales']=group.groupby('Country')['GOV'].sum().values.tolist()\n",
    "best=best.sort_values(by='total sales',ascending=False).head(5)\n",
    "best['% of total sales']=best['sales']/best['total sales']\n",
    "\n",
    "best.style.background_gradient(cmap=sns.light_palette(\"seagreen\", as_cmap=True), subset=[\"% of total sales\"])"
   ]
  },
  {
   "cell_type": "code",
   "execution_count": 33,
   "id": "885f4100",
   "metadata": {
    "execution": {
     "iopub.execute_input": "2023-08-18T10:44:29.582035Z",
     "iopub.status.busy": "2023-08-18T10:44:29.581446Z",
     "iopub.status.idle": "2023-08-18T10:44:30.819244Z",
     "shell.execute_reply": "2023-08-18T10:44:30.817855Z"
    },
    "papermill": {
     "duration": 1.277347,
     "end_time": "2023-08-18T10:44:30.822163",
     "exception": false,
     "start_time": "2023-08-18T10:44:29.544816",
     "status": "completed"
    },
    "tags": []
   },
   "outputs": [],
   "source": [
    "data.reset_index()\n",
    "number_customers = data.groupby('DateYM')[\"CustomerID\"].nunique()\n",
    "number_customers = pd.DataFrame(data=number_customers).reset_index()\n",
    "\n",
    "\n",
    "number_new_customers = []\n",
    "customers_seen = []\n",
    "for month in data['DateYM'].unique():\n",
    "    customers = data[data[\"DateYM\"] == month].CustomerID.unique()\n",
    "    count=0\n",
    "    for customer in customers:\n",
    "        if customer not in customers_seen:\n",
    "            count+=1\n",
    "            customers_seen.append(customer)\n",
    "    number_new_customers.append((month,count))\n",
    "number_new_customers = pd.DataFrame(number_new_customers,columns=[\"Date\",\"New customers\"])\n",
    "number_new_customers.Date = number_new_customers.Date.dt.to_timestamp()"
   ]
  },
  {
   "cell_type": "code",
   "execution_count": 34,
   "id": "83f57746",
   "metadata": {
    "execution": {
     "iopub.execute_input": "2023-08-18T10:44:30.880871Z",
     "iopub.status.busy": "2023-08-18T10:44:30.880391Z",
     "iopub.status.idle": "2023-08-18T10:44:30.891115Z",
     "shell.execute_reply": "2023-08-18T10:44:30.889645Z"
    },
    "papermill": {
     "duration": 0.042227,
     "end_time": "2023-08-18T10:44:30.893965",
     "exception": false,
     "start_time": "2023-08-18T10:44:30.851738",
     "status": "completed"
    },
    "tags": []
   },
   "outputs": [],
   "source": [
    "dates=[pd.to_datetime(\"2010-12\",format=(\"%Y-%m\"))]\n",
    "dates+=[pd.to_datetime(\"2011-\"+str(month),format=\"%Y-%m\") for month in range(1,13)]\n",
    "number_customers['DateYM']=number_new_customers['Date']\n"
   ]
  },
  {
   "cell_type": "code",
   "execution_count": 35,
   "id": "6b1c1101",
   "metadata": {
    "execution": {
     "iopub.execute_input": "2023-08-18T10:44:30.951573Z",
     "iopub.status.busy": "2023-08-18T10:44:30.951175Z",
     "iopub.status.idle": "2023-08-18T10:44:31.626212Z",
     "shell.execute_reply": "2023-08-18T10:44:31.624673Z"
    },
    "papermill": {
     "duration": 0.707689,
     "end_time": "2023-08-18T10:44:31.629720",
     "exception": false,
     "start_time": "2023-08-18T10:44:30.922031",
     "status": "completed"
    },
    "tags": []
   },
   "outputs": [
    {
     "data": {
      "image/png": "[encoded data removed]",
      "text/plain": [
       "<Figure size 2000x1000 with 1 Axes>"
      ]
     },
     "metadata": {},
     "output_type": "display_data"
    }
   ],
   "source": [
    "fig  = plt.figure(figsize = (20,10)).suptitle('Customers Per Month', fontsize=30)\n",
    "lineplot = sns.lineplot(data=number_new_customers,x=\"Date\", y=\"New customers\", marker=\"o\",linewidth = 2, label=\"New customers shopped\")\n",
    "sns.lineplot(ax=lineplot,data=number_customers,x=\"DateYM\", y=\"CustomerID\", marker=\"o\",linewidth = 2, label=\"Total active customers\")\n",
    "\n",
    "lineplot.set_xlabel(\"Date\",fontsize=20)\n",
    "lineplot.set_ylabel(\"Customers\",fontsize=20)\n",
    "plt.xticks(dates,rotation = 45,fontsize=12)\n",
    "plt.yticks(fontsize=12)\n",
    "plt.grid()"
   ]
  },
  {
   "cell_type": "markdown",
   "id": "09072fcc",
   "metadata": {
    "papermill": {
     "duration": 0.028167,
     "end_time": "2023-08-18T10:44:31.688535",
     "exception": false,
     "start_time": "2023-08-18T10:44:31.660368",
     "status": "completed"
    },
    "tags": []
   },
   "source": [
    "> New Customers shopped on the online ecommerce paltform got stabilised in the 2011 and decreased sharply by the end of the year --> Which **needs attention**\n",
    "\n",
    "> Customers traffic on the platform increased during Sept,Oct,Nov of 2011, which accounts for the rise in total sales"
   ]
  },
  {
   "cell_type": "markdown",
   "id": "2d7e0866",
   "metadata": {
    "papermill": {
     "duration": 0.02984,
     "end_time": "2023-08-18T10:44:31.748030",
     "exception": false,
     "start_time": "2023-08-18T10:44:31.718190",
     "status": "completed"
    },
    "tags": []
   },
   "source": [
    "# RFM - Analysis"
   ]
  },
  {
   "cell_type": "code",
   "execution_count": 36,
   "id": "e65c148e",
   "metadata": {
    "execution": {
     "iopub.execute_input": "2023-08-18T10:44:31.810505Z",
     "iopub.status.busy": "2023-08-18T10:44:31.810084Z",
     "iopub.status.idle": "2023-08-18T10:44:33.484792Z",
     "shell.execute_reply": "2023-08-18T10:44:33.482672Z"
    },
    "papermill": {
     "duration": 1.7112,
     "end_time": "2023-08-18T10:44:33.488558",
     "exception": false,
     "start_time": "2023-08-18T10:44:31.777358",
     "status": "completed"
    },
    "tags": []
   },
   "outputs": [],
   "source": [
    "today_date = dt.datetime(2012, 1, 1)\n",
    "\n",
    "rfm = data.groupby('CustomerID').agg({'InvoiceDate': lambda InvoiceDate: (today_date - InvoiceDate.max()).days,\n",
    "                                     'InvoiceNo'    : lambda InvoiceNo: InvoiceNo.nunique(),\n",
    "                                     'GOV' : lambda TotalPrice: TotalPrice.sum()})\n",
    "\n",
    "rfm.columns = ['recency', 'frequency', 'monetary']"
   ]
  },
  {
   "cell_type": "code",
   "execution_count": 37,
   "id": "b4f0009d",
   "metadata": {
    "execution": {
     "iopub.execute_input": "2023-08-18T10:44:33.578152Z",
     "iopub.status.busy": "2023-08-18T10:44:33.577756Z",
     "iopub.status.idle": "2023-08-18T10:44:33.605249Z",
     "shell.execute_reply": "2023-08-18T10:44:33.604264Z"
    },
    "papermill": {
     "duration": 0.070963,
     "end_time": "2023-08-18T10:44:33.608603",
     "exception": false,
     "start_time": "2023-08-18T10:44:33.537640",
     "status": "completed"
    },
    "tags": []
   },
   "outputs": [],
   "source": [
    "#more days since last purchase 1 (very bad) ; those with fewer days 5 (very good).\n",
    "rfm[\"recency_score\"] = pd.qcut(rfm['recency'], 5, labels=[5, 4, 3, 2, 1])\n",
    "\n",
    "#5 (very good) for those with high purchasing frequency; the ones that were less as 1 (very bad).\n",
    "rfm[\"frequency_score\"] = pd.qcut(rfm['frequency'].rank(method=\"first\"), 5, labels=[1, 2, 3, 4, 5])\n",
    "\n",
    "#5 (very good) for those with a high purchase price;  the fewer purchase price as 1 (very bad).\n",
    "rfm[\"monetary_score\"] = pd.qcut(rfm['monetary'], 5, labels=[1, 2, 3, 4, 5])\n",
    "\n",
    "#we'll not include monetory_score.\n",
    "rfm[\"RFM_SCORE\"] = (rfm['recency_score'].astype(str) +\n",
    "                    rfm['frequency_score'].astype(str))"
   ]
  },
  {
   "cell_type": "code",
   "execution_count": 38,
   "id": "70f5df34",
   "metadata": {
    "execution": {
     "iopub.execute_input": "2023-08-18T10:44:33.687155Z",
     "iopub.status.busy": "2023-08-18T10:44:33.685960Z",
     "iopub.status.idle": "2023-08-18T10:44:33.793882Z",
     "shell.execute_reply": "2023-08-18T10:44:33.792488Z"
    },
    "papermill": {
     "duration": 0.149666,
     "end_time": "2023-08-18T10:44:33.796942",
     "exception": false,
     "start_time": "2023-08-18T10:44:33.647276",
     "status": "completed"
    },
    "tags": []
   },
   "outputs": [
    {
     "data": {
      "text/html": [
       "<div>\n",
       "<style scoped>\n",
       "    .dataframe tbody tr th:only-of-type {\n",
       "        vertical-align: middle;\n",
       "    }\n",
       "\n",
       "    .dataframe tbody tr th {\n",
       "        vertical-align: top;\n",
       "    }\n",
       "\n",
       "    .dataframe thead th {\n",
       "        text-align: right;\n",
       "    }\n",
       "</style>\n",
       "<table border=\"1\" class=\"dataframe\">\n",
       "  <thead>\n",
       "    <tr style=\"text-align: right;\">\n",
       "      <th></th>\n",
       "      <th>CustomerID</th>\n",
       "      <th>recency</th>\n",
       "      <th>frequency</th>\n",
       "      <th>monetary</th>\n",
       "      <th>recency_score</th>\n",
       "      <th>frequency_score</th>\n",
       "      <th>monetary_score</th>\n",
       "      <th>RFM_SCORE</th>\n",
       "      <th>segment</th>\n",
       "    </tr>\n",
       "  </thead>\n",
       "  <tbody>\n",
       "    <tr>\n",
       "      <th>0</th>\n",
       "      <td>12347.0</td>\n",
       "      <td>24</td>\n",
       "      <td>7</td>\n",
       "      <td>4310.00</td>\n",
       "      <td>5</td>\n",
       "      <td>5</td>\n",
       "      <td>5</td>\n",
       "      <td>55</td>\n",
       "      <td>champions</td>\n",
       "    </tr>\n",
       "    <tr>\n",
       "      <th>1</th>\n",
       "      <td>12348.0</td>\n",
       "      <td>97</td>\n",
       "      <td>4</td>\n",
       "      <td>1744.44</td>\n",
       "      <td>2</td>\n",
       "      <td>4</td>\n",
       "      <td>4</td>\n",
       "      <td>24</td>\n",
       "      <td>at_Risk</td>\n",
       "    </tr>\n",
       "    <tr>\n",
       "      <th>2</th>\n",
       "      <td>12349.0</td>\n",
       "      <td>40</td>\n",
       "      <td>1</td>\n",
       "      <td>1757.55</td>\n",
       "      <td>4</td>\n",
       "      <td>1</td>\n",
       "      <td>4</td>\n",
       "      <td>41</td>\n",
       "      <td>need_attention</td>\n",
       "    </tr>\n",
       "    <tr>\n",
       "      <th>3</th>\n",
       "      <td>12350.0</td>\n",
       "      <td>332</td>\n",
       "      <td>1</td>\n",
       "      <td>334.40</td>\n",
       "      <td>1</td>\n",
       "      <td>1</td>\n",
       "      <td>2</td>\n",
       "      <td>11</td>\n",
       "      <td>hibernating</td>\n",
       "    </tr>\n",
       "    <tr>\n",
       "      <th>4</th>\n",
       "      <td>12352.0</td>\n",
       "      <td>58</td>\n",
       "      <td>8</td>\n",
       "      <td>1849.49</td>\n",
       "      <td>3</td>\n",
       "      <td>5</td>\n",
       "      <td>4</td>\n",
       "      <td>35</td>\n",
       "      <td>loyal_customers</td>\n",
       "    </tr>\n",
       "  </tbody>\n",
       "</table>\n",
       "</div>"
      ],
      "text/plain": [
       "   CustomerID  recency  frequency  monetary recency_score frequency_score  \\\n",
       "0     12347.0       24          7   4310.00             5               5   \n",
       "1     12348.0       97          4   1744.44             2               4   \n",
       "2     12349.0       40          1   1757.55             4               1   \n",
       "3     12350.0      332          1    334.40             1               1   \n",
       "4     12352.0       58          8   1849.49             3               5   \n",
       "\n",
       "  monetary_score RFM_SCORE          segment  \n",
       "0              5        55        champions  \n",
       "1              4        24          at_Risk  \n",
       "2              4        41   need_attention  \n",
       "3              2        11      hibernating  \n",
       "4              4        35  loyal_customers  "
      ]
     },
     "execution_count": 38,
     "metadata": {},
     "output_type": "execute_result"
    }
   ],
   "source": [
    "seg_map = {\n",
    "    r'[1-2][1-2]': 'hibernating',\n",
    "    r'[1-2][3-4]': 'at_Risk',\n",
    "    r'[1-2]5': 'cant_loose',\n",
    "    \n",
    "    r'[3-4][1-3]': 'need_attention',\n",
    "    r'[3-4][4-5]': 'loyal_customers',\n",
    "    \n",
    "    r'51': 'new_customers',\n",
    "    r'5[2-3]': 'potential_loyalists',\n",
    "    r'5[4-5]': 'champions'\n",
    "}\n",
    "rfm['segment'] = rfm['RFM_SCORE'].replace(seg_map, regex=True)\n",
    "rfm.reset_index(inplace=True)\n",
    "rfm.head()"
   ]
  },
  {
   "cell_type": "code",
   "execution_count": 39,
   "id": "0304ced7",
   "metadata": {
    "execution": {
     "iopub.execute_input": "2023-08-18T10:44:33.874553Z",
     "iopub.status.busy": "2023-08-18T10:44:33.874052Z",
     "iopub.status.idle": "2023-08-18T10:44:33.896160Z",
     "shell.execute_reply": "2023-08-18T10:44:33.894961Z"
    },
    "papermill": {
     "duration": 0.066825,
     "end_time": "2023-08-18T10:44:33.898885",
     "exception": false,
     "start_time": "2023-08-18T10:44:33.832060",
     "status": "completed"
    },
    "tags": []
   },
   "outputs": [
    {
     "data": {
      "text/html": [
       "<div>\n",
       "<style scoped>\n",
       "    .dataframe tbody tr th:only-of-type {\n",
       "        vertical-align: middle;\n",
       "    }\n",
       "\n",
       "    .dataframe tbody tr th {\n",
       "        vertical-align: top;\n",
       "    }\n",
       "\n",
       "    .dataframe thead th {\n",
       "        text-align: right;\n",
       "    }\n",
       "</style>\n",
       "<table border=\"1\" class=\"dataframe\">\n",
       "  <thead>\n",
       "    <tr style=\"text-align: right;\">\n",
       "      <th></th>\n",
       "      <th>segment</th>\n",
       "      <th>count</th>\n",
       "    </tr>\n",
       "  </thead>\n",
       "  <tbody>\n",
       "    <tr>\n",
       "      <th>0</th>\n",
       "      <td>at_Risk</td>\n",
       "      <td>593</td>\n",
       "    </tr>\n",
       "    <tr>\n",
       "      <th>1</th>\n",
       "      <td>cant_loose</td>\n",
       "      <td>62</td>\n",
       "    </tr>\n",
       "    <tr>\n",
       "      <th>2</th>\n",
       "      <td>champions</td>\n",
       "      <td>655</td>\n",
       "    </tr>\n",
       "    <tr>\n",
       "      <th>3</th>\n",
       "      <td>hibernating</td>\n",
       "      <td>1070</td>\n",
       "    </tr>\n",
       "    <tr>\n",
       "      <th>4</th>\n",
       "      <td>loyal_customers</td>\n",
       "      <td>793</td>\n",
       "    </tr>\n",
       "    <tr>\n",
       "      <th>5</th>\n",
       "      <td>need_attention</td>\n",
       "      <td>909</td>\n",
       "    </tr>\n",
       "    <tr>\n",
       "      <th>6</th>\n",
       "      <td>new_customers</td>\n",
       "      <td>46</td>\n",
       "    </tr>\n",
       "    <tr>\n",
       "      <th>7</th>\n",
       "      <td>potential_loyalists</td>\n",
       "      <td>202</td>\n",
       "    </tr>\n",
       "  </tbody>\n",
       "</table>\n",
       "</div>"
      ],
      "text/plain": [
       "               segment  count\n",
       "0              at_Risk    593\n",
       "1           cant_loose     62\n",
       "2            champions    655\n",
       "3          hibernating   1070\n",
       "4      loyal_customers    793\n",
       "5       need_attention    909\n",
       "6        new_customers     46\n",
       "7  potential_loyalists    202"
      ]
     },
     "execution_count": 39,
     "metadata": {},
     "output_type": "execute_result"
    }
   ],
   "source": [
    "segments_count = rfm.groupby(\"segment\").agg({\"CustomerID\": \"count\"})\n",
    "segments_count.reset_index(inplace=True)\n",
    "segments_count.columns = ['segment', 'count']\n",
    "segments_count.head(9)"
   ]
  },
  {
   "cell_type": "code",
   "execution_count": 40,
   "id": "30e9bdc6",
   "metadata": {
    "execution": {
     "iopub.execute_input": "2023-08-18T10:44:33.963409Z",
     "iopub.status.busy": "2023-08-18T10:44:33.962372Z",
     "iopub.status.idle": "2023-08-18T10:44:34.459579Z",
     "shell.execute_reply": "2023-08-18T10:44:34.458253Z"
    },
    "papermill": {
     "duration": 0.533475,
     "end_time": "2023-08-18T10:44:34.463042",
     "exception": false,
     "start_time": "2023-08-18T10:44:33.929567",
     "status": "completed"
    },
    "tags": []
   },
   "outputs": [
    {
     "data": {
      "image/png": "[encoded data removed]",
      "text/plain": [
       "<Figure size 2000x1000 with 1 Axes>"
      ]
     },
     "metadata": {},
     "output_type": "display_data"
    }
   ],
   "source": [
    "fig  = plt.figure(figsize = (20,10)).suptitle('Custumers Distribution of Segments', fontsize=25)\n",
    "plt.pie(segments_count[\"count\"], labels = segments_count[\"segment\"], autopct='%.0f%%')\n",
    "\n",
    "plt.show()"
   ]
  },
  {
   "cell_type": "code",
   "execution_count": 41,
   "id": "f250e1d8",
   "metadata": {
    "execution": {
     "iopub.execute_input": "2023-08-18T10:44:34.530313Z",
     "iopub.status.busy": "2023-08-18T10:44:34.529184Z",
     "iopub.status.idle": "2023-08-18T10:44:34.565512Z",
     "shell.execute_reply": "2023-08-18T10:44:34.564138Z"
    },
    "papermill": {
     "duration": 0.072824,
     "end_time": "2023-08-18T10:44:34.568299",
     "exception": false,
     "start_time": "2023-08-18T10:44:34.495475",
     "status": "completed"
    },
    "tags": []
   },
   "outputs": [
    {
     "data": {
      "text/html": [
       "<div>\n",
       "<style scoped>\n",
       "    .dataframe tbody tr th:only-of-type {\n",
       "        vertical-align: middle;\n",
       "    }\n",
       "\n",
       "    .dataframe tbody tr th {\n",
       "        vertical-align: top;\n",
       "    }\n",
       "\n",
       "    .dataframe thead tr th {\n",
       "        text-align: left;\n",
       "    }\n",
       "\n",
       "    .dataframe thead tr:last-of-type th {\n",
       "        text-align: right;\n",
       "    }\n",
       "</style>\n",
       "<table border=\"1\" class=\"dataframe\">\n",
       "  <thead>\n",
       "    <tr>\n",
       "      <th></th>\n",
       "      <th colspan=\"3\" halign=\"left\">recency</th>\n",
       "      <th colspan=\"3\" halign=\"left\">frequency</th>\n",
       "      <th colspan=\"3\" halign=\"left\">monetary</th>\n",
       "    </tr>\n",
       "    <tr>\n",
       "      <th></th>\n",
       "      <th>mean</th>\n",
       "      <th>count</th>\n",
       "      <th>max</th>\n",
       "      <th>mean</th>\n",
       "      <th>count</th>\n",
       "      <th>max</th>\n",
       "      <th>mean</th>\n",
       "      <th>count</th>\n",
       "      <th>max</th>\n",
       "    </tr>\n",
       "    <tr>\n",
       "      <th>segment</th>\n",
       "      <th></th>\n",
       "      <th></th>\n",
       "      <th></th>\n",
       "      <th></th>\n",
       "      <th></th>\n",
       "      <th></th>\n",
       "      <th></th>\n",
       "      <th></th>\n",
       "      <th></th>\n",
       "    </tr>\n",
       "  </thead>\n",
       "  <tbody>\n",
       "    <tr>\n",
       "      <th>at_Risk</th>\n",
       "      <td>174.224283</td>\n",
       "      <td>593</td>\n",
       "      <td>395</td>\n",
       "      <td>2.878583</td>\n",
       "      <td>593</td>\n",
       "      <td>6</td>\n",
       "      <td>927.971622</td>\n",
       "      <td>593</td>\n",
       "      <td>11072.67</td>\n",
       "    </tr>\n",
       "    <tr>\n",
       "      <th>cant_loose</th>\n",
       "      <td>154.387097</td>\n",
       "      <td>62</td>\n",
       "      <td>394</td>\n",
       "      <td>8.338710</td>\n",
       "      <td>62</td>\n",
       "      <td>34</td>\n",
       "      <td>2641.932742</td>\n",
       "      <td>62</td>\n",
       "      <td>10254.18</td>\n",
       "    </tr>\n",
       "    <tr>\n",
       "      <th>champions</th>\n",
       "      <td>27.683969</td>\n",
       "      <td>655</td>\n",
       "      <td>36</td>\n",
       "      <td>12.164885</td>\n",
       "      <td>655</td>\n",
       "      <td>208</td>\n",
       "      <td>5798.493328</td>\n",
       "      <td>655</td>\n",
       "      <td>261088.26</td>\n",
       "    </tr>\n",
       "    <tr>\n",
       "      <th>hibernating</th>\n",
       "      <td>238.763551</td>\n",
       "      <td>1070</td>\n",
       "      <td>395</td>\n",
       "      <td>1.098131</td>\n",
       "      <td>1070</td>\n",
       "      <td>2</td>\n",
       "      <td>401.216683</td>\n",
       "      <td>1070</td>\n",
       "      <td>9864.26</td>\n",
       "    </tr>\n",
       "    <tr>\n",
       "      <th>loyal_customers</th>\n",
       "      <td>55.171501</td>\n",
       "      <td>793</td>\n",
       "      <td>93</td>\n",
       "      <td>6.421185</td>\n",
       "      <td>793</td>\n",
       "      <td>61</td>\n",
       "      <td>2684.912158</td>\n",
       "      <td>793</td>\n",
       "      <td>106904.05</td>\n",
       "    </tr>\n",
       "    <tr>\n",
       "      <th>need_attention</th>\n",
       "      <td>62.343234</td>\n",
       "      <td>909</td>\n",
       "      <td>93</td>\n",
       "      <td>1.620462</td>\n",
       "      <td>909</td>\n",
       "      <td>3</td>\n",
       "      <td>585.461155</td>\n",
       "      <td>909</td>\n",
       "      <td>6207.67</td>\n",
       "    </tr>\n",
       "    <tr>\n",
       "      <th>new_customers</th>\n",
       "      <td>29.347826</td>\n",
       "      <td>46</td>\n",
       "      <td>36</td>\n",
       "      <td>1.000000</td>\n",
       "      <td>46</td>\n",
       "      <td>1</td>\n",
       "      <td>288.625652</td>\n",
       "      <td>46</td>\n",
       "      <td>848.55</td>\n",
       "    </tr>\n",
       "    <tr>\n",
       "      <th>potential_loyalists</th>\n",
       "      <td>28.980198</td>\n",
       "      <td>202</td>\n",
       "      <td>36</td>\n",
       "      <td>2.103960</td>\n",
       "      <td>202</td>\n",
       "      <td>3</td>\n",
       "      <td>664.506634</td>\n",
       "      <td>202</td>\n",
       "      <td>3452.73</td>\n",
       "    </tr>\n",
       "  </tbody>\n",
       "</table>\n",
       "</div>"
      ],
      "text/plain": [
       "                        recency             frequency                monetary  \\\n",
       "                           mean count  max       mean count  max         mean   \n",
       "segment                                                                         \n",
       "at_Risk              174.224283   593  395   2.878583   593    6   927.971622   \n",
       "cant_loose           154.387097    62  394   8.338710    62   34  2641.932742   \n",
       "champions             27.683969   655   36  12.164885   655  208  5798.493328   \n",
       "hibernating          238.763551  1070  395   1.098131  1070    2   401.216683   \n",
       "loyal_customers       55.171501   793   93   6.421185   793   61  2684.912158   \n",
       "need_attention        62.343234   909   93   1.620462   909    3   585.461155   \n",
       "new_customers         29.347826    46   36   1.000000    46    1   288.625652   \n",
       "potential_loyalists   28.980198   202   36   2.103960   202    3   664.506634   \n",
       "\n",
       "                                      \n",
       "                    count        max  \n",
       "segment                               \n",
       "at_Risk               593   11072.67  \n",
       "cant_loose             62   10254.18  \n",
       "champions             655  261088.26  \n",
       "hibernating          1070    9864.26  \n",
       "loyal_customers       793  106904.05  \n",
       "need_attention        909    6207.67  \n",
       "new_customers          46     848.55  \n",
       "potential_loyalists   202    3452.73  "
      ]
     },
     "execution_count": 41,
     "metadata": {},
     "output_type": "execute_result"
    }
   ],
   "source": [
    "agg_list=[\"mean\", \"count\", \"max\"]\n",
    "rfm[[\"segment\", \"recency\", \"frequency\", \"monetary\"]].groupby(\"segment\").agg(agg_list)"
   ]
  },
  {
   "cell_type": "markdown",
   "id": "cd2b7d9f",
   "metadata": {
    "papermill": {
     "duration": 0.031619,
     "end_time": "2023-08-18T10:44:34.634244",
     "exception": false,
     "start_time": "2023-08-18T10:44:34.602625",
     "status": "completed"
    },
    "tags": []
   },
   "source": [
    "> There are **19% of Champions & Potential Loyalists** who make the most transactions \n",
    "> > Giving some extra discounts can help to retain them for a longer period\n",
    "\n",
    "> Apparently,there is a segment of **21% which needs attentio**n to increase their frequency of transcation. This can be done by targeted campainging"
   ]
  },
  {
   "cell_type": "markdown",
   "id": "2c0301fc",
   "metadata": {
    "papermill": {
     "duration": 0.032729,
     "end_time": "2023-08-18T10:44:34.698570",
     "exception": false,
     "start_time": "2023-08-18T10:44:34.665841",
     "status": "completed"
    },
    "tags": []
   },
   "source": [
    "# K-Means Clustering :"
   ]
  },
  {
   "cell_type": "code",
   "execution_count": 42,
   "id": "551a5866",
   "metadata": {
    "execution": {
     "iopub.execute_input": "2023-08-18T10:44:34.763449Z",
     "iopub.status.busy": "2023-08-18T10:44:34.763051Z",
     "iopub.status.idle": "2023-08-18T10:44:35.513112Z",
     "shell.execute_reply": "2023-08-18T10:44:35.511086Z"
    },
    "papermill": {
     "duration": 0.786181,
     "end_time": "2023-08-18T10:44:35.516499",
     "exception": false,
     "start_time": "2023-08-18T10:44:34.730318",
     "status": "completed"
    },
    "tags": []
   },
   "outputs": [],
   "source": [
    "df_c=data.groupby('CustomerID').agg({ 'InvoiceDate': lambda InvoiceDate: (today_date - InvoiceDate.max()).days,'InvoiceNo':'nunique'})\n",
    "df_c.columns = ['recency', 'frequency']"
   ]
  },
  {
   "cell_type": "code",
   "execution_count": 43,
   "id": "e2f41aec",
   "metadata": {
    "execution": {
     "iopub.execute_input": "2023-08-18T10:44:35.583975Z",
     "iopub.status.busy": "2023-08-18T10:44:35.583537Z",
     "iopub.status.idle": "2023-08-18T10:44:35.596690Z",
     "shell.execute_reply": "2023-08-18T10:44:35.595439Z"
    },
    "papermill": {
     "duration": 0.050333,
     "end_time": "2023-08-18T10:44:35.599502",
     "exception": false,
     "start_time": "2023-08-18T10:44:35.549169",
     "status": "completed"
    },
    "tags": []
   },
   "outputs": [],
   "source": [
    "std_scaler = StandardScaler()\n",
    "df_scaled = std_scaler.fit_transform(df_c)\n",
    "df_scaled\n",
    "df_scaled = pd.DataFrame(df_scaled,columns=['recency','frequency'])\n",
    "df_scaled[\"CustomerID\"] = df_c.index\n",
    "df_scaled = df_scaled.set_index(\"CustomerID\",drop=True)"
   ]
  },
  {
   "cell_type": "markdown",
   "id": "7a146a88",
   "metadata": {
    "papermill": {
     "duration": 0.031026,
     "end_time": "2023-08-18T10:44:35.661154",
     "exception": false,
     "start_time": "2023-08-18T10:44:35.630128",
     "status": "completed"
    },
    "tags": []
   },
   "source": [
    "**Finding the optimal clusters using elbow method**"
   ]
  },
  {
   "cell_type": "code",
   "execution_count": 44,
   "id": "64714c4b",
   "metadata": {
    "execution": {
     "iopub.execute_input": "2023-08-18T10:44:35.724972Z",
     "iopub.status.busy": "2023-08-18T10:44:35.724469Z",
     "iopub.status.idle": "2023-08-18T10:44:37.314311Z",
     "shell.execute_reply": "2023-08-18T10:44:37.312473Z"
    },
    "papermill": {
     "duration": 1.625298,
     "end_time": "2023-08-18T10:44:37.317146",
     "exception": false,
     "start_time": "2023-08-18T10:44:35.691848",
     "status": "completed"
    },
    "tags": []
   },
   "outputs": [
    {
     "data": {
      "image/png": "[encoded data removed]",
      "text/plain": [
       "<Figure size 800x550 with 1 Axes>"
      ]
     },
     "metadata": {},
     "output_type": "display_data"
    },
    {
     "data": {
      "text/plain": [
       "<Axes: title={'center': 'Distortion Score Elbow for KMeans Clustering'}, xlabel='k', ylabel='distortion score'>"
      ]
     },
     "execution_count": 44,
     "metadata": {},
     "output_type": "execute_result"
    }
   ],
   "source": [
    "from yellowbrick.cluster import KElbowVisualizer\n",
    "model = KMeans()\n",
    "visualizer = KElbowVisualizer(model, k=(1,11), timings= False)\n",
    "visualizer.fit(df_scaled)        \n",
    "visualizer.show()        "
   ]
  },
  {
   "cell_type": "code",
   "execution_count": 45,
   "id": "052d04b6",
   "metadata": {
    "execution": {
     "iopub.execute_input": "2023-08-18T10:44:37.385356Z",
     "iopub.status.busy": "2023-08-18T10:44:37.384448Z",
     "iopub.status.idle": "2023-08-18T10:44:37.491294Z",
     "shell.execute_reply": "2023-08-18T10:44:37.489795Z"
    },
    "papermill": {
     "duration": 0.145247,
     "end_time": "2023-08-18T10:44:37.494559",
     "exception": false,
     "start_time": "2023-08-18T10:44:37.349312",
     "status": "completed"
    },
    "tags": []
   },
   "outputs": [
    {
     "data": {
      "text/html": [
       "<div>\n",
       "<style scoped>\n",
       "    .dataframe tbody tr th:only-of-type {\n",
       "        vertical-align: middle;\n",
       "    }\n",
       "\n",
       "    .dataframe tbody tr th {\n",
       "        vertical-align: top;\n",
       "    }\n",
       "\n",
       "    .dataframe thead th {\n",
       "        text-align: right;\n",
       "    }\n",
       "</style>\n",
       "<table border=\"1\" class=\"dataframe\">\n",
       "  <thead>\n",
       "    <tr style=\"text-align: right;\">\n",
       "      <th></th>\n",
       "      <th>recency</th>\n",
       "      <th>frequency</th>\n",
       "    </tr>\n",
       "  </thead>\n",
       "  <tbody>\n",
       "    <tr>\n",
       "      <th>0</th>\n",
       "      <td>-0.480754</td>\n",
       "      <td>-0.100609</td>\n",
       "    </tr>\n",
       "    <tr>\n",
       "      <th>1</th>\n",
       "      <td>1.559092</td>\n",
       "      <td>-0.353054</td>\n",
       "    </tr>\n",
       "    <tr>\n",
       "      <th>2</th>\n",
       "      <td>-0.910102</td>\n",
       "      <td>16.302255</td>\n",
       "    </tr>\n",
       "    <tr>\n",
       "      <th>3</th>\n",
       "      <td>-0.804242</td>\n",
       "      <td>2.123605</td>\n",
       "    </tr>\n",
       "  </tbody>\n",
       "</table>\n",
       "</div>"
      ],
      "text/plain": [
       "    recency  frequency\n",
       "0 -0.480754  -0.100609\n",
       "1  1.559092  -0.353054\n",
       "2 -0.910102  16.302255\n",
       "3 -0.804242   2.123605"
      ]
     },
     "execution_count": 45,
     "metadata": {},
     "output_type": "execute_result"
    }
   ],
   "source": [
    "kmeans = KMeans(n_clusters=4, n_init = 15, random_state=1)\n",
    "kmeans.fit(df_scaled)\n",
    "centroids = kmeans.cluster_centers_\n",
    "centroid_df = pd.DataFrame(centroids, columns = df_scaled.columns )\n",
    "centroid_df"
   ]
  },
  {
   "cell_type": "code",
   "execution_count": 46,
   "id": "9c430675",
   "metadata": {
    "execution": {
     "iopub.execute_input": "2023-08-18T10:44:37.566687Z",
     "iopub.status.busy": "2023-08-18T10:44:37.566149Z",
     "iopub.status.idle": "2023-08-18T10:44:38.045862Z",
     "shell.execute_reply": "2023-08-18T10:44:38.044291Z"
    },
    "papermill": {
     "duration": 0.520675,
     "end_time": "2023-08-18T10:44:38.049225",
     "exception": false,
     "start_time": "2023-08-18T10:44:37.528550",
     "status": "completed"
    },
    "tags": []
   },
   "outputs": [
    {
     "data": {
      "text/plain": [
       "<Figure size 1500x1500 with 0 Axes>"
      ]
     },
     "metadata": {},
     "output_type": "display_data"
    },
    {
     "data": {
      "image/png": "[encoded data removed]",
      "text/plain": [
       "<Figure size 800x600 with 1 Axes>"
      ]
     },
     "metadata": {},
     "output_type": "display_data"
    }
   ],
   "source": [
    "df_kmeans = df_c.copy()\n",
    "df_kmeans['labels'] = kmeans.labels_.tolist()\n",
    "\n",
    "\n",
    "colors = np.array([\"blue\", \"purple\",\"red\",\"green\"])\n",
    "fig  = plt.figure(figsize = (15,15)).suptitle('Plot of Customer\\'s Distribution', fontsize=25)\n",
    "# Define colors for each label\n",
    "label_colors = {0: 'purple', 1: 'red', 2: 'green', 3: 'blue'}\n",
    "\n",
    "# Scatter plot\n",
    "plt.figure(figsize=(8, 6))\n",
    "\n",
    "for label, color in label_colors.items():\n",
    "    label_data = df_kmeans[df_kmeans['labels'] == label]\n",
    "    plt.scatter(label_data['recency'], label_data['frequency'], c=color, label=f'Cluster {label}')\n",
    "\n",
    "plt.xlabel('Recency')\n",
    "plt.ylabel('Frequency')\n",
    "plt.legend()\n",
    "plt.grid(True)\n",
    "plt.show()\n"
   ]
  },
  {
   "cell_type": "code",
   "execution_count": 47,
   "id": "9135bcfb",
   "metadata": {
    "execution": {
     "iopub.execute_input": "2023-08-18T10:44:38.118386Z",
     "iopub.status.busy": "2023-08-18T10:44:38.117902Z",
     "iopub.status.idle": "2023-08-18T10:44:38.144440Z",
     "shell.execute_reply": "2023-08-18T10:44:38.143095Z"
    },
    "papermill": {
     "duration": 0.064949,
     "end_time": "2023-08-18T10:44:38.147367",
     "exception": false,
     "start_time": "2023-08-18T10:44:38.082418",
     "status": "completed"
    },
    "tags": []
   },
   "outputs": [
    {
     "data": {
      "text/html": [
       "<div>\n",
       "<style scoped>\n",
       "    .dataframe tbody tr th:only-of-type {\n",
       "        vertical-align: middle;\n",
       "    }\n",
       "\n",
       "    .dataframe tbody tr th {\n",
       "        vertical-align: top;\n",
       "    }\n",
       "\n",
       "    .dataframe thead tr th {\n",
       "        text-align: left;\n",
       "    }\n",
       "\n",
       "    .dataframe thead tr:last-of-type th {\n",
       "        text-align: right;\n",
       "    }\n",
       "</style>\n",
       "<table border=\"1\" class=\"dataframe\">\n",
       "  <thead>\n",
       "    <tr>\n",
       "      <th></th>\n",
       "      <th colspan=\"3\" halign=\"left\">recency</th>\n",
       "      <th colspan=\"3\" halign=\"left\">frequency</th>\n",
       "    </tr>\n",
       "    <tr>\n",
       "      <th></th>\n",
       "      <th>mean</th>\n",
       "      <th>count</th>\n",
       "      <th>max</th>\n",
       "      <th>mean</th>\n",
       "      <th>count</th>\n",
       "      <th>max</th>\n",
       "    </tr>\n",
       "    <tr>\n",
       "      <th>labels</th>\n",
       "      <th></th>\n",
       "      <th></th>\n",
       "      <th></th>\n",
       "      <th></th>\n",
       "      <th></th>\n",
       "      <th></th>\n",
       "    </tr>\n",
       "  </thead>\n",
       "  <tbody>\n",
       "    <tr>\n",
       "      <th>0</th>\n",
       "      <td>66.060120</td>\n",
       "      <td>2994</td>\n",
       "      <td>178</td>\n",
       "      <td>3.484636</td>\n",
       "      <td>2994</td>\n",
       "      <td>12</td>\n",
       "    </tr>\n",
       "    <tr>\n",
       "      <th>1</th>\n",
       "      <td>269.961466</td>\n",
       "      <td>1064</td>\n",
       "      <td>395</td>\n",
       "      <td>1.563910</td>\n",
       "      <td>1064</td>\n",
       "      <td>12</td>\n",
       "    </tr>\n",
       "    <tr>\n",
       "      <th>2</th>\n",
       "      <td>23.142857</td>\n",
       "      <td>7</td>\n",
       "      <td>25</td>\n",
       "      <td>128.285714</td>\n",
       "      <td>7</td>\n",
       "      <td>208</td>\n",
       "    </tr>\n",
       "    <tr>\n",
       "      <th>3</th>\n",
       "      <td>33.724528</td>\n",
       "      <td>265</td>\n",
       "      <td>394</td>\n",
       "      <td>20.407547</td>\n",
       "      <td>265</td>\n",
       "      <td>69</td>\n",
       "    </tr>\n",
       "  </tbody>\n",
       "</table>\n",
       "</div>"
      ],
      "text/plain": [
       "           recency              frequency           \n",
       "              mean count  max        mean count  max\n",
       "labels                                              \n",
       "0        66.060120  2994  178    3.484636  2994   12\n",
       "1       269.961466  1064  395    1.563910  1064   12\n",
       "2        23.142857     7   25  128.285714     7  208\n",
       "3        33.724528   265  394   20.407547   265   69"
      ]
     },
     "execution_count": 47,
     "metadata": {},
     "output_type": "execute_result"
    }
   ],
   "source": [
    "agg_list=[\"mean\", \"count\", \"max\",]\n",
    "df_kmeans[[\"labels\", \"recency\", \"frequency\"]].groupby(\"labels\").agg(agg_list)"
   ]
  },
  {
   "cell_type": "markdown",
   "id": "2e4bb91f",
   "metadata": {
    "papermill": {
     "duration": 0.035531,
     "end_time": "2023-08-18T10:44:38.217250",
     "exception": false,
     "start_time": "2023-08-18T10:44:38.181719",
     "status": "completed"
    },
    "tags": []
   },
   "source": [
    "**Cluster 0 - Potential Customers**\n",
    "\n",
    "**Cluster 1 - Hiberanating Customers**\n",
    "\n",
    "**Cluster 2 - Loyal Customers**\n",
    "\n",
    "**Cluster 3 - Punctual One's**"
   ]
  },
  {
   "cell_type": "code",
   "execution_count": 48,
   "id": "4a51bf27",
   "metadata": {
    "execution": {
     "iopub.execute_input": "2023-08-18T10:44:38.292467Z",
     "iopub.status.busy": "2023-08-18T10:44:38.292070Z",
     "iopub.status.idle": "2023-08-18T10:44:38.313325Z",
     "shell.execute_reply": "2023-08-18T10:44:38.311833Z"
    },
    "papermill": {
     "duration": 0.060466,
     "end_time": "2023-08-18T10:44:38.316139",
     "exception": false,
     "start_time": "2023-08-18T10:44:38.255673",
     "status": "completed"
    },
    "tags": []
   },
   "outputs": [],
   "source": [
    "df_c=data.groupby('CustomerID').agg({ 'GOV':'sum'})\n",
    "df_c.columns = ['Expenditure']\n"
   ]
  },
  {
   "cell_type": "code",
   "execution_count": 49,
   "id": "ae46b1d4",
   "metadata": {
    "execution": {
     "iopub.execute_input": "2023-08-18T10:44:38.387999Z",
     "iopub.status.busy": "2023-08-18T10:44:38.387555Z",
     "iopub.status.idle": "2023-08-18T10:44:38.403725Z",
     "shell.execute_reply": "2023-08-18T10:44:38.401985Z"
    },
    "papermill": {
     "duration": 0.056188,
     "end_time": "2023-08-18T10:44:38.406662",
     "exception": false,
     "start_time": "2023-08-18T10:44:38.350474",
     "status": "completed"
    },
    "tags": []
   },
   "outputs": [],
   "source": [
    "std_scaler = StandardScaler()\n",
    "df_scaled = std_scaler.fit_transform(df_c)\n",
    "df_scaled\n",
    "df_scaled = pd.DataFrame(df_scaled,columns=['Expenditure'])\n",
    "df_scaled[\"CustomerID\"] = df_c.index\n",
    "df_scaled = df_scaled.set_index(\"CustomerID\",drop=True)"
   ]
  },
  {
   "cell_type": "code",
   "execution_count": 50,
   "id": "8a51f128",
   "metadata": {
    "execution": {
     "iopub.execute_input": "2023-08-18T10:44:38.477541Z",
     "iopub.status.busy": "2023-08-18T10:44:38.477002Z",
     "iopub.status.idle": "2023-08-18T10:44:39.469763Z",
     "shell.execute_reply": "2023-08-18T10:44:39.468826Z"
    },
    "papermill": {
     "duration": 1.031304,
     "end_time": "2023-08-18T10:44:39.472154",
     "exception": false,
     "start_time": "2023-08-18T10:44:38.440850",
     "status": "completed"
    },
    "tags": []
   },
   "outputs": [
    {
     "data": {
      "image/png": "[encoded data removed]",
      "text/plain": [
       "<Figure size 800x550 with 1 Axes>"
      ]
     },
     "metadata": {},
     "output_type": "display_data"
    },
    {
     "data": {
      "text/plain": [
       "<Axes: title={'center': 'Distortion Score Elbow for KMeans Clustering'}, xlabel='k', ylabel='distortion score'>"
      ]
     },
     "execution_count": 50,
     "metadata": {},
     "output_type": "execute_result"
    }
   ],
   "source": [
    "from yellowbrick.cluster import KElbowVisualizer\n",
    "model = KMeans()\n",
    "visualizer = KElbowVisualizer(model, k=(1,11), timings= False)\n",
    "visualizer.fit(df_scaled)        \n",
    "visualizer.show()    "
   ]
  },
  {
   "cell_type": "code",
   "execution_count": 51,
   "id": "382c9244",
   "metadata": {
    "execution": {
     "iopub.execute_input": "2023-08-18T10:44:39.546566Z",
     "iopub.status.busy": "2023-08-18T10:44:39.546074Z",
     "iopub.status.idle": "2023-08-18T10:44:39.636246Z",
     "shell.execute_reply": "2023-08-18T10:44:39.634823Z"
    },
    "papermill": {
     "duration": 0.137267,
     "end_time": "2023-08-18T10:44:39.644939",
     "exception": false,
     "start_time": "2023-08-18T10:44:39.507672",
     "status": "completed"
    },
    "tags": []
   },
   "outputs": [
    {
     "data": {
      "text/html": [
       "<div>\n",
       "<style scoped>\n",
       "    .dataframe tbody tr th:only-of-type {\n",
       "        vertical-align: middle;\n",
       "    }\n",
       "\n",
       "    .dataframe tbody tr th {\n",
       "        vertical-align: top;\n",
       "    }\n",
       "\n",
       "    .dataframe thead th {\n",
       "        text-align: right;\n",
       "    }\n",
       "</style>\n",
       "<table border=\"1\" class=\"dataframe\">\n",
       "  <thead>\n",
       "    <tr style=\"text-align: right;\">\n",
       "      <th></th>\n",
       "      <th>Expenditure</th>\n",
       "    </tr>\n",
       "  </thead>\n",
       "  <tbody>\n",
       "    <tr>\n",
       "      <th>0</th>\n",
       "      <td>-0.058925</td>\n",
       "    </tr>\n",
       "    <tr>\n",
       "      <th>1</th>\n",
       "      <td>30.956860</td>\n",
       "    </tr>\n",
       "    <tr>\n",
       "      <th>2</th>\n",
       "      <td>7.368534</td>\n",
       "    </tr>\n",
       "  </tbody>\n",
       "</table>\n",
       "</div>"
      ],
      "text/plain": [
       "   Expenditure\n",
       "0    -0.058925\n",
       "1    30.956860\n",
       "2     7.368534"
      ]
     },
     "execution_count": 51,
     "metadata": {},
     "output_type": "execute_result"
    }
   ],
   "source": [
    "kmeans = KMeans(n_clusters=3, n_init = 15, random_state=1)\n",
    "kmeans.fit(df_scaled)\n",
    "centroids = kmeans.cluster_centers_\n",
    "centroid_df = pd.DataFrame(centroids, columns = df_scaled.columns )\n",
    "centroid_df"
   ]
  },
  {
   "cell_type": "markdown",
   "id": "57de071f",
   "metadata": {
    "papermill": {
     "duration": 0.035098,
     "end_time": "2023-08-18T10:44:39.721140",
     "exception": false,
     "start_time": "2023-08-18T10:44:39.686042",
     "status": "completed"
    },
    "tags": []
   },
   "source": [
    "**Cluster 0 - Low Spenders**\n",
    "\n",
    "**Cluster 1 - High Spenders**\n",
    "\n",
    "**Cluster 2 - Med Spenders**"
   ]
  },
  {
   "cell_type": "code",
   "execution_count": 52,
   "id": "2c5c1d85",
   "metadata": {
    "execution": {
     "iopub.execute_input": "2023-08-18T10:44:39.814754Z",
     "iopub.status.busy": "2023-08-18T10:44:39.814267Z",
     "iopub.status.idle": "2023-08-18T10:44:40.264928Z",
     "shell.execute_reply": "2023-08-18T10:44:40.263564Z"
    },
    "papermill": {
     "duration": 0.504503,
     "end_time": "2023-08-18T10:44:40.267680",
     "exception": false,
     "start_time": "2023-08-18T10:44:39.763177",
     "status": "completed"
    },
    "tags": []
   },
   "outputs": [
    {
     "data": {
      "text/plain": [
       "<Figure size 1500x1500 with 0 Axes>"
      ]
     },
     "metadata": {},
     "output_type": "display_data"
    },
    {
     "data": {
      "image/png": "[encoded data removed]",
      "text/plain": [
       "<Figure size 800x600 with 1 Axes>"
      ]
     },
     "metadata": {},
     "output_type": "display_data"
    }
   ],
   "source": [
    "df_kmeans = df_c.copy()\n",
    "df_kmeans['labels'] = kmeans.labels_.tolist()\n",
    "df_kmeans.reset_index(inplace=True)\n",
    "\n",
    "fig  = plt.figure(figsize = (15,15)).suptitle('Plot of Customer\\'s Distribution', fontsize=25)\n",
    "# Define colors for each label\n",
    "label_colors = {0: 'red', 1: 'green', 2: 'purple'}\n",
    "\n",
    "# Scatter plot\n",
    "plt.figure(figsize=(8, 6))\n",
    "\n",
    "for label, color in label_colors.items():\n",
    "    label_data = df_kmeans[df_kmeans['labels'] == label]\n",
    "    plt.scatter(label_data['Expenditure'], label_data['CustomerID'], c=color, label=f'Cluster {label}')\n",
    "\n",
    "plt.xlabel('Recency')\n",
    "plt.ylabel('Frequency')\n",
    "plt.legend()\n",
    "plt.grid(True)\n",
    "plt.show()"
   ]
  }
 ],
 "metadata": {
  "kernelspec": {
   "display_name": "Python 3",
   "language": "python",
   "name": "python3"
  },
  "language_info": {
   "codemirror_mode": {
    "name": "ipython",
    "version": 3
   },
   "file_extension": ".py",
   "mimetype": "text/x-python",
   "name": "python",
   "nbconvert_exporter": "python",
   "pygments_lexer": "ipython3",
   "version": "3.10.12"
  },
  "papermill": {
   "default_parameters": {},
   "duration": 41.036046,
   "end_time": "2023-08-18T10:44:41.529524",
   "environment_variables": {},
   "exception": null,
   "input_path": "__notebook__.ipynb",
   "output_path": "__notebook__.ipynb",
   "parameters": {},
   "start_time": "2023-08-18T10:44:00.493478",
   "version": "2.4.0"
  }
 },
 "nbformat": 4,
 "nbformat_minor": 5
}
