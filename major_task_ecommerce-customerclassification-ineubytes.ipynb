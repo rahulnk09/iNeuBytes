{
 "cells": [
  {
   "cell_type": "markdown",
   "id": "dc31f9ce",
   "metadata": {
    "papermill": {
     "duration": 0.01588,
     "end_time": "2023-08-18T17:12:51.285703",
     "exception": false,
     "start_time": "2023-08-18T17:12:51.269823",
     "status": "completed"
    },
    "tags": []
   },
   "source": [
    "# Major Project : Predictive Analysis & Customer Segmentation for a E-Commerce Project"
   ]
  },
  {
   "cell_type": "code",
   "execution_count": 1,
   "id": "03c53753",
   "metadata": {
    "_cell_guid": "b1076dfc-b9ad-4769-8c92-a6c4dae69d19",
    "_uuid": "8f2839f25d086af736a60e9eeb907d3b93b6e0e5",
    "execution": {
     "iopub.execute_input": "2023-08-18T17:12:51.319838Z",
     "iopub.status.busy": "2023-08-18T17:12:51.319452Z",
     "iopub.status.idle": "2023-08-18T17:12:51.339942Z",
     "shell.execute_reply": "2023-08-18T17:12:51.338865Z"
    },
    "papermill": {
     "duration": 0.039402,
     "end_time": "2023-08-18T17:12:51.342271",
     "exception": false,
     "start_time": "2023-08-18T17:12:51.302869",
     "status": "completed"
    },
    "tags": []
   },
   "outputs": [
    {
     "name": "stdout",
     "output_type": "stream",
     "text": [
      "/kaggle/input/online-retail-ecommerce-dataset/data.csv\n"
     ]
    }
   ],
   "source": [
    "# This Python 3 environment comes with many helpful analytics libraries installed\n",
    "# It is defined by the kaggle/python Docker image: https://github.com/kaggle/docker-python\n",
    "# For example, here's several helpful packages to load\n",
    "\n",
    "import numpy as np # linear algebra\n",
    "import pandas as pd # data processing, CSV file I/O (e.g. pd.read_csv)\n",
    "\n",
    "# Input data files are available in the read-only \"../input/\" directory\n",
    "# For example, running this (by clicking run or pressing Shift+Enter) will list all files under the input directory\n",
    "\n",
    "import os\n",
    "for dirname, _, filenames in os.walk('/kaggle/input'):\n",
    "    for filename in filenames:\n",
    "        print(os.path.join(dirname, filename))\n",
    "\n",
    "# You can write up to 20GB to the current directory (/kaggle/working/) that gets preserved as output when you create a version using \"Save & Run All\" \n",
    "# You can also write temporary files to /kaggle/temp/, but they won't be saved outside of the current session"
   ]
  },
  {
   "cell_type": "code",
   "execution_count": 2,
   "id": "7b10e68f",
   "metadata": {
    "execution": {
     "iopub.execute_input": "2023-08-18T17:12:51.375931Z",
     "iopub.status.busy": "2023-08-18T17:12:51.375150Z",
     "iopub.status.idle": "2023-08-18T17:12:53.394871Z",
     "shell.execute_reply": "2023-08-18T17:12:53.393241Z"
    },
    "papermill": {
     "duration": 2.040035,
     "end_time": "2023-08-18T17:12:53.398115",
     "exception": false,
     "start_time": "2023-08-18T17:12:51.358080",
     "status": "completed"
    },
    "tags": []
   },
   "outputs": [
    {
     "name": "stderr",
     "output_type": "stream",
     "text": [
      "/opt/conda/lib/python3.10/site-packages/scipy/__init__.py:146: UserWarning: A NumPy version >=1.16.5 and <1.23.0 is required for this version of SciPy (detected version 1.23.5\n",
      "  warnings.warn(f\"A NumPy version >={np_minversion} and <{np_maxversion}\"\n"
     ]
    }
   ],
   "source": [
    "import pandas as pd\n",
    "import numpy as np\n",
    "import matplotlib.pyplot as plt\n",
    "import seaborn as sns\n",
    "import datetime as dt\n",
    "from sklearn.cluster import KMeans\n",
    "from sklearn.preprocessing import StandardScaler\n",
    "\n",
    "import warnings\n",
    "warnings.filterwarnings('ignore')\n",
    "%matplotlib inline"
   ]
  },
  {
   "cell_type": "code",
   "execution_count": 3,
   "id": "e546b484",
   "metadata": {
    "execution": {
     "iopub.execute_input": "2023-08-18T17:12:53.431308Z",
     "iopub.status.busy": "2023-08-18T17:12:53.430909Z",
     "iopub.status.idle": "2023-08-18T17:12:54.857582Z",
     "shell.execute_reply": "2023-08-18T17:12:54.856253Z"
    },
    "papermill": {
     "duration": 1.44627,
     "end_time": "2023-08-18T17:12:54.860419",
     "exception": false,
     "start_time": "2023-08-18T17:12:53.414149",
     "status": "completed"
    },
    "tags": []
   },
   "outputs": [],
   "source": [
    "df=pd.read_csv('/kaggle/input/online-retail-ecommerce-dataset/data.csv',encoding='ISO-8859-1')"
   ]
  },
  {
   "cell_type": "code",
   "execution_count": 4,
   "id": "02db9235",
   "metadata": {
    "execution": {
     "iopub.execute_input": "2023-08-18T17:12:54.895269Z",
     "iopub.status.busy": "2023-08-18T17:12:54.894849Z",
     "iopub.status.idle": "2023-08-18T17:12:54.942972Z",
     "shell.execute_reply": "2023-08-18T17:12:54.941884Z"
    },
    "papermill": {
     "duration": 0.068882,
     "end_time": "2023-08-18T17:12:54.945577",
     "exception": false,
     "start_time": "2023-08-18T17:12:54.876695",
     "status": "completed"
    },
    "tags": []
   },
   "outputs": [
    {
     "data": {
      "text/html": [
       "<div>\n",
       "<style scoped>\n",
       "    .dataframe tbody tr th:only-of-type {\n",
       "        vertical-align: middle;\n",
       "    }\n",
       "\n",
       "    .dataframe tbody tr th {\n",
       "        vertical-align: top;\n",
       "    }\n",
       "\n",
       "    .dataframe thead th {\n",
       "        text-align: right;\n",
       "    }\n",
       "</style>\n",
       "<table border=\"1\" class=\"dataframe\">\n",
       "  <thead>\n",
       "    <tr style=\"text-align: right;\">\n",
       "      <th></th>\n",
       "      <th>InvoiceNo</th>\n",
       "      <th>StockCode</th>\n",
       "      <th>Description</th>\n",
       "      <th>Quantity</th>\n",
       "      <th>InvoiceDate</th>\n",
       "      <th>UnitPrice</th>\n",
       "      <th>CustomerID</th>\n",
       "      <th>Country</th>\n",
       "    </tr>\n",
       "  </thead>\n",
       "  <tbody>\n",
       "    <tr>\n",
       "      <th>176103</th>\n",
       "      <td>551995</td>\n",
       "      <td>22197</td>\n",
       "      <td>SMALL POPCORN HOLDER</td>\n",
       "      <td>2</td>\n",
       "      <td>5/5/2011 15:42</td>\n",
       "      <td>1.63</td>\n",
       "      <td>NaN</td>\n",
       "      <td>United Kingdom</td>\n",
       "    </tr>\n",
       "    <tr>\n",
       "      <th>529023</th>\n",
       "      <td>580730</td>\n",
       "      <td>22379</td>\n",
       "      <td>RECYCLING BAG RETROSPOT</td>\n",
       "      <td>3</td>\n",
       "      <td>12/5/2011 17:28</td>\n",
       "      <td>4.13</td>\n",
       "      <td>NaN</td>\n",
       "      <td>United Kingdom</td>\n",
       "    </tr>\n",
       "    <tr>\n",
       "      <th>239888</th>\n",
       "      <td>558068</td>\n",
       "      <td>37500</td>\n",
       "      <td>TEA TIME TEAPOT IN GIFT BOX</td>\n",
       "      <td>2</td>\n",
       "      <td>6/24/2011 15:51</td>\n",
       "      <td>8.29</td>\n",
       "      <td>NaN</td>\n",
       "      <td>United Kingdom</td>\n",
       "    </tr>\n",
       "    <tr>\n",
       "      <th>414233</th>\n",
       "      <td>572399</td>\n",
       "      <td>85123A</td>\n",
       "      <td>WHITE HANGING HEART T-LIGHT HOLDER</td>\n",
       "      <td>6</td>\n",
       "      <td>10/24/2011 11:56</td>\n",
       "      <td>2.95</td>\n",
       "      <td>15628.0</td>\n",
       "      <td>United Kingdom</td>\n",
       "    </tr>\n",
       "    <tr>\n",
       "      <th>67344</th>\n",
       "      <td>541830</td>\n",
       "      <td>22280</td>\n",
       "      <td>POCKET BAG PINK PAISELY BROWN SPOT</td>\n",
       "      <td>2</td>\n",
       "      <td>1/21/2011 17:09</td>\n",
       "      <td>0.83</td>\n",
       "      <td>NaN</td>\n",
       "      <td>United Kingdom</td>\n",
       "    </tr>\n",
       "    <tr>\n",
       "      <th>238735</th>\n",
       "      <td>557955</td>\n",
       "      <td>84687</td>\n",
       "      <td>BEACH HUT SHELF W 3 DRAWERS</td>\n",
       "      <td>2</td>\n",
       "      <td>6/23/2011 18:59</td>\n",
       "      <td>5.95</td>\n",
       "      <td>16175.0</td>\n",
       "      <td>United Kingdom</td>\n",
       "    </tr>\n",
       "    <tr>\n",
       "      <th>376358</th>\n",
       "      <td>569523</td>\n",
       "      <td>22645</td>\n",
       "      <td>CERAMIC HEART FAIRY CAKE MONEY BANK</td>\n",
       "      <td>4</td>\n",
       "      <td>10/4/2011 14:41</td>\n",
       "      <td>1.45</td>\n",
       "      <td>16033.0</td>\n",
       "      <td>United Kingdom</td>\n",
       "    </tr>\n",
       "    <tr>\n",
       "      <th>389178</th>\n",
       "      <td>570465</td>\n",
       "      <td>23108</td>\n",
       "      <td>SET OF 10 LED DOLLY LIGHTS</td>\n",
       "      <td>1</td>\n",
       "      <td>10/10/2011 16:02</td>\n",
       "      <td>12.46</td>\n",
       "      <td>NaN</td>\n",
       "      <td>United Kingdom</td>\n",
       "    </tr>\n",
       "    <tr>\n",
       "      <th>418074</th>\n",
       "      <td>572688</td>\n",
       "      <td>85071A</td>\n",
       "      <td>BLUE CHARLIE+LOLA PERSONAL DOORSIGN</td>\n",
       "      <td>24</td>\n",
       "      <td>10/25/2011 14:09</td>\n",
       "      <td>0.39</td>\n",
       "      <td>13028.0</td>\n",
       "      <td>United Kingdom</td>\n",
       "    </tr>\n",
       "    <tr>\n",
       "      <th>369099</th>\n",
       "      <td>569014</td>\n",
       "      <td>23329</td>\n",
       "      <td>DECORATIVE WICKER HEART LARGE</td>\n",
       "      <td>12</td>\n",
       "      <td>9/30/2011 9:05</td>\n",
       "      <td>1.65</td>\n",
       "      <td>18053.0</td>\n",
       "      <td>United Kingdom</td>\n",
       "    </tr>\n",
       "  </tbody>\n",
       "</table>\n",
       "</div>"
      ],
      "text/plain": [
       "       InvoiceNo StockCode                          Description  Quantity  \\\n",
       "176103    551995     22197                 SMALL POPCORN HOLDER         2   \n",
       "529023    580730     22379             RECYCLING BAG RETROSPOT          3   \n",
       "239888    558068     37500          TEA TIME TEAPOT IN GIFT BOX         2   \n",
       "414233    572399    85123A   WHITE HANGING HEART T-LIGHT HOLDER         6   \n",
       "67344     541830     22280   POCKET BAG PINK PAISELY BROWN SPOT         2   \n",
       "238735    557955     84687          BEACH HUT SHELF W 3 DRAWERS         2   \n",
       "376358    569523     22645  CERAMIC HEART FAIRY CAKE MONEY BANK         4   \n",
       "389178    570465     23108           SET OF 10 LED DOLLY LIGHTS         1   \n",
       "418074    572688    85071A  BLUE CHARLIE+LOLA PERSONAL DOORSIGN        24   \n",
       "369099    569014     23329        DECORATIVE WICKER HEART LARGE        12   \n",
       "\n",
       "             InvoiceDate  UnitPrice  CustomerID         Country  \n",
       "176103    5/5/2011 15:42       1.63         NaN  United Kingdom  \n",
       "529023   12/5/2011 17:28       4.13         NaN  United Kingdom  \n",
       "239888   6/24/2011 15:51       8.29         NaN  United Kingdom  \n",
       "414233  10/24/2011 11:56       2.95     15628.0  United Kingdom  \n",
       "67344    1/21/2011 17:09       0.83         NaN  United Kingdom  \n",
       "238735   6/23/2011 18:59       5.95     16175.0  United Kingdom  \n",
       "376358   10/4/2011 14:41       1.45     16033.0  United Kingdom  \n",
       "389178  10/10/2011 16:02      12.46         NaN  United Kingdom  \n",
       "418074  10/25/2011 14:09       0.39     13028.0  United Kingdom  \n",
       "369099    9/30/2011 9:05       1.65     18053.0  United Kingdom  "
      ]
     },
     "execution_count": 4,
     "metadata": {},
     "output_type": "execute_result"
    }
   ],
   "source": [
    "df.sample(10)"
   ]
  },
  {
   "cell_type": "code",
   "execution_count": 5,
   "id": "8ad3efe4",
   "metadata": {
    "execution": {
     "iopub.execute_input": "2023-08-18T17:12:54.981066Z",
     "iopub.status.busy": "2023-08-18T17:12:54.980668Z",
     "iopub.status.idle": "2023-08-18T17:12:54.987429Z",
     "shell.execute_reply": "2023-08-18T17:12:54.986166Z"
    },
    "papermill": {
     "duration": 0.02674,
     "end_time": "2023-08-18T17:12:54.989566",
     "exception": false,
     "start_time": "2023-08-18T17:12:54.962826",
     "status": "completed"
    },
    "tags": []
   },
   "outputs": [
    {
     "data": {
      "text/plain": [
       "(541909, 8)"
      ]
     },
     "execution_count": 5,
     "metadata": {},
     "output_type": "execute_result"
    }
   ],
   "source": [
    "df.shape"
   ]
  },
  {
   "cell_type": "code",
   "execution_count": 6,
   "id": "0de99a1f",
   "metadata": {
    "execution": {
     "iopub.execute_input": "2023-08-18T17:12:55.024259Z",
     "iopub.status.busy": "2023-08-18T17:12:55.023291Z",
     "iopub.status.idle": "2023-08-18T17:12:55.454267Z",
     "shell.execute_reply": "2023-08-18T17:12:55.453048Z"
    },
    "papermill": {
     "duration": 0.451036,
     "end_time": "2023-08-18T17:12:55.456735",
     "exception": false,
     "start_time": "2023-08-18T17:12:55.005699",
     "status": "completed"
    },
    "tags": []
   },
   "outputs": [
    {
     "name": "stdout",
     "output_type": "stream",
     "text": [
      "<class 'pandas.core.frame.DataFrame'>\n",
      "RangeIndex: 541909 entries, 0 to 541908\n",
      "Data columns (total 8 columns):\n",
      " #   Column       Non-Null Count   Dtype  \n",
      "---  ------       --------------   -----  \n",
      " 0   InvoiceNo    541909 non-null  object \n",
      " 1   StockCode    541909 non-null  object \n",
      " 2   Description  540455 non-null  object \n",
      " 3   Quantity     541909 non-null  int64  \n",
      " 4   InvoiceDate  541909 non-null  object \n",
      " 5   UnitPrice    541909 non-null  float64\n",
      " 6   CustomerID   406829 non-null  float64\n",
      " 7   Country      541909 non-null  object \n",
      "dtypes: float64(2), int64(1), object(5)\n",
      "memory usage: 33.1+ MB\n"
     ]
    }
   ],
   "source": [
    "df.info()"
   ]
  },
  {
   "cell_type": "code",
   "execution_count": 7,
   "id": "67934d5a",
   "metadata": {
    "execution": {
     "iopub.execute_input": "2023-08-18T17:12:55.490972Z",
     "iopub.status.busy": "2023-08-18T17:12:55.490560Z",
     "iopub.status.idle": "2023-08-18T17:12:55.577724Z",
     "shell.execute_reply": "2023-08-18T17:12:55.576652Z"
    },
    "papermill": {
     "duration": 0.10685,
     "end_time": "2023-08-18T17:12:55.579960",
     "exception": false,
     "start_time": "2023-08-18T17:12:55.473110",
     "status": "completed"
    },
    "tags": []
   },
   "outputs": [
    {
     "data": {
      "text/html": [
       "<div>\n",
       "<style scoped>\n",
       "    .dataframe tbody tr th:only-of-type {\n",
       "        vertical-align: middle;\n",
       "    }\n",
       "\n",
       "    .dataframe tbody tr th {\n",
       "        vertical-align: top;\n",
       "    }\n",
       "\n",
       "    .dataframe thead th {\n",
       "        text-align: right;\n",
       "    }\n",
       "</style>\n",
       "<table border=\"1\" class=\"dataframe\">\n",
       "  <thead>\n",
       "    <tr style=\"text-align: right;\">\n",
       "      <th></th>\n",
       "      <th>Quantity</th>\n",
       "      <th>UnitPrice</th>\n",
       "      <th>CustomerID</th>\n",
       "    </tr>\n",
       "  </thead>\n",
       "  <tbody>\n",
       "    <tr>\n",
       "      <th>count</th>\n",
       "      <td>541909.000000</td>\n",
       "      <td>541909.000000</td>\n",
       "      <td>406829.000000</td>\n",
       "    </tr>\n",
       "    <tr>\n",
       "      <th>mean</th>\n",
       "      <td>9.552250</td>\n",
       "      <td>4.611114</td>\n",
       "      <td>15287.690570</td>\n",
       "    </tr>\n",
       "    <tr>\n",
       "      <th>std</th>\n",
       "      <td>218.081158</td>\n",
       "      <td>96.759853</td>\n",
       "      <td>1713.600303</td>\n",
       "    </tr>\n",
       "    <tr>\n",
       "      <th>min</th>\n",
       "      <td>-80995.000000</td>\n",
       "      <td>-11062.060000</td>\n",
       "      <td>12346.000000</td>\n",
       "    </tr>\n",
       "    <tr>\n",
       "      <th>25%</th>\n",
       "      <td>1.000000</td>\n",
       "      <td>1.250000</td>\n",
       "      <td>13953.000000</td>\n",
       "    </tr>\n",
       "    <tr>\n",
       "      <th>50%</th>\n",
       "      <td>3.000000</td>\n",
       "      <td>2.080000</td>\n",
       "      <td>15152.000000</td>\n",
       "    </tr>\n",
       "    <tr>\n",
       "      <th>75%</th>\n",
       "      <td>10.000000</td>\n",
       "      <td>4.130000</td>\n",
       "      <td>16791.000000</td>\n",
       "    </tr>\n",
       "    <tr>\n",
       "      <th>max</th>\n",
       "      <td>80995.000000</td>\n",
       "      <td>38970.000000</td>\n",
       "      <td>18287.000000</td>\n",
       "    </tr>\n",
       "  </tbody>\n",
       "</table>\n",
       "</div>"
      ],
      "text/plain": [
       "            Quantity      UnitPrice     CustomerID\n",
       "count  541909.000000  541909.000000  406829.000000\n",
       "mean        9.552250       4.611114   15287.690570\n",
       "std       218.081158      96.759853    1713.600303\n",
       "min    -80995.000000  -11062.060000   12346.000000\n",
       "25%         1.000000       1.250000   13953.000000\n",
       "50%         3.000000       2.080000   15152.000000\n",
       "75%        10.000000       4.130000   16791.000000\n",
       "max     80995.000000   38970.000000   18287.000000"
      ]
     },
     "execution_count": 7,
     "metadata": {},
     "output_type": "execute_result"
    }
   ],
   "source": [
    "df.describe()"
   ]
  },
  {
   "cell_type": "markdown",
   "id": "34b45e36",
   "metadata": {
    "papermill": {
     "duration": 0.016059,
     "end_time": "2023-08-18T17:12:55.613168",
     "exception": false,
     "start_time": "2023-08-18T17:12:55.597109",
     "status": "completed"
    },
    "tags": []
   },
   "source": [
    "> **The Quantity and Unit price can't be practically be negative, so lets drop the negative values**"
   ]
  },
  {
   "cell_type": "code",
   "execution_count": 8,
   "id": "691cf433",
   "metadata": {
    "execution": {
     "iopub.execute_input": "2023-08-18T17:12:55.648426Z",
     "iopub.status.busy": "2023-08-18T17:12:55.648051Z",
     "iopub.status.idle": "2023-08-18T17:12:55.772048Z",
     "shell.execute_reply": "2023-08-18T17:12:55.770901Z"
    },
    "papermill": {
     "duration": 0.14442,
     "end_time": "2023-08-18T17:12:55.774748",
     "exception": false,
     "start_time": "2023-08-18T17:12:55.630328",
     "status": "completed"
    },
    "tags": []
   },
   "outputs": [],
   "source": [
    "df=df[df['Quantity']>0]\n",
    "df=df[df['UnitPrice']>0]"
   ]
  },
  {
   "cell_type": "code",
   "execution_count": 9,
   "id": "0d4dcd8f",
   "metadata": {
    "execution": {
     "iopub.execute_input": "2023-08-18T17:12:55.810400Z",
     "iopub.status.busy": "2023-08-18T17:12:55.809991Z",
     "iopub.status.idle": "2023-08-18T17:12:56.211562Z",
     "shell.execute_reply": "2023-08-18T17:12:56.210468Z"
    },
    "papermill": {
     "duration": 0.421739,
     "end_time": "2023-08-18T17:12:56.214068",
     "exception": false,
     "start_time": "2023-08-18T17:12:55.792329",
     "status": "completed"
    },
    "tags": []
   },
   "outputs": [
    {
     "data": {
      "text/plain": [
       "InvoiceNo           0\n",
       "StockCode           0\n",
       "Description         0\n",
       "Quantity            0\n",
       "InvoiceDate         0\n",
       "UnitPrice           0\n",
       "CustomerID     132220\n",
       "Country             0\n",
       "dtype: int64"
      ]
     },
     "execution_count": 9,
     "metadata": {},
     "output_type": "execute_result"
    }
   ],
   "source": [
    "df.isnull().sum()"
   ]
  },
  {
   "cell_type": "code",
   "execution_count": 10,
   "id": "5b1711bf",
   "metadata": {
    "execution": {
     "iopub.execute_input": "2023-08-18T17:12:56.248474Z",
     "iopub.status.busy": "2023-08-18T17:12:56.248033Z",
     "iopub.status.idle": "2023-08-18T17:12:56.309010Z",
     "shell.execute_reply": "2023-08-18T17:12:56.307858Z"
    },
    "papermill": {
     "duration": 0.080822,
     "end_time": "2023-08-18T17:12:56.311361",
     "exception": false,
     "start_time": "2023-08-18T17:12:56.230539",
     "status": "completed"
    },
    "tags": []
   },
   "outputs": [
    {
     "data": {
      "text/plain": [
       "4026"
      ]
     },
     "execution_count": 10,
     "metadata": {},
     "output_type": "execute_result"
    }
   ],
   "source": [
    "df['Description'].nunique()"
   ]
  },
  {
   "cell_type": "code",
   "execution_count": 11,
   "id": "6464ec16",
   "metadata": {
    "execution": {
     "iopub.execute_input": "2023-08-18T17:12:56.346622Z",
     "iopub.status.busy": "2023-08-18T17:12:56.346246Z",
     "iopub.status.idle": "2023-08-18T17:12:56.387423Z",
     "shell.execute_reply": "2023-08-18T17:12:56.386326Z"
    },
    "papermill": {
     "duration": 0.061579,
     "end_time": "2023-08-18T17:12:56.389546",
     "exception": false,
     "start_time": "2023-08-18T17:12:56.327967",
     "status": "completed"
    },
    "tags": []
   },
   "outputs": [
    {
     "data": {
      "text/plain": [
       "3922"
      ]
     },
     "execution_count": 11,
     "metadata": {},
     "output_type": "execute_result"
    }
   ],
   "source": [
    "df['StockCode'].nunique()"
   ]
  },
  {
   "cell_type": "code",
   "execution_count": 12,
   "id": "d11f59fc",
   "metadata": {
    "execution": {
     "iopub.execute_input": "2023-08-18T17:12:56.424135Z",
     "iopub.status.busy": "2023-08-18T17:12:56.423724Z",
     "iopub.status.idle": "2023-08-18T17:12:56.616486Z",
     "shell.execute_reply": "2023-08-18T17:12:56.615427Z"
    },
    "papermill": {
     "duration": 0.212599,
     "end_time": "2023-08-18T17:12:56.618629",
     "exception": false,
     "start_time": "2023-08-18T17:12:56.406030",
     "status": "completed"
    },
    "tags": []
   },
   "outputs": [
    {
     "data": {
      "text/plain": [
       "StockCode\n",
       "23236     4\n",
       "23196     4\n",
       "17107D    3\n",
       "23366     3\n",
       "23203     3\n",
       "         ..\n",
       "22421     1\n",
       "22422     1\n",
       "22423     1\n",
       "22424     1\n",
       "m         1\n",
       "Name: Description, Length: 3922, dtype: int64"
      ]
     },
     "execution_count": 12,
     "metadata": {},
     "output_type": "execute_result"
    }
   ],
   "source": [
    "df.groupby('StockCode')['Description'].nunique().sort_values(ascending=False)"
   ]
  },
  {
   "cell_type": "code",
   "execution_count": 13,
   "id": "cd5baa3e",
   "metadata": {
    "execution": {
     "iopub.execute_input": "2023-08-18T17:12:56.653948Z",
     "iopub.status.busy": "2023-08-18T17:12:56.652871Z",
     "iopub.status.idle": "2023-08-18T17:12:56.842626Z",
     "shell.execute_reply": "2023-08-18T17:12:56.841823Z"
    },
    "papermill": {
     "duration": 0.20988,
     "end_time": "2023-08-18T17:12:56.845016",
     "exception": false,
     "start_time": "2023-08-18T17:12:56.635136",
     "status": "completed"
    },
    "tags": []
   },
   "outputs": [],
   "source": [
    "k=pd.DataFrame(df.groupby('Description')['StockCode'].nunique())\n",
    "k.columns=[\"StockCodeCount\"]\n",
    "l=k[k['StockCodeCount']>1].index.values.tolist()\n"
   ]
  },
  {
   "cell_type": "code",
   "execution_count": 14,
   "id": "7854d66d",
   "metadata": {
    "execution": {
     "iopub.execute_input": "2023-08-18T17:12:56.880672Z",
     "iopub.status.busy": "2023-08-18T17:12:56.879924Z",
     "iopub.status.idle": "2023-08-18T17:13:06.635670Z",
     "shell.execute_reply": "2023-08-18T17:13:06.634758Z"
    },
    "papermill": {
     "duration": 9.776179,
     "end_time": "2023-08-18T17:13:06.638228",
     "exception": false,
     "start_time": "2023-08-18T17:12:56.862049",
     "status": "completed"
    },
    "tags": []
   },
   "outputs": [],
   "source": [
    "for description in l:\n",
    "    stockcode_f=df[df['Description']==description]['StockCode'].unique()[0]\n",
    "    df.loc[df['Description']==description,'StockCode']=stockcode_f"
   ]
  },
  {
   "cell_type": "code",
   "execution_count": 15,
   "id": "82da2e35",
   "metadata": {
    "execution": {
     "iopub.execute_input": "2023-08-18T17:13:06.673483Z",
     "iopub.status.busy": "2023-08-18T17:13:06.673110Z",
     "iopub.status.idle": "2023-08-18T17:13:06.855948Z",
     "shell.execute_reply": "2023-08-18T17:13:06.854768Z"
    },
    "papermill": {
     "duration": 0.203328,
     "end_time": "2023-08-18T17:13:06.858437",
     "exception": false,
     "start_time": "2023-08-18T17:13:06.655109",
     "status": "completed"
    },
    "tags": []
   },
   "outputs": [],
   "source": [
    "k=pd.DataFrame(df.groupby('StockCode')['Description'].nunique())\n",
    "l=k[k['Description']>1].index.values.tolist()\n"
   ]
  },
  {
   "cell_type": "code",
   "execution_count": 16,
   "id": "2c3e36e1",
   "metadata": {
    "execution": {
     "iopub.execute_input": "2023-08-18T17:13:06.896451Z",
     "iopub.status.busy": "2023-08-18T17:13:06.896069Z",
     "iopub.status.idle": "2023-08-18T17:13:24.436970Z",
     "shell.execute_reply": "2023-08-18T17:13:24.435843Z"
    },
    "papermill": {
     "duration": 17.56309,
     "end_time": "2023-08-18T17:13:24.439592",
     "exception": false,
     "start_time": "2023-08-18T17:13:06.876502",
     "status": "completed"
    },
    "tags": []
   },
   "outputs": [],
   "source": [
    "\n",
    "for stockcode in l:\n",
    "    stockcode_f=df[df['StockCode']==stockcode]['Description'].unique()[0]\n",
    "    df.loc[df['StockCode']==stockcode,'Description']=stockcode_f"
   ]
  },
  {
   "cell_type": "markdown",
   "id": "bcf3dc0a",
   "metadata": {
    "papermill": {
     "duration": 0.016953,
     "end_time": "2023-08-18T17:13:24.473370",
     "exception": false,
     "start_time": "2023-08-18T17:13:24.456417",
     "status": "completed"
    },
    "tags": []
   },
   "source": [
    "# Checking for Duplicates"
   ]
  },
  {
   "cell_type": "code",
   "execution_count": 17,
   "id": "0745bedc",
   "metadata": {
    "execution": {
     "iopub.execute_input": "2023-08-18T17:13:24.509487Z",
     "iopub.status.busy": "2023-08-18T17:13:24.508660Z",
     "iopub.status.idle": "2023-08-18T17:13:24.670507Z",
     "shell.execute_reply": "2023-08-18T17:13:24.669447Z"
    },
    "papermill": {
     "duration": 0.182907,
     "end_time": "2023-08-18T17:13:24.673038",
     "exception": false,
     "start_time": "2023-08-18T17:13:24.490131",
     "status": "completed"
    },
    "tags": []
   },
   "outputs": [
    {
     "data": {
      "text/html": [
       "<div>\n",
       "<style scoped>\n",
       "    .dataframe tbody tr th:only-of-type {\n",
       "        vertical-align: middle;\n",
       "    }\n",
       "\n",
       "    .dataframe tbody tr th {\n",
       "        vertical-align: top;\n",
       "    }\n",
       "\n",
       "    .dataframe thead th {\n",
       "        text-align: right;\n",
       "    }\n",
       "</style>\n",
       "<table border=\"1\" class=\"dataframe\">\n",
       "  <thead>\n",
       "    <tr style=\"text-align: right;\">\n",
       "      <th></th>\n",
       "      <th>InvoiceNo</th>\n",
       "      <th>StockCode</th>\n",
       "      <th>Description</th>\n",
       "      <th>Quantity</th>\n",
       "      <th>InvoiceDate</th>\n",
       "      <th>UnitPrice</th>\n",
       "      <th>CustomerID</th>\n",
       "      <th>Country</th>\n",
       "    </tr>\n",
       "  </thead>\n",
       "  <tbody>\n",
       "    <tr>\n",
       "      <th>113</th>\n",
       "      <td>536381</td>\n",
       "      <td>71270</td>\n",
       "      <td>PHOTO CLIP LINE</td>\n",
       "      <td>1</td>\n",
       "      <td>12/1/2010 9:41</td>\n",
       "      <td>1.25</td>\n",
       "      <td>15311.0</td>\n",
       "      <td>United Kingdom</td>\n",
       "    </tr>\n",
       "    <tr>\n",
       "      <th>483</th>\n",
       "      <td>536409</td>\n",
       "      <td>90199C</td>\n",
       "      <td>5 STRAND GLASS NECKLACE CRYSTAL</td>\n",
       "      <td>3</td>\n",
       "      <td>12/1/2010 11:45</td>\n",
       "      <td>6.35</td>\n",
       "      <td>17908.0</td>\n",
       "      <td>United Kingdom</td>\n",
       "    </tr>\n",
       "    <tr>\n",
       "      <th>485</th>\n",
       "      <td>536409</td>\n",
       "      <td>22111</td>\n",
       "      <td>SCOTTIE DOG HOT WATER BOTTLE</td>\n",
       "      <td>1</td>\n",
       "      <td>12/1/2010 11:45</td>\n",
       "      <td>4.95</td>\n",
       "      <td>17908.0</td>\n",
       "      <td>United Kingdom</td>\n",
       "    </tr>\n",
       "    <tr>\n",
       "      <th>489</th>\n",
       "      <td>536409</td>\n",
       "      <td>22866</td>\n",
       "      <td>HAND WARMER SCOTTY DOG DESIGN</td>\n",
       "      <td>1</td>\n",
       "      <td>12/1/2010 11:45</td>\n",
       "      <td>2.10</td>\n",
       "      <td>17908.0</td>\n",
       "      <td>United Kingdom</td>\n",
       "    </tr>\n",
       "    <tr>\n",
       "      <th>491</th>\n",
       "      <td>536409</td>\n",
       "      <td>85116</td>\n",
       "      <td>BLACK CANDELABRA T-LIGHT HOLDER</td>\n",
       "      <td>1</td>\n",
       "      <td>12/1/2010 11:45</td>\n",
       "      <td>2.10</td>\n",
       "      <td>17908.0</td>\n",
       "      <td>United Kingdom</td>\n",
       "    </tr>\n",
       "    <tr>\n",
       "      <th>...</th>\n",
       "      <td>...</td>\n",
       "      <td>...</td>\n",
       "      <td>...</td>\n",
       "      <td>...</td>\n",
       "      <td>...</td>\n",
       "      <td>...</td>\n",
       "      <td>...</td>\n",
       "      <td>...</td>\n",
       "    </tr>\n",
       "    <tr>\n",
       "      <th>541656</th>\n",
       "      <td>581538</td>\n",
       "      <td>23318</td>\n",
       "      <td>BOX OF 6 MINI VINTAGE CRACKERS</td>\n",
       "      <td>1</td>\n",
       "      <td>12/9/2011 11:34</td>\n",
       "      <td>2.49</td>\n",
       "      <td>14446.0</td>\n",
       "      <td>United Kingdom</td>\n",
       "    </tr>\n",
       "    <tr>\n",
       "      <th>541659</th>\n",
       "      <td>581538</td>\n",
       "      <td>22899</td>\n",
       "      <td>CHILDREN'S APRON DOLLY GIRL</td>\n",
       "      <td>2</td>\n",
       "      <td>12/9/2011 11:34</td>\n",
       "      <td>2.10</td>\n",
       "      <td>14446.0</td>\n",
       "      <td>United Kingdom</td>\n",
       "    </tr>\n",
       "    <tr>\n",
       "      <th>541666</th>\n",
       "      <td>581538</td>\n",
       "      <td>23343</td>\n",
       "      <td>JUMBO BAG VINTAGE CHRISTMAS</td>\n",
       "      <td>1</td>\n",
       "      <td>12/9/2011 11:34</td>\n",
       "      <td>2.08</td>\n",
       "      <td>14446.0</td>\n",
       "      <td>United Kingdom</td>\n",
       "    </tr>\n",
       "    <tr>\n",
       "      <th>541674</th>\n",
       "      <td>581538</td>\n",
       "      <td>35004B</td>\n",
       "      <td>SET OF 3 BLACK FLYING DUCKS</td>\n",
       "      <td>2</td>\n",
       "      <td>12/9/2011 11:34</td>\n",
       "      <td>5.45</td>\n",
       "      <td>14446.0</td>\n",
       "      <td>United Kingdom</td>\n",
       "    </tr>\n",
       "    <tr>\n",
       "      <th>541684</th>\n",
       "      <td>581538</td>\n",
       "      <td>21194</td>\n",
       "      <td>PINK  HONEYCOMB PAPER FAN</td>\n",
       "      <td>2</td>\n",
       "      <td>12/9/2011 11:34</td>\n",
       "      <td>0.65</td>\n",
       "      <td>14446.0</td>\n",
       "      <td>United Kingdom</td>\n",
       "    </tr>\n",
       "  </tbody>\n",
       "</table>\n",
       "<p>10684 rows × 8 columns</p>\n",
       "</div>"
      ],
      "text/plain": [
       "       InvoiceNo StockCode                      Description  Quantity  \\\n",
       "113       536381     71270                  PHOTO CLIP LINE         1   \n",
       "483       536409    90199C  5 STRAND GLASS NECKLACE CRYSTAL         3   \n",
       "485       536409     22111     SCOTTIE DOG HOT WATER BOTTLE         1   \n",
       "489       536409     22866    HAND WARMER SCOTTY DOG DESIGN         1   \n",
       "491       536409     85116  BLACK CANDELABRA T-LIGHT HOLDER         1   \n",
       "...          ...       ...                              ...       ...   \n",
       "541656    581538     23318   BOX OF 6 MINI VINTAGE CRACKERS         1   \n",
       "541659    581538     22899     CHILDREN'S APRON DOLLY GIRL          2   \n",
       "541666    581538     23343     JUMBO BAG VINTAGE CHRISTMAS          1   \n",
       "541674    581538    35004B      SET OF 3 BLACK FLYING DUCKS         2   \n",
       "541684    581538     21194        PINK  HONEYCOMB PAPER FAN         2   \n",
       "\n",
       "            InvoiceDate  UnitPrice  CustomerID         Country  \n",
       "113      12/1/2010 9:41       1.25     15311.0  United Kingdom  \n",
       "483     12/1/2010 11:45       6.35     17908.0  United Kingdom  \n",
       "485     12/1/2010 11:45       4.95     17908.0  United Kingdom  \n",
       "489     12/1/2010 11:45       2.10     17908.0  United Kingdom  \n",
       "491     12/1/2010 11:45       2.10     17908.0  United Kingdom  \n",
       "...                 ...        ...         ...             ...  \n",
       "541656  12/9/2011 11:34       2.49     14446.0  United Kingdom  \n",
       "541659  12/9/2011 11:34       2.10     14446.0  United Kingdom  \n",
       "541666  12/9/2011 11:34       2.08     14446.0  United Kingdom  \n",
       "541674  12/9/2011 11:34       5.45     14446.0  United Kingdom  \n",
       "541684  12/9/2011 11:34       0.65     14446.0  United Kingdom  \n",
       "\n",
       "[10684 rows x 8 columns]"
      ]
     },
     "execution_count": 17,
     "metadata": {},
     "output_type": "execute_result"
    }
   ],
   "source": [
    "df[df.duplicated(subset=['InvoiceNo','StockCode','InvoiceDate'],keep='last')]"
   ]
  },
  {
   "cell_type": "code",
   "execution_count": 18,
   "id": "25608495",
   "metadata": {
    "execution": {
     "iopub.execute_input": "2023-08-18T17:13:24.709441Z",
     "iopub.status.busy": "2023-08-18T17:13:24.709032Z",
     "iopub.status.idle": "2023-08-18T17:13:24.804026Z",
     "shell.execute_reply": "2023-08-18T17:13:24.802701Z"
    },
    "papermill": {
     "duration": 0.116988,
     "end_time": "2023-08-18T17:13:24.807571",
     "exception": false,
     "start_time": "2023-08-18T17:13:24.690583",
     "status": "completed"
    },
    "tags": []
   },
   "outputs": [
    {
     "data": {
      "text/html": [
       "<div>\n",
       "<style scoped>\n",
       "    .dataframe tbody tr th:only-of-type {\n",
       "        vertical-align: middle;\n",
       "    }\n",
       "\n",
       "    .dataframe tbody tr th {\n",
       "        vertical-align: top;\n",
       "    }\n",
       "\n",
       "    .dataframe thead th {\n",
       "        text-align: right;\n",
       "    }\n",
       "</style>\n",
       "<table border=\"1\" class=\"dataframe\">\n",
       "  <thead>\n",
       "    <tr style=\"text-align: right;\">\n",
       "      <th></th>\n",
       "      <th>InvoiceNo</th>\n",
       "      <th>StockCode</th>\n",
       "      <th>Description</th>\n",
       "      <th>Quantity</th>\n",
       "      <th>InvoiceDate</th>\n",
       "      <th>UnitPrice</th>\n",
       "      <th>CustomerID</th>\n",
       "      <th>Country</th>\n",
       "    </tr>\n",
       "  </thead>\n",
       "  <tbody>\n",
       "    <tr>\n",
       "      <th>541684</th>\n",
       "      <td>581538</td>\n",
       "      <td>21194</td>\n",
       "      <td>PINK  HONEYCOMB PAPER FAN</td>\n",
       "      <td>2</td>\n",
       "      <td>12/9/2011 11:34</td>\n",
       "      <td>0.65</td>\n",
       "      <td>14446.0</td>\n",
       "      <td>United Kingdom</td>\n",
       "    </tr>\n",
       "    <tr>\n",
       "      <th>541697</th>\n",
       "      <td>581538</td>\n",
       "      <td>21194</td>\n",
       "      <td>PINK  HONEYCOMB PAPER FAN</td>\n",
       "      <td>1</td>\n",
       "      <td>12/9/2011 11:34</td>\n",
       "      <td>0.65</td>\n",
       "      <td>14446.0</td>\n",
       "      <td>United Kingdom</td>\n",
       "    </tr>\n",
       "  </tbody>\n",
       "</table>\n",
       "</div>"
      ],
      "text/plain": [
       "       InvoiceNo StockCode                Description  Quantity  \\\n",
       "541684    581538     21194  PINK  HONEYCOMB PAPER FAN         2   \n",
       "541697    581538     21194  PINK  HONEYCOMB PAPER FAN         1   \n",
       "\n",
       "            InvoiceDate  UnitPrice  CustomerID         Country  \n",
       "541684  12/9/2011 11:34       0.65     14446.0  United Kingdom  \n",
       "541697  12/9/2011 11:34       0.65     14446.0  United Kingdom  "
      ]
     },
     "execution_count": 18,
     "metadata": {},
     "output_type": "execute_result"
    }
   ],
   "source": [
    "df[(df['InvoiceNo']=='581538') & (df['StockCode']=='21194')]"
   ]
  },
  {
   "cell_type": "markdown",
   "id": "9cc504ef",
   "metadata": {
    "papermill": {
     "duration": 0.016883,
     "end_time": "2023-08-18T17:13:24.842409",
     "exception": false,
     "start_time": "2023-08-18T17:13:24.825526",
     "status": "completed"
    },
    "tags": []
   },
   "source": [
    "Lets Remove The duplicates"
   ]
  },
  {
   "cell_type": "code",
   "execution_count": 19,
   "id": "a572851c",
   "metadata": {
    "execution": {
     "iopub.execute_input": "2023-08-18T17:13:24.879686Z",
     "iopub.status.busy": "2023-08-18T17:13:24.879072Z",
     "iopub.status.idle": "2023-08-18T17:13:25.105595Z",
     "shell.execute_reply": "2023-08-18T17:13:25.104188Z"
    },
    "papermill": {
     "duration": 0.249001,
     "end_time": "2023-08-18T17:13:25.108651",
     "exception": false,
     "start_time": "2023-08-18T17:13:24.859650",
     "status": "completed"
    },
    "tags": []
   },
   "outputs": [],
   "source": [
    "i=df[df.duplicated(subset=['InvoiceNo','StockCode','InvoiceDate'],keep='last')].index\n",
    "df.drop(i,inplace=True)"
   ]
  },
  {
   "cell_type": "code",
   "execution_count": 20,
   "id": "0f0d30a5",
   "metadata": {
    "execution": {
     "iopub.execute_input": "2023-08-18T17:13:25.146024Z",
     "iopub.status.busy": "2023-08-18T17:13:25.145562Z",
     "iopub.status.idle": "2023-08-18T17:13:25.484830Z",
     "shell.execute_reply": "2023-08-18T17:13:25.483752Z"
    },
    "papermill": {
     "duration": 0.361257,
     "end_time": "2023-08-18T17:13:25.487448",
     "exception": false,
     "start_time": "2023-08-18T17:13:25.126191",
     "status": "completed"
    },
    "tags": []
   },
   "outputs": [
    {
     "data": {
      "text/plain": [
       "InvoiceNo      0\n",
       "StockCode      0\n",
       "Description    0\n",
       "Quantity       0\n",
       "InvoiceDate    0\n",
       "UnitPrice      0\n",
       "CustomerID     0\n",
       "Country        0\n",
       "dtype: int64"
      ]
     },
     "execution_count": 20,
     "metadata": {},
     "output_type": "execute_result"
    }
   ],
   "source": [
    "df=df[~df['CustomerID'].isnull()]\n",
    "df.isnull().sum()"
   ]
  },
  {
   "cell_type": "markdown",
   "id": "75cba25d",
   "metadata": {
    "papermill": {
     "duration": 0.016974,
     "end_time": "2023-08-18T17:13:25.522007",
     "exception": false,
     "start_time": "2023-08-18T17:13:25.505033",
     "status": "completed"
    },
    "tags": []
   },
   "source": [
    "# Adding Extra Columns to infer more information"
   ]
  },
  {
   "cell_type": "code",
   "execution_count": 21,
   "id": "d1b1fbe0",
   "metadata": {
    "execution": {
     "iopub.execute_input": "2023-08-18T17:13:25.558732Z",
     "iopub.status.busy": "2023-08-18T17:13:25.558077Z",
     "iopub.status.idle": "2023-08-18T17:13:25.577080Z",
     "shell.execute_reply": "2023-08-18T17:13:25.575910Z"
    },
    "papermill": {
     "duration": 0.040285,
     "end_time": "2023-08-18T17:13:25.579607",
     "exception": false,
     "start_time": "2023-08-18T17:13:25.539322",
     "status": "completed"
    },
    "tags": []
   },
   "outputs": [],
   "source": [
    "data=df.copy()"
   ]
  },
  {
   "cell_type": "code",
   "execution_count": 22,
   "id": "d17c21df",
   "metadata": {
    "execution": {
     "iopub.execute_input": "2023-08-18T17:13:25.617140Z",
     "iopub.status.busy": "2023-08-18T17:13:25.615936Z",
     "iopub.status.idle": "2023-08-18T17:13:27.295973Z",
     "shell.execute_reply": "2023-08-18T17:13:27.294786Z"
    },
    "papermill": {
     "duration": 1.701838,
     "end_time": "2023-08-18T17:13:27.298746",
     "exception": false,
     "start_time": "2023-08-18T17:13:25.596908",
     "status": "completed"
    },
    "tags": []
   },
   "outputs": [],
   "source": [
    "# GROSS ORDER VALUE\n",
    "data['GOV']=data['Quantity']*data['UnitPrice']\n",
    "\n",
    "data['InvoiceDate']=pd.to_datetime(data['InvoiceDate'])"
   ]
  },
  {
   "cell_type": "code",
   "execution_count": 23,
   "id": "50413ae3",
   "metadata": {
    "execution": {
     "iopub.execute_input": "2023-08-18T17:13:27.335841Z",
     "iopub.status.busy": "2023-08-18T17:13:27.334679Z",
     "iopub.status.idle": "2023-08-18T17:13:27.466650Z",
     "shell.execute_reply": "2023-08-18T17:13:27.465495Z"
    },
    "papermill": {
     "duration": 0.153306,
     "end_time": "2023-08-18T17:13:27.469424",
     "exception": false,
     "start_time": "2023-08-18T17:13:27.316118",
     "status": "completed"
    },
    "tags": []
   },
   "outputs": [],
   "source": [
    "#year\n",
    "data['Year']=data['InvoiceDate'].dt.year\n",
    "#data['Month']=data['InvoiceDate'].dt.month\n",
    "data['DateYM']=data['InvoiceDate'].dt.to_period('M')\n",
    "data['Day of the week']=data['InvoiceDate'].dt.dayofweek\n"
   ]
  },
  {
   "cell_type": "code",
   "execution_count": 24,
   "id": "deb8da18",
   "metadata": {
    "execution": {
     "iopub.execute_input": "2023-08-18T17:13:27.508643Z",
     "iopub.status.busy": "2023-08-18T17:13:27.507540Z",
     "iopub.status.idle": "2023-08-18T17:13:27.552905Z",
     "shell.execute_reply": "2023-08-18T17:13:27.551676Z"
    },
    "papermill": {
     "duration": 0.067921,
     "end_time": "2023-08-18T17:13:27.555271",
     "exception": false,
     "start_time": "2023-08-18T17:13:27.487350",
     "status": "completed"
    },
    "tags": []
   },
   "outputs": [
    {
     "data": {
      "text/html": [
       "<div>\n",
       "<style scoped>\n",
       "    .dataframe tbody tr th:only-of-type {\n",
       "        vertical-align: middle;\n",
       "    }\n",
       "\n",
       "    .dataframe tbody tr th {\n",
       "        vertical-align: top;\n",
       "    }\n",
       "\n",
       "    .dataframe thead th {\n",
       "        text-align: right;\n",
       "    }\n",
       "</style>\n",
       "<table border=\"1\" class=\"dataframe\">\n",
       "  <thead>\n",
       "    <tr style=\"text-align: right;\">\n",
       "      <th></th>\n",
       "      <th>InvoiceNo</th>\n",
       "      <th>StockCode</th>\n",
       "      <th>Description</th>\n",
       "      <th>Quantity</th>\n",
       "      <th>InvoiceDate</th>\n",
       "      <th>UnitPrice</th>\n",
       "      <th>CustomerID</th>\n",
       "      <th>Country</th>\n",
       "      <th>GOV</th>\n",
       "      <th>Year</th>\n",
       "      <th>DateYM</th>\n",
       "      <th>Day of the week</th>\n",
       "    </tr>\n",
       "  </thead>\n",
       "  <tbody>\n",
       "    <tr>\n",
       "      <th>381585</th>\n",
       "      <td>569868</td>\n",
       "      <td>23367</td>\n",
       "      <td>SET 12 COLOUR PENCILS SPACEBOY</td>\n",
       "      <td>16</td>\n",
       "      <td>2011-10-06 14:59:00</td>\n",
       "      <td>0.65</td>\n",
       "      <td>13018.0</td>\n",
       "      <td>United Kingdom</td>\n",
       "      <td>10.40</td>\n",
       "      <td>2011</td>\n",
       "      <td>2011-10</td>\n",
       "      <td>3</td>\n",
       "    </tr>\n",
       "    <tr>\n",
       "      <th>488514</th>\n",
       "      <td>577831</td>\n",
       "      <td>20723</td>\n",
       "      <td>STRAWBERRY CHARLOTTE BAG</td>\n",
       "      <td>10</td>\n",
       "      <td>2011-11-22 10:17:00</td>\n",
       "      <td>0.85</td>\n",
       "      <td>16748.0</td>\n",
       "      <td>United Kingdom</td>\n",
       "      <td>8.50</td>\n",
       "      <td>2011</td>\n",
       "      <td>2011-11</td>\n",
       "      <td>1</td>\n",
       "    </tr>\n",
       "    <tr>\n",
       "      <th>175618</th>\n",
       "      <td>551982</td>\n",
       "      <td>22147</td>\n",
       "      <td>FELTCRAFT BUTTERFLY HEARTS</td>\n",
       "      <td>3</td>\n",
       "      <td>2011-05-05 13:56:00</td>\n",
       "      <td>1.45</td>\n",
       "      <td>15023.0</td>\n",
       "      <td>United Kingdom</td>\n",
       "      <td>4.35</td>\n",
       "      <td>2011</td>\n",
       "      <td>2011-05</td>\n",
       "      <td>3</td>\n",
       "    </tr>\n",
       "    <tr>\n",
       "      <th>283723</th>\n",
       "      <td>561798</td>\n",
       "      <td>22727</td>\n",
       "      <td>ALARM CLOCK BAKELIKE RED</td>\n",
       "      <td>4</td>\n",
       "      <td>2011-07-29 13:39:00</td>\n",
       "      <td>3.75</td>\n",
       "      <td>14911.0</td>\n",
       "      <td>EIRE</td>\n",
       "      <td>15.00</td>\n",
       "      <td>2011</td>\n",
       "      <td>2011-07</td>\n",
       "      <td>4</td>\n",
       "    </tr>\n",
       "  </tbody>\n",
       "</table>\n",
       "</div>"
      ],
      "text/plain": [
       "       InvoiceNo StockCode                      Description  Quantity  \\\n",
       "381585    569868     23367  SET 12 COLOUR PENCILS SPACEBOY         16   \n",
       "488514    577831     20723         STRAWBERRY CHARLOTTE BAG        10   \n",
       "175618    551982     22147       FELTCRAFT BUTTERFLY HEARTS         3   \n",
       "283723    561798     22727        ALARM CLOCK BAKELIKE RED          4   \n",
       "\n",
       "               InvoiceDate  UnitPrice  CustomerID         Country    GOV  \\\n",
       "381585 2011-10-06 14:59:00       0.65     13018.0  United Kingdom  10.40   \n",
       "488514 2011-11-22 10:17:00       0.85     16748.0  United Kingdom   8.50   \n",
       "175618 2011-05-05 13:56:00       1.45     15023.0  United Kingdom   4.35   \n",
       "283723 2011-07-29 13:39:00       3.75     14911.0            EIRE  15.00   \n",
       "\n",
       "        Year   DateYM  Day of the week  \n",
       "381585  2011  2011-10                3  \n",
       "488514  2011  2011-11                1  \n",
       "175618  2011  2011-05                3  \n",
       "283723  2011  2011-07                4  "
      ]
     },
     "execution_count": 24,
     "metadata": {},
     "output_type": "execute_result"
    }
   ],
   "source": [
    "data.sample(4)\n"
   ]
  },
  {
   "cell_type": "code",
   "execution_count": 25,
   "id": "d2ed254f",
   "metadata": {
    "execution": {
     "iopub.execute_input": "2023-08-18T17:13:27.593594Z",
     "iopub.status.busy": "2023-08-18T17:13:27.592404Z",
     "iopub.status.idle": "2023-08-18T17:13:27.691737Z",
     "shell.execute_reply": "2023-08-18T17:13:27.690581Z"
    },
    "papermill": {
     "duration": 0.120722,
     "end_time": "2023-08-18T17:13:27.694215",
     "exception": false,
     "start_time": "2023-08-18T17:13:27.573493",
     "status": "completed"
    },
    "tags": []
   },
   "outputs": [
    {
     "data": {
      "text/html": [
       "<div>\n",
       "<style scoped>\n",
       "    .dataframe tbody tr th:only-of-type {\n",
       "        vertical-align: middle;\n",
       "    }\n",
       "\n",
       "    .dataframe tbody tr th {\n",
       "        vertical-align: top;\n",
       "    }\n",
       "\n",
       "    .dataframe thead th {\n",
       "        text-align: right;\n",
       "    }\n",
       "</style>\n",
       "<table border=\"1\" class=\"dataframe\">\n",
       "  <thead>\n",
       "    <tr style=\"text-align: right;\">\n",
       "      <th></th>\n",
       "      <th>Quantity</th>\n",
       "      <th>UnitPrice</th>\n",
       "      <th>CustomerID</th>\n",
       "      <th>GOV</th>\n",
       "      <th>Year</th>\n",
       "      <th>Day of the week</th>\n",
       "    </tr>\n",
       "  </thead>\n",
       "  <tbody>\n",
       "    <tr>\n",
       "      <th>count</th>\n",
       "      <td>387738.000000</td>\n",
       "      <td>387738.000000</td>\n",
       "      <td>387738.000000</td>\n",
       "      <td>387738.000000</td>\n",
       "      <td>387738.000000</td>\n",
       "      <td>387738.000000</td>\n",
       "    </tr>\n",
       "    <tr>\n",
       "      <th>mean</th>\n",
       "      <td>13.234571</td>\n",
       "      <td>3.120678</td>\n",
       "      <td>15282.106146</td>\n",
       "      <td>22.817558</td>\n",
       "      <td>2010.934778</td>\n",
       "      <td>2.600769</td>\n",
       "    </tr>\n",
       "    <tr>\n",
       "      <th>std</th>\n",
       "      <td>181.628681</td>\n",
       "      <td>21.092791</td>\n",
       "      <td>1713.848959</td>\n",
       "      <td>312.966412</td>\n",
       "      <td>0.246917</td>\n",
       "      <td>1.919791</td>\n",
       "    </tr>\n",
       "    <tr>\n",
       "      <th>min</th>\n",
       "      <td>1.000000</td>\n",
       "      <td>0.001000</td>\n",
       "      <td>12346.000000</td>\n",
       "      <td>0.001000</td>\n",
       "      <td>2010.000000</td>\n",
       "      <td>0.000000</td>\n",
       "    </tr>\n",
       "    <tr>\n",
       "      <th>25%</th>\n",
       "      <td>2.000000</td>\n",
       "      <td>1.250000</td>\n",
       "      <td>13941.000000</td>\n",
       "      <td>4.950000</td>\n",
       "      <td>2011.000000</td>\n",
       "      <td>1.000000</td>\n",
       "    </tr>\n",
       "    <tr>\n",
       "      <th>50%</th>\n",
       "      <td>6.000000</td>\n",
       "      <td>1.950000</td>\n",
       "      <td>15145.000000</td>\n",
       "      <td>12.500000</td>\n",
       "      <td>2011.000000</td>\n",
       "      <td>2.000000</td>\n",
       "    </tr>\n",
       "    <tr>\n",
       "      <th>75%</th>\n",
       "      <td>12.000000</td>\n",
       "      <td>3.750000</td>\n",
       "      <td>16790.000000</td>\n",
       "      <td>19.800000</td>\n",
       "      <td>2011.000000</td>\n",
       "      <td>4.000000</td>\n",
       "    </tr>\n",
       "    <tr>\n",
       "      <th>max</th>\n",
       "      <td>80995.000000</td>\n",
       "      <td>8142.750000</td>\n",
       "      <td>18287.000000</td>\n",
       "      <td>168469.600000</td>\n",
       "      <td>2011.000000</td>\n",
       "      <td>6.000000</td>\n",
       "    </tr>\n",
       "  </tbody>\n",
       "</table>\n",
       "</div>"
      ],
      "text/plain": [
       "            Quantity      UnitPrice     CustomerID            GOV  \\\n",
       "count  387738.000000  387738.000000  387738.000000  387738.000000   \n",
       "mean       13.234571       3.120678   15282.106146      22.817558   \n",
       "std       181.628681      21.092791    1713.848959     312.966412   \n",
       "min         1.000000       0.001000   12346.000000       0.001000   \n",
       "25%         2.000000       1.250000   13941.000000       4.950000   \n",
       "50%         6.000000       1.950000   15145.000000      12.500000   \n",
       "75%        12.000000       3.750000   16790.000000      19.800000   \n",
       "max     80995.000000    8142.750000   18287.000000  168469.600000   \n",
       "\n",
       "                Year  Day of the week  \n",
       "count  387738.000000    387738.000000  \n",
       "mean     2010.934778         2.600769  \n",
       "std         0.246917         1.919791  \n",
       "min      2010.000000         0.000000  \n",
       "25%      2011.000000         1.000000  \n",
       "50%      2011.000000         2.000000  \n",
       "75%      2011.000000         4.000000  \n",
       "max      2011.000000         6.000000  "
      ]
     },
     "execution_count": 25,
     "metadata": {},
     "output_type": "execute_result"
    }
   ],
   "source": [
    "data.describe()"
   ]
  },
  {
   "cell_type": "code",
   "execution_count": 26,
   "id": "b9751979",
   "metadata": {
    "execution": {
     "iopub.execute_input": "2023-08-18T17:13:27.732719Z",
     "iopub.status.busy": "2023-08-18T17:13:27.732307Z",
     "iopub.status.idle": "2023-08-18T17:13:28.635995Z",
     "shell.execute_reply": "2023-08-18T17:13:28.634855Z"
    },
    "papermill": {
     "duration": 0.926091,
     "end_time": "2023-08-18T17:13:28.638445",
     "exception": false,
     "start_time": "2023-08-18T17:13:27.712354",
     "status": "completed"
    },
    "tags": []
   },
   "outputs": [
    {
     "data": {
      "text/plain": [
       "<Axes: ylabel='GOV'>"
      ]
     },
     "execution_count": 26,
     "metadata": {},
     "output_type": "execute_result"
    },
    {
     "data": {
      "image/png": "[encoded data removed]",
      "text/plain": [
       "<Figure size 2000x500 with 3 Axes>"
      ]
     },
     "metadata": {},
     "output_type": "display_data"
    }
   ],
   "source": [
    "fig = plt.figure(figsize = (20,5))\n",
    "fig.suptitle(\"Visualisation of outliers\",size=20)\n",
    "\n",
    "axes = fig.add_subplot(1, 3, 1)\n",
    "sns.boxplot(data=data,y=\"UnitPrice\")\n",
    "\n",
    "axes = fig.add_subplot(1, 3, 2)\n",
    "sns.boxplot(data=data,y=\"Quantity\")\n",
    "\n",
    "axes = fig.add_subplot(1, 3, 3)\n",
    "sns.boxplot(data=data,y=\"GOV\")"
   ]
  },
  {
   "cell_type": "code",
   "execution_count": 27,
   "id": "85c87ca5",
   "metadata": {
    "execution": {
     "iopub.execute_input": "2023-08-18T17:13:28.678666Z",
     "iopub.status.busy": "2023-08-18T17:13:28.677441Z",
     "iopub.status.idle": "2023-08-18T17:13:28.736030Z",
     "shell.execute_reply": "2023-08-18T17:13:28.735026Z"
    },
    "papermill": {
     "duration": 0.081464,
     "end_time": "2023-08-18T17:13:28.738736",
     "exception": false,
     "start_time": "2023-08-18T17:13:28.657272",
     "status": "completed"
    },
    "tags": []
   },
   "outputs": [],
   "source": [
    "from scipy import stats\n",
    "data= data[(np.abs(stats.zscore(data[[\"GOV\"]])) < 2).all(axis=1)]"
   ]
  },
  {
   "cell_type": "markdown",
   "id": "2d61a308",
   "metadata": {
    "papermill": {
     "duration": 0.018779,
     "end_time": "2023-08-18T17:13:28.776373",
     "exception": false,
     "start_time": "2023-08-18T17:13:28.757594",
     "status": "completed"
    },
    "tags": []
   },
   "source": [
    "#  Exploratory Data Analysis\n",
    "> "
   ]
  },
  {
   "cell_type": "markdown",
   "id": "1a00101a",
   "metadata": {
    "papermill": {
     "duration": 0.018529,
     "end_time": "2023-08-18T17:13:28.813663",
     "exception": false,
     "start_time": "2023-08-18T17:13:28.795134",
     "status": "completed"
    },
    "tags": []
   },
   "source": [
    "# Power BI Screen shot\n",
    "![Alt Text](https://github.com/rahulnk09/iNeuBytes/blob/main/Power%20Bi%20DashBoard.png?raw=true)"
   ]
  },
  {
   "cell_type": "markdown",
   "id": "c54474e7",
   "metadata": {
    "papermill": {
     "duration": 0.018912,
     "end_time": "2023-08-18T17:13:28.852960",
     "exception": false,
     "start_time": "2023-08-18T17:13:28.834048",
     "status": "completed"
    },
    "tags": []
   },
   "source": [
    "> Sales are at it's peak during **September, October & November** of 2011"
   ]
  },
  {
   "cell_type": "code",
   "execution_count": 28,
   "id": "f1739ac4",
   "metadata": {
    "execution": {
     "iopub.execute_input": "2023-08-18T17:13:28.892112Z",
     "iopub.status.busy": "2023-08-18T17:13:28.891710Z",
     "iopub.status.idle": "2023-08-18T17:13:29.289633Z",
     "shell.execute_reply": "2023-08-18T17:13:29.288597Z"
    },
    "papermill": {
     "duration": 0.42007,
     "end_time": "2023-08-18T17:13:29.291842",
     "exception": false,
     "start_time": "2023-08-18T17:13:28.871772",
     "status": "completed"
    },
    "tags": []
   },
   "outputs": [
    {
     "data": {
      "text/plain": [
       "Text(0.5, 1.0, 'Sale Trend')"
      ]
     },
     "execution_count": 28,
     "metadata": {},
     "output_type": "execute_result"
    },
    {
     "data": {
      "image/png": "[encoded data removed]",
      "text/plain": [
       "<Figure size 1000x600 with 1 Axes>"
      ]
     },
     "metadata": {},
     "output_type": "display_data"
    }
   ],
   "source": [
    "plt.figure(figsize=(10,6))\n",
    "data.groupby('DateYM')['GOV'].sum().plot()\n",
    "plt.ylabel('Gross Sale')\n",
    "plt.title('Sale Trend')"
   ]
  },
  {
   "cell_type": "code",
   "execution_count": 29,
   "id": "736845b6",
   "metadata": {
    "execution": {
     "iopub.execute_input": "2023-08-18T17:13:29.332576Z",
     "iopub.status.busy": "2023-08-18T17:13:29.332170Z",
     "iopub.status.idle": "2023-08-18T17:13:29.381559Z",
     "shell.execute_reply": "2023-08-18T17:13:29.380495Z"
    },
    "papermill": {
     "duration": 0.072712,
     "end_time": "2023-08-18T17:13:29.384177",
     "exception": false,
     "start_time": "2023-08-18T17:13:29.311465",
     "status": "completed"
    },
    "tags": []
   },
   "outputs": [],
   "source": [
    "grouped=data.groupby('Day of the week').agg({'GOV':'sum','InvoiceNo':'nunique'})\n",
    "grouped=grouped.reset_index().rename(columns={'GOV':'Gross_Sales_day','InvoiceNo':'Total Order/day'})\n",
    "#grouped.loc[len(grouped)]=[5,0,0]\n",
    "#grouped=grouped.sort_values(by='Day of the week')"
   ]
  },
  {
   "cell_type": "code",
   "execution_count": 30,
   "id": "19c5879d",
   "metadata": {
    "execution": {
     "iopub.execute_input": "2023-08-18T17:13:29.425844Z",
     "iopub.status.busy": "2023-08-18T17:13:29.425425Z",
     "iopub.status.idle": "2023-08-18T17:13:29.435097Z",
     "shell.execute_reply": "2023-08-18T17:13:29.434284Z"
    },
    "papermill": {
     "duration": 0.03251,
     "end_time": "2023-08-18T17:13:29.436956",
     "exception": false,
     "start_time": "2023-08-18T17:13:29.404446",
     "status": "completed"
    },
    "tags": []
   },
   "outputs": [
    {
     "data": {
      "text/html": [
       "<div>\n",
       "<style scoped>\n",
       "    .dataframe tbody tr th:only-of-type {\n",
       "        vertical-align: middle;\n",
       "    }\n",
       "\n",
       "    .dataframe tbody tr th {\n",
       "        vertical-align: top;\n",
       "    }\n",
       "\n",
       "    .dataframe thead th {\n",
       "        text-align: right;\n",
       "    }\n",
       "</style>\n",
       "<table border=\"1\" class=\"dataframe\">\n",
       "  <thead>\n",
       "    <tr style=\"text-align: right;\">\n",
       "      <th></th>\n",
       "      <th>Day of the week</th>\n",
       "      <th>Gross_Sales_day</th>\n",
       "      <th>Total Order/day</th>\n",
       "    </tr>\n",
       "  </thead>\n",
       "  <tbody>\n",
       "    <tr>\n",
       "      <th>0</th>\n",
       "      <td>0</td>\n",
       "      <td>1239914.821</td>\n",
       "      <td>2843</td>\n",
       "    </tr>\n",
       "    <tr>\n",
       "      <th>1</th>\n",
       "      <td>1</td>\n",
       "      <td>1372517.381</td>\n",
       "      <td>3151</td>\n",
       "    </tr>\n",
       "    <tr>\n",
       "      <th>2</th>\n",
       "      <td>2</td>\n",
       "      <td>1472301.260</td>\n",
       "      <td>3431</td>\n",
       "    </tr>\n",
       "    <tr>\n",
       "      <th>3</th>\n",
       "      <td>3</td>\n",
       "      <td>1730666.610</td>\n",
       "      <td>4007</td>\n",
       "    </tr>\n",
       "    <tr>\n",
       "      <th>4</th>\n",
       "      <td>4</td>\n",
       "      <td>1170933.601</td>\n",
       "      <td>2803</td>\n",
       "    </tr>\n",
       "    <tr>\n",
       "      <th>5</th>\n",
       "      <td>6</td>\n",
       "      <td>762930.981</td>\n",
       "      <td>2168</td>\n",
       "    </tr>\n",
       "  </tbody>\n",
       "</table>\n",
       "</div>"
      ],
      "text/plain": [
       "   Day of the week  Gross_Sales_day  Total Order/day\n",
       "0                0      1239914.821             2843\n",
       "1                1      1372517.381             3151\n",
       "2                2      1472301.260             3431\n",
       "3                3      1730666.610             4007\n",
       "4                4      1170933.601             2803\n",
       "5                6       762930.981             2168"
      ]
     },
     "execution_count": 30,
     "metadata": {},
     "output_type": "execute_result"
    }
   ],
   "source": [
    "grouped"
   ]
  },
  {
   "cell_type": "code",
   "execution_count": 31,
   "id": "918f0688",
   "metadata": {
    "execution": {
     "iopub.execute_input": "2023-08-18T17:13:29.480256Z",
     "iopub.status.busy": "2023-08-18T17:13:29.479524Z",
     "iopub.status.idle": "2023-08-18T17:13:30.034914Z",
     "shell.execute_reply": "2023-08-18T17:13:30.033513Z"
    },
    "papermill": {
     "duration": 0.579867,
     "end_time": "2023-08-18T17:13:30.037475",
     "exception": false,
     "start_time": "2023-08-18T17:13:29.457608",
     "status": "completed"
    },
    "tags": []
   },
   "outputs": [
    {
     "data": {
      "text/plain": [
       "[<matplotlib.axis.XTick at 0x7ef358cb3b80>,\n",
       " <matplotlib.axis.XTick at 0x7ef358cb3b50>,\n",
       " <matplotlib.axis.XTick at 0x7ef358cb2110>,\n",
       " <matplotlib.axis.XTick at 0x7ef358cf4c70>,\n",
       " <matplotlib.axis.XTick at 0x7ef358cf5720>,\n",
       " <matplotlib.axis.XTick at 0x7ef358cf61d0>,\n",
       " <matplotlib.axis.XTick at 0x7ef358cf6c80>]"
      ]
     },
     "execution_count": 31,
     "metadata": {},
     "output_type": "execute_result"
    },
    {
     "data": {
      "image/png": "[encoded data removed]",
      "text/plain": [
       "<Figure size 1000x600 with 2 Axes>"
      ]
     },
     "metadata": {},
     "output_type": "display_data"
    }
   ],
   "source": [
    "plt.figure(figsize=(10,6))\n",
    "#ax=data.groupby('Day of the week')['GOV'].sum().plot(color='r',marker='o',label='Gross Sale')\n",
    "ax1=sns.lineplot(data=grouped,x='Day of the week',y='Gross_Sales_day',marker='o',color='b')\n",
    "ax1.legend(['Gross Sales/day' ],loc='upper left')\n",
    "plt.ylabel('Gross Sale',color='b')\n",
    "plt.title('Sale Trend- Weekly Basis')\n",
    "ax1.tick_params(axis='y', labelcolor='b')\n",
    "\n",
    "ax2=ax1.twinx()\n",
    "sns.lineplot(data=grouped,x='Day of the week',y='Total Order/day',ax=ax2,marker='x',color='orange',label='Orders/day')\n",
    "ax2.legend(loc='upper right')\n",
    "#ax2.set_yticks([4,8,12,16,20,24,28,32,36])\n",
    "ax2.tick_params(axis='y', labelcolor='orange')\n",
    "ax2.set_ylabel('Average Orders',color='orange')\n",
    "ax1.set_xticks(ticks=[0,1,2,3,4,5,6],labels=['Mon','Tue','Wed','Thur','Fri','Sat','Sun'])\n",
    "#ax2.set_xticks(ticks=[0,1,2,3,4,5,6],labels=['Mon','Tue','Wed','Thur','Fri','Sat','Sun'])\n"
   ]
  },
  {
   "cell_type": "markdown",
   "id": "3cd51bd1",
   "metadata": {
    "papermill": {
     "duration": 0.020669,
     "end_time": "2023-08-18T17:13:30.079662",
     "exception": false,
     "start_time": "2023-08-18T17:13:30.058993",
     "status": "completed"
    },
    "tags": []
   },
   "source": [
    "> **The sales are highest on the Wednesday**\n",
    "> > Saturday is holiday as there no orders recieved "
   ]
  },
  {
   "cell_type": "code",
   "execution_count": 32,
   "id": "0d07c907",
   "metadata": {
    "execution": {
     "iopub.execute_input": "2023-08-18T17:13:30.124170Z",
     "iopub.status.busy": "2023-08-18T17:13:30.123736Z",
     "iopub.status.idle": "2023-08-18T17:13:30.163588Z",
     "shell.execute_reply": "2023-08-18T17:13:30.162425Z"
    },
    "papermill": {
     "duration": 0.065358,
     "end_time": "2023-08-18T17:13:30.166163",
     "exception": false,
     "start_time": "2023-08-18T17:13:30.100805",
     "status": "completed"
    },
    "tags": []
   },
   "outputs": [],
   "source": [
    "grouped=data.groupby('Country').agg({'GOV':'sum'}).reset_index().rename(columns={'GOV':'Gross sales'}).sort_values(by='Gross sales',ascending=False).head(10)"
   ]
  },
  {
   "cell_type": "code",
   "execution_count": 33,
   "id": "599e644a",
   "metadata": {
    "execution": {
     "iopub.execute_input": "2023-08-18T17:13:30.210432Z",
     "iopub.status.busy": "2023-08-18T17:13:30.210032Z",
     "iopub.status.idle": "2023-08-18T17:13:30.561451Z",
     "shell.execute_reply": "2023-08-18T17:13:30.560353Z"
    },
    "papermill": {
     "duration": 0.376274,
     "end_time": "2023-08-18T17:13:30.563992",
     "exception": false,
     "start_time": "2023-08-18T17:13:30.187718",
     "status": "completed"
    },
    "tags": []
   },
   "outputs": [
    {
     "data": {
      "image/png": "[encoded data removed]",
      "text/plain": [
       "<Figure size 640x480 with 1 Axes>"
      ]
     },
     "metadata": {},
     "output_type": "display_data"
    }
   ],
   "source": [
    "ax=sns.barplot(grouped,x='Gross sales',y='Country')\n",
    "\n",
    "for i in ax.containers:\n",
    "    ax.bar_label(i,)"
   ]
  },
  {
   "cell_type": "code",
   "execution_count": 34,
   "id": "dfadce6b",
   "metadata": {
    "execution": {
     "iopub.execute_input": "2023-08-18T17:13:30.610077Z",
     "iopub.status.busy": "2023-08-18T17:13:30.609070Z",
     "iopub.status.idle": "2023-08-18T17:13:30.787000Z",
     "shell.execute_reply": "2023-08-18T17:13:30.785810Z"
    },
    "papermill": {
     "duration": 0.203855,
     "end_time": "2023-08-18T17:13:30.789341",
     "exception": false,
     "start_time": "2023-08-18T17:13:30.585486",
     "status": "completed"
    },
    "tags": []
   },
   "outputs": [
    {
     "data": {
      "text/html": [
       "<style type=\"text/css\">\n",
       "#T_f3b4b_row0_col4 {\n",
       "  background-color: #ebf3ed;\n",
       "  color: #000000;\n",
       "}\n",
       "#T_f3b4b_row1_col4 {\n",
       "  background-color: #c4ddcf;\n",
       "  color: #000000;\n",
       "}\n",
       "#T_f3b4b_row2_col4 {\n",
       "  background-color: #d6e7dd;\n",
       "  color: #000000;\n",
       "}\n",
       "#T_f3b4b_row3_col4 {\n",
       "  background-color: #2e8b57;\n",
       "  color: #f1f1f1;\n",
       "}\n",
       "#T_f3b4b_row4_col4 {\n",
       "  background-color: #509e72;\n",
       "  color: #f1f1f1;\n",
       "}\n",
       "</style>\n",
       "<table id=\"T_f3b4b\">\n",
       "  <thead>\n",
       "    <tr>\n",
       "      <th class=\"blank level0\" >&nbsp;</th>\n",
       "      <th id=\"T_f3b4b_level0_col0\" class=\"col_heading level0 col0\" >Country</th>\n",
       "      <th id=\"T_f3b4b_level0_col1\" class=\"col_heading level0 col1\" >Product</th>\n",
       "      <th id=\"T_f3b4b_level0_col2\" class=\"col_heading level0 col2\" >sales</th>\n",
       "      <th id=\"T_f3b4b_level0_col3\" class=\"col_heading level0 col3\" >total sales</th>\n",
       "      <th id=\"T_f3b4b_level0_col4\" class=\"col_heading level0 col4\" >% of total sales</th>\n",
       "    </tr>\n",
       "  </thead>\n",
       "  <tbody>\n",
       "    <tr>\n",
       "      <th id=\"T_f3b4b_level0_row0\" class=\"row_heading level0 row0\" >35</th>\n",
       "      <td id=\"T_f3b4b_row0_col0\" class=\"data row0 col0\" >United Kingdom</td>\n",
       "      <td id=\"T_f3b4b_row0_col1\" class=\"data row0 col1\" >REGENCY CAKESTAND 3 TIER</td>\n",
       "      <td id=\"T_f3b4b_row0_col2\" class=\"data row0 col2\" >86318.650000</td>\n",
       "      <td id=\"T_f3b4b_row0_col3\" class=\"data row0 col3\" >6258603.934000</td>\n",
       "      <td id=\"T_f3b4b_row0_col4\" class=\"data row0 col4\" >0.013792</td>\n",
       "    </tr>\n",
       "    <tr>\n",
       "      <th id=\"T_f3b4b_level0_row1\" class=\"row_heading level0 row1\" >23</th>\n",
       "      <td id=\"T_f3b4b_row1_col0\" class=\"data row1 col0\" >Netherlands</td>\n",
       "      <td id=\"T_f3b4b_row1_col1\" class=\"data row1 col1\" >ROUND SNACK BOXES SET OF4 WOODLAND </td>\n",
       "      <td id=\"T_f3b4b_row1_col2\" class=\"data row1 col2\" >7991.400000</td>\n",
       "      <td id=\"T_f3b4b_row1_col3\" class=\"data row1 col3\" >266328.580000</td>\n",
       "      <td id=\"T_f3b4b_row1_col4\" class=\"data row1 col4\" >0.030006</td>\n",
       "    </tr>\n",
       "    <tr>\n",
       "      <th id=\"T_f3b4b_level0_row2\" class=\"row_heading level0 row2\" >10</th>\n",
       "      <td id=\"T_f3b4b_row2_col0\" class=\"data row2 col0\" >EIRE</td>\n",
       "      <td id=\"T_f3b4b_row2_col1\" class=\"data row2 col1\" >REGENCY CAKESTAND 3 TIER</td>\n",
       "      <td id=\"T_f3b4b_row2_col2\" class=\"data row2 col2\" >5410.350000</td>\n",
       "      <td id=\"T_f3b4b_row2_col3\" class=\"data row2 col3\" >240353.870000</td>\n",
       "      <td id=\"T_f3b4b_row2_col4\" class=\"data row2 col4\" >0.022510</td>\n",
       "    </tr>\n",
       "    <tr>\n",
       "      <th id=\"T_f3b4b_level0_row3\" class=\"row_heading level0 row3\" >14</th>\n",
       "      <td id=\"T_f3b4b_row3_col0\" class=\"data row3 col0\" >Germany</td>\n",
       "      <td id=\"T_f3b4b_row3_col1\" class=\"data row3 col1\" >POSTAGE</td>\n",
       "      <td id=\"T_f3b4b_row3_col2\" class=\"data row3 col2\" >21001.000000</td>\n",
       "      <td id=\"T_f3b4b_row3_col3\" class=\"data row3 col3\" >226530.370000</td>\n",
       "      <td id=\"T_f3b4b_row3_col4\" class=\"data row3 col4\" >0.092707</td>\n",
       "    </tr>\n",
       "    <tr>\n",
       "      <th id=\"T_f3b4b_level0_row4\" class=\"row_heading level0 row4\" >13</th>\n",
       "      <td id=\"T_f3b4b_row4_col0\" class=\"data row4 col0\" >France</td>\n",
       "      <td id=\"T_f3b4b_row4_col1\" class=\"data row4 col1\" >POSTAGE</td>\n",
       "      <td id=\"T_f3b4b_row4_col2\" class=\"data row4 col2\" >15454.000000</td>\n",
       "      <td id=\"T_f3b4b_row4_col3\" class=\"data row4 col3\" >196926.680000</td>\n",
       "      <td id=\"T_f3b4b_row4_col4\" class=\"data row4 col4\" >0.078476</td>\n",
       "    </tr>\n",
       "  </tbody>\n",
       "</table>\n"
      ],
      "text/plain": [
       "<pandas.io.formats.style.Styler at 0x7ef358c4f520>"
      ]
     },
     "execution_count": 34,
     "metadata": {},
     "output_type": "execute_result"
    }
   ],
   "source": [
    "group=pd.DataFrame(data.groupby(['Country','Description'])['GOV'].sum())\n",
    "best=pd.DataFrame(group.groupby('Country')['GOV'].idxmax().values.tolist(),columns=['Country','Product'])\n",
    "best['sales']=group.groupby('Country')['GOV'].max().values.tolist()\n",
    "best['total sales']=group.groupby('Country')['GOV'].sum().values.tolist()\n",
    "best=best.sort_values(by='total sales',ascending=False).head(5)\n",
    "best['% of total sales']=best['sales']/best['total sales']\n",
    "\n",
    "best.style.background_gradient(cmap=sns.light_palette(\"seagreen\", as_cmap=True), subset=[\"% of total sales\"])"
   ]
  },
  {
   "cell_type": "code",
   "execution_count": 35,
   "id": "5b388692",
   "metadata": {
    "execution": {
     "iopub.execute_input": "2023-08-18T17:13:30.838594Z",
     "iopub.status.busy": "2023-08-18T17:13:30.837931Z",
     "iopub.status.idle": "2023-08-18T17:13:31.402260Z",
     "shell.execute_reply": "2023-08-18T17:13:31.401145Z"
    },
    "papermill": {
     "duration": 0.592815,
     "end_time": "2023-08-18T17:13:31.404882",
     "exception": false,
     "start_time": "2023-08-18T17:13:30.812067",
     "status": "completed"
    },
    "tags": []
   },
   "outputs": [],
   "source": [
    "data.reset_index()\n",
    "number_customers = data.groupby('DateYM')[\"CustomerID\"].nunique()\n",
    "number_customers = pd.DataFrame(data=number_customers).reset_index()\n",
    "\n",
    "\n",
    "number_new_customers = []\n",
    "customers_seen = []\n",
    "for month in data['DateYM'].unique():\n",
    "    customers = data[data[\"DateYM\"] == month].CustomerID.unique()\n",
    "    count=0\n",
    "    for customer in customers:\n",
    "        if customer not in customers_seen:\n",
    "            count+=1\n",
    "            customers_seen.append(customer)\n",
    "    number_new_customers.append((month,count))\n",
    "number_new_customers = pd.DataFrame(number_new_customers,columns=[\"Date\",\"New customers\"])\n",
    "number_new_customers.Date = number_new_customers.Date.dt.to_timestamp()"
   ]
  },
  {
   "cell_type": "code",
   "execution_count": 36,
   "id": "387912b4",
   "metadata": {
    "execution": {
     "iopub.execute_input": "2023-08-18T17:13:31.450333Z",
     "iopub.status.busy": "2023-08-18T17:13:31.449945Z",
     "iopub.status.idle": "2023-08-18T17:13:31.458495Z",
     "shell.execute_reply": "2023-08-18T17:13:31.457230Z"
    },
    "papermill": {
     "duration": 0.033802,
     "end_time": "2023-08-18T17:13:31.460746",
     "exception": false,
     "start_time": "2023-08-18T17:13:31.426944",
     "status": "completed"
    },
    "tags": []
   },
   "outputs": [],
   "source": [
    "dates=[pd.to_datetime(\"2010-12\",format=(\"%Y-%m\"))]\n",
    "dates+=[pd.to_datetime(\"2011-\"+str(month),format=\"%Y-%m\") for month in range(1,13)]\n",
    "number_customers['DateYM']=number_new_customers['Date']\n"
   ]
  },
  {
   "cell_type": "code",
   "execution_count": 37,
   "id": "c2e498a4",
   "metadata": {
    "execution": {
     "iopub.execute_input": "2023-08-18T17:13:31.507347Z",
     "iopub.status.busy": "2023-08-18T17:13:31.506956Z",
     "iopub.status.idle": "2023-08-18T17:13:32.111799Z",
     "shell.execute_reply": "2023-08-18T17:13:32.110550Z"
    },
    "papermill": {
     "duration": 0.631067,
     "end_time": "2023-08-18T17:13:32.115152",
     "exception": false,
     "start_time": "2023-08-18T17:13:31.484085",
     "status": "completed"
    },
    "tags": []
   },
   "outputs": [
    {
     "data": {
      "image/png": "[encoded data removed]",
      "text/plain": [
       "<Figure size 2000x1000 with 1 Axes>"
      ]
     },
     "metadata": {},
     "output_type": "display_data"
    }
   ],
   "source": [
    "fig  = plt.figure(figsize = (20,10)).suptitle('Customers Per Month', fontsize=30)\n",
    "lineplot = sns.lineplot(data=number_new_customers,x=\"Date\", y=\"New customers\", marker=\"o\",linewidth = 2, label=\"New customers shopped\")\n",
    "sns.lineplot(ax=lineplot,data=number_customers,x=\"DateYM\", y=\"CustomerID\", marker=\"o\",linewidth = 2, label=\"Total active customers\")\n",
    "\n",
    "lineplot.set_xlabel(\"Date\",fontsize=20)\n",
    "lineplot.set_ylabel(\"Customers\",fontsize=20)\n",
    "plt.xticks(dates,rotation = 45,fontsize=12)\n",
    "plt.yticks(fontsize=12)\n",
    "plt.grid()"
   ]
  },
  {
   "cell_type": "markdown",
   "id": "c41db0aa",
   "metadata": {
    "papermill": {
     "duration": 0.023427,
     "end_time": "2023-08-18T17:13:32.162048",
     "exception": false,
     "start_time": "2023-08-18T17:13:32.138621",
     "status": "completed"
    },
    "tags": []
   },
   "source": [
    "> New Customers shopped on the online ecommerce paltform got stabilised in the 2011 and decreased sharply by the end of the year --> Which **needs attention**\n",
    "\n",
    "> Customers traffic on the platform increased during Sept,Oct,Nov of 2011, which accounts for the rise in total sales"
   ]
  },
  {
   "cell_type": "code",
   "execution_count": 38,
   "id": "b97bdff9",
   "metadata": {
    "execution": {
     "iopub.execute_input": "2023-08-18T17:13:32.211291Z",
     "iopub.status.busy": "2023-08-18T17:13:32.210838Z",
     "iopub.status.idle": "2023-08-18T17:13:33.608802Z",
     "shell.execute_reply": "2023-08-18T17:13:33.607836Z"
    },
    "papermill": {
     "duration": 1.42596,
     "end_time": "2023-08-18T17:13:33.611460",
     "exception": false,
     "start_time": "2023-08-18T17:13:32.185500",
     "status": "completed"
    },
    "tags": []
   },
   "outputs": [],
   "source": [
    "today_date = dt.datetime(2012, 1, 1)\n",
    "data1=data[data['Year']>2010]\n",
    "X=data1.groupby('CustomerID').agg({'InvoiceDate': lambda InvoiceDate: (today_date- InvoiceDate.max()).days,\n",
    "                                     'InvoiceNo'    : lambda InvoiceNo: InvoiceNo.nunique(),\n",
    "                                     'GOV' : lambda TotalPrice: TotalPrice.sum()})\n",
    "X.columns = ['recency', 'frequency', 'Annual Spends']\n"
   ]
  },
  {
   "cell_type": "code",
   "execution_count": 39,
   "id": "e69893cc",
   "metadata": {
    "execution": {
     "iopub.execute_input": "2023-08-18T17:13:33.661639Z",
     "iopub.status.busy": "2023-08-18T17:13:33.661218Z",
     "iopub.status.idle": "2023-08-18T17:13:34.151870Z",
     "shell.execute_reply": "2023-08-18T17:13:34.150456Z"
    },
    "papermill": {
     "duration": 0.518757,
     "end_time": "2023-08-18T17:13:34.154581",
     "exception": false,
     "start_time": "2023-08-18T17:13:33.635824",
     "status": "completed"
    },
    "tags": []
   },
   "outputs": [
    {
     "data": {
      "text/plain": [
       "<Axes: >"
      ]
     },
     "execution_count": 39,
     "metadata": {},
     "output_type": "execute_result"
    },
    {
     "data": {
      "image/png": "[encoded data removed]",
      "text/plain": [
       "<Figure size 1000x600 with 2 Axes>"
      ]
     },
     "metadata": {},
     "output_type": "display_data"
    }
   ],
   "source": [
    "plt.figure(figsize=(10,6))\n",
    "sns.heatmap(X.corr(),annot=True)"
   ]
  },
  {
   "cell_type": "code",
   "execution_count": 40,
   "id": "3253ecf4",
   "metadata": {
    "execution": {
     "iopub.execute_input": "2023-08-18T17:13:34.205260Z",
     "iopub.status.busy": "2023-08-18T17:13:34.204836Z",
     "iopub.status.idle": "2023-08-18T17:13:34.215634Z",
     "shell.execute_reply": "2023-08-18T17:13:34.214610Z"
    },
    "papermill": {
     "duration": 0.038311,
     "end_time": "2023-08-18T17:13:34.217677",
     "exception": false,
     "start_time": "2023-08-18T17:13:34.179366",
     "status": "completed"
    },
    "tags": []
   },
   "outputs": [],
   "source": [
    "from sklearn.preprocessing import StandardScaler\n",
    "sts=StandardScaler()\n",
    "columns_to_scale=['recency','frequency']\n",
    "X[columns_to_scale]=sts.fit_transform(X[columns_to_scale])"
   ]
  },
  {
   "cell_type": "code",
   "execution_count": 41,
   "id": "a02d1163",
   "metadata": {
    "execution": {
     "iopub.execute_input": "2023-08-18T17:13:34.269146Z",
     "iopub.status.busy": "2023-08-18T17:13:34.268046Z",
     "iopub.status.idle": "2023-08-18T17:13:34.273762Z",
     "shell.execute_reply": "2023-08-18T17:13:34.273014Z"
    },
    "papermill": {
     "duration": 0.033256,
     "end_time": "2023-08-18T17:13:34.275758",
     "exception": false,
     "start_time": "2023-08-18T17:13:34.242502",
     "status": "completed"
    },
    "tags": []
   },
   "outputs": [],
   "source": [
    "y=X['Annual Spends']\n",
    "X.drop('Annual Spends',axis=1,inplace=True)"
   ]
  },
  {
   "cell_type": "code",
   "execution_count": 42,
   "id": "c301e0e6",
   "metadata": {
    "execution": {
     "iopub.execute_input": "2023-08-18T17:13:34.326313Z",
     "iopub.status.busy": "2023-08-18T17:13:34.325273Z",
     "iopub.status.idle": "2023-08-18T17:13:34.450730Z",
     "shell.execute_reply": "2023-08-18T17:13:34.449842Z"
    },
    "papermill": {
     "duration": 0.152996,
     "end_time": "2023-08-18T17:13:34.453202",
     "exception": false,
     "start_time": "2023-08-18T17:13:34.300206",
     "status": "completed"
    },
    "tags": []
   },
   "outputs": [],
   "source": [
    "from sklearn.metrics import r2_score, mean_squared_error\n",
    "from sklearn.model_selection import train_test_split, cross_val_score, GridSearchCV\n",
    "from sklearn.ensemble import RandomForestRegressor\n",
    "from sklearn.linear_model import Ridge"
   ]
  },
  {
   "cell_type": "code",
   "execution_count": 43,
   "id": "4c9767de",
   "metadata": {
    "execution": {
     "iopub.execute_input": "2023-08-18T17:13:34.504743Z",
     "iopub.status.busy": "2023-08-18T17:13:34.503732Z",
     "iopub.status.idle": "2023-08-18T17:13:34.511066Z",
     "shell.execute_reply": "2023-08-18T17:13:34.509767Z"
    },
    "papermill": {
     "duration": 0.035572,
     "end_time": "2023-08-18T17:13:34.513546",
     "exception": false,
     "start_time": "2023-08-18T17:13:34.477974",
     "status": "completed"
    },
    "tags": []
   },
   "outputs": [],
   "source": [
    "X_train, X_test, y_train, y_test = train_test_split(X, y, test_size=0.2, random_state=42)"
   ]
  },
  {
   "cell_type": "code",
   "execution_count": 44,
   "id": "eea919c1",
   "metadata": {
    "execution": {
     "iopub.execute_input": "2023-08-18T17:13:34.564222Z",
     "iopub.status.busy": "2023-08-18T17:13:34.563444Z",
     "iopub.status.idle": "2023-08-18T17:13:35.252261Z",
     "shell.execute_reply": "2023-08-18T17:13:35.251002Z"
    },
    "papermill": {
     "duration": 0.717143,
     "end_time": "2023-08-18T17:13:35.254691",
     "exception": false,
     "start_time": "2023-08-18T17:13:34.537548",
     "status": "completed"
    },
    "tags": []
   },
   "outputs": [
    {
     "name": "stdout",
     "output_type": "stream",
     "text": [
      "Best value for lambda :  {'alpha': 55}\n",
      "Best score for cost function:  -26478221.232440926\n"
     ]
    }
   ],
   "source": [
    "ridge=Ridge()\n",
    "params={'alpha':[1e-15,1e-10,1e-8,1e-3,1e-2,1,5,10,20,30,35,40,45,50,55,100]}\n",
    "grid=GridSearchCV(ridge,params,cv=10,scoring='neg_mean_squared_error')\n",
    "grid.fit(X_train,y_train)\n",
    "\n",
    "print(\"Best value for lambda : \",grid.best_params_)\n",
    "print(\"Best score for cost function: \", grid.best_score_)"
   ]
  },
  {
   "cell_type": "code",
   "execution_count": 45,
   "id": "f56d48e6",
   "metadata": {
    "execution": {
     "iopub.execute_input": "2023-08-18T17:13:35.305713Z",
     "iopub.status.busy": "2023-08-18T17:13:35.304812Z",
     "iopub.status.idle": "2023-08-18T17:13:35.313808Z",
     "shell.execute_reply": "2023-08-18T17:13:35.313035Z"
    },
    "papermill": {
     "duration": 0.036167,
     "end_time": "2023-08-18T17:13:35.315601",
     "exception": false,
     "start_time": "2023-08-18T17:13:35.279434",
     "status": "completed"
    },
    "tags": []
   },
   "outputs": [],
   "source": [
    "best_ridge=Ridge(alpha=55)\n",
    "best_ridge.fit(X_train,y_train)\n",
    "y_pred1=best_ridge.predict(X_test)"
   ]
  },
  {
   "cell_type": "code",
   "execution_count": 46,
   "id": "e25ae7a6",
   "metadata": {
    "execution": {
     "iopub.execute_input": "2023-08-18T17:13:35.366517Z",
     "iopub.status.busy": "2023-08-18T17:13:35.365757Z",
     "iopub.status.idle": "2023-08-18T17:14:05.292835Z",
     "shell.execute_reply": "2023-08-18T17:14:05.291654Z"
    },
    "papermill": {
     "duration": 29.955474,
     "end_time": "2023-08-18T17:14:05.295371",
     "exception": false,
     "start_time": "2023-08-18T17:13:35.339897",
     "status": "completed"
    },
    "tags": []
   },
   "outputs": [
    {
     "name": "stdout",
     "output_type": "stream",
     "text": [
      "Fitting 10 folds for each of 2 candidates, totalling 20 fits\n",
      "[CV] END ................max_features=log2, n_estimators=300; total time=   1.1s\n",
      "[CV] END ................max_features=log2, n_estimators=300; total time=   1.1s\n",
      "[CV] END ................max_features=log2, n_estimators=300; total time=   1.1s\n",
      "[CV] END ................max_features=log2, n_estimators=300; total time=   1.1s\n",
      "[CV] END ................max_features=log2, n_estimators=300; total time=   1.1s\n",
      "[CV] END ................max_features=log2, n_estimators=300; total time=   1.1s\n",
      "[CV] END ................max_features=log2, n_estimators=300; total time=   1.1s\n",
      "[CV] END ................max_features=log2, n_estimators=300; total time=   1.1s\n",
      "[CV] END ................max_features=log2, n_estimators=300; total time=   1.1s\n",
      "[CV] END ................max_features=log2, n_estimators=300; total time=   1.1s\n",
      "[CV] END ................max_features=log2, n_estimators=500; total time=   1.8s\n",
      "[CV] END ................max_features=log2, n_estimators=500; total time=   1.8s\n",
      "[CV] END ................max_features=log2, n_estimators=500; total time=   1.8s\n",
      "[CV] END ................max_features=log2, n_estimators=500; total time=   1.8s\n",
      "[CV] END ................max_features=log2, n_estimators=500; total time=   1.8s\n",
      "[CV] END ................max_features=log2, n_estimators=500; total time=   1.7s\n",
      "[CV] END ................max_features=log2, n_estimators=500; total time=   1.8s\n",
      "[CV] END ................max_features=log2, n_estimators=500; total time=   1.8s\n",
      "[CV] END ................max_features=log2, n_estimators=500; total time=   1.8s\n",
      "[CV] END ................max_features=log2, n_estimators=500; total time=   1.8s\n",
      "Best value for lambda :  {'max_features': 'log2', 'n_estimators': 300}\n",
      "Best score for cost function:  -34946950.65060663\n"
     ]
    }
   ],
   "source": [
    "rf=RandomForestRegressor()\n",
    "params={\n",
    "    'max_features': ['log2'],\n",
    "    'n_estimators': [300,500]}\n",
    "grid= GridSearchCV(estimator = rf, param_grid = params, \n",
    "                          cv = 10, verbose = 2,scoring='neg_mean_squared_error')\n",
    "grid.fit(X_train,y_train)\n",
    "\n",
    "print(\"Best value for lambda : \",grid.best_params_)\n",
    "print(\"Best score for cost function: \", grid.best_score_)"
   ]
  },
  {
   "cell_type": "code",
   "execution_count": 47,
   "id": "41f55d92",
   "metadata": {
    "execution": {
     "iopub.execute_input": "2023-08-18T17:14:05.350639Z",
     "iopub.status.busy": "2023-08-18T17:14:05.350260Z",
     "iopub.status.idle": "2023-08-18T17:14:07.301917Z",
     "shell.execute_reply": "2023-08-18T17:14:07.300790Z"
    },
    "papermill": {
     "duration": 1.98287,
     "end_time": "2023-08-18T17:14:07.304443",
     "exception": false,
     "start_time": "2023-08-18T17:14:05.321573",
     "status": "completed"
    },
    "tags": []
   },
   "outputs": [],
   "source": [
    "best_rf=RandomForestRegressor(max_features='log2',n_estimators=500)\n",
    "best_rf.fit(X_train,y_train)\n",
    "y_pred2=best_rf.predict(X_test)"
   ]
  },
  {
   "cell_type": "code",
   "execution_count": 48,
   "id": "fb8d36fe",
   "metadata": {
    "execution": {
     "iopub.execute_input": "2023-08-18T17:14:07.358549Z",
     "iopub.status.busy": "2023-08-18T17:14:07.358172Z",
     "iopub.status.idle": "2023-08-18T17:14:07.365111Z",
     "shell.execute_reply": "2023-08-18T17:14:07.363856Z"
    },
    "papermill": {
     "duration": 0.037296,
     "end_time": "2023-08-18T17:14:07.367440",
     "exception": false,
     "start_time": "2023-08-18T17:14:07.330144",
     "status": "completed"
    },
    "tags": []
   },
   "outputs": [
    {
     "name": "stdout",
     "output_type": "stream",
     "text": [
      "Root Mean Squared Error of Ridge Regressor is  3953.5406689445226\n",
      "Root Mean Squared Error of random Forest Regressor is  4684.68513327977\n"
     ]
    }
   ],
   "source": [
    "print('Root Mean Squared Error of Ridge Regressor is ',mean_squared_error(y_pred1,y_test,squared=False))\n",
    "print('Root Mean Squared Error of random Forest Regressor is ',mean_squared_error(y_pred2,y_test,squared=False))"
   ]
  },
  {
   "cell_type": "markdown",
   "id": "a89bf4dd",
   "metadata": {
    "papermill": {
     "duration": 0.024912,
     "end_time": "2023-08-18T17:14:07.417744",
     "exception": false,
     "start_time": "2023-08-18T17:14:07.392832",
     "status": "completed"
    },
    "tags": []
   },
   "source": [
    "# RFM - Analysis"
   ]
  },
  {
   "cell_type": "code",
   "execution_count": 49,
   "id": "6e096fa2",
   "metadata": {
    "execution": {
     "iopub.execute_input": "2023-08-18T17:14:07.469707Z",
     "iopub.status.busy": "2023-08-18T17:14:07.469335Z",
     "iopub.status.idle": "2023-08-18T17:14:08.856178Z",
     "shell.execute_reply": "2023-08-18T17:14:08.854979Z"
    },
    "papermill": {
     "duration": 1.415682,
     "end_time": "2023-08-18T17:14:08.858609",
     "exception": false,
     "start_time": "2023-08-18T17:14:07.442927",
     "status": "completed"
    },
    "tags": []
   },
   "outputs": [],
   "source": [
    "\n",
    "rfm = data.groupby('CustomerID').agg({'InvoiceDate': lambda InvoiceDate: (today_date - InvoiceDate.max()).days,\n",
    "                                     'InvoiceNo'    : lambda InvoiceNo: InvoiceNo.nunique(),\n",
    "                                     'GOV' : lambda TotalPrice: TotalPrice.sum()})\n",
    "\n",
    "rfm.columns = ['recency', 'frequency', 'monetary']"
   ]
  },
  {
   "cell_type": "code",
   "execution_count": 50,
   "id": "815372c9",
   "metadata": {
    "execution": {
     "iopub.execute_input": "2023-08-18T17:14:08.912727Z",
     "iopub.status.busy": "2023-08-18T17:14:08.912337Z",
     "iopub.status.idle": "2023-08-18T17:14:08.930512Z",
     "shell.execute_reply": "2023-08-18T17:14:08.929468Z"
    },
    "papermill": {
     "duration": 0.047579,
     "end_time": "2023-08-18T17:14:08.932676",
     "exception": false,
     "start_time": "2023-08-18T17:14:08.885097",
     "status": "completed"
    },
    "tags": []
   },
   "outputs": [],
   "source": [
    "#more days since last purchase 1 (very bad) ; those with fewer days 5 (very good).\n",
    "rfm[\"recency_score\"] = pd.qcut(rfm['recency'], 5, labels=[5, 4, 3, 2, 1])\n",
    "\n",
    "#5 (very good) for those with high purchasing frequency; the ones that were less as 1 (very bad).\n",
    "rfm[\"frequency_score\"] = pd.qcut(rfm['frequency'].rank(method=\"first\"), 5, labels=[1, 2, 3, 4, 5])\n",
    "\n",
    "#5 (very good) for those with a high purchase price;  the fewer purchase price as 1 (very bad).\n",
    "rfm[\"monetary_score\"] = pd.qcut(rfm['monetary'], 5, labels=[1, 2, 3, 4, 5])\n",
    "\n",
    "#we'll not include monetory_score.\n",
    "rfm[\"RFM_SCORE\"] = (rfm['recency_score'].astype(str) +\n",
    "                    rfm['frequency_score'].astype(str))"
   ]
  },
  {
   "cell_type": "code",
   "execution_count": 51,
   "id": "ded912c2",
   "metadata": {
    "execution": {
     "iopub.execute_input": "2023-08-18T17:14:08.986122Z",
     "iopub.status.busy": "2023-08-18T17:14:08.985474Z",
     "iopub.status.idle": "2023-08-18T17:14:09.054945Z",
     "shell.execute_reply": "2023-08-18T17:14:09.053765Z"
    },
    "papermill": {
     "duration": 0.099452,
     "end_time": "2023-08-18T17:14:09.057428",
     "exception": false,
     "start_time": "2023-08-18T17:14:08.957976",
     "status": "completed"
    },
    "tags": []
   },
   "outputs": [
    {
     "data": {
      "text/html": [
       "<div>\n",
       "<style scoped>\n",
       "    .dataframe tbody tr th:only-of-type {\n",
       "        vertical-align: middle;\n",
       "    }\n",
       "\n",
       "    .dataframe tbody tr th {\n",
       "        vertical-align: top;\n",
       "    }\n",
       "\n",
       "    .dataframe thead th {\n",
       "        text-align: right;\n",
       "    }\n",
       "</style>\n",
       "<table border=\"1\" class=\"dataframe\">\n",
       "  <thead>\n",
       "    <tr style=\"text-align: right;\">\n",
       "      <th></th>\n",
       "      <th>CustomerID</th>\n",
       "      <th>recency</th>\n",
       "      <th>frequency</th>\n",
       "      <th>monetary</th>\n",
       "      <th>recency_score</th>\n",
       "      <th>frequency_score</th>\n",
       "      <th>monetary_score</th>\n",
       "      <th>RFM_SCORE</th>\n",
       "      <th>segment</th>\n",
       "    </tr>\n",
       "  </thead>\n",
       "  <tbody>\n",
       "    <tr>\n",
       "      <th>0</th>\n",
       "      <td>12347.0</td>\n",
       "      <td>24</td>\n",
       "      <td>7</td>\n",
       "      <td>4310.00</td>\n",
       "      <td>5</td>\n",
       "      <td>5</td>\n",
       "      <td>5</td>\n",
       "      <td>55</td>\n",
       "      <td>champions</td>\n",
       "    </tr>\n",
       "    <tr>\n",
       "      <th>1</th>\n",
       "      <td>12348.0</td>\n",
       "      <td>97</td>\n",
       "      <td>4</td>\n",
       "      <td>1744.44</td>\n",
       "      <td>2</td>\n",
       "      <td>4</td>\n",
       "      <td>4</td>\n",
       "      <td>24</td>\n",
       "      <td>at_Risk</td>\n",
       "    </tr>\n",
       "    <tr>\n",
       "      <th>2</th>\n",
       "      <td>12349.0</td>\n",
       "      <td>40</td>\n",
       "      <td>1</td>\n",
       "      <td>1757.55</td>\n",
       "      <td>4</td>\n",
       "      <td>1</td>\n",
       "      <td>4</td>\n",
       "      <td>41</td>\n",
       "      <td>need_attention</td>\n",
       "    </tr>\n",
       "    <tr>\n",
       "      <th>3</th>\n",
       "      <td>12350.0</td>\n",
       "      <td>332</td>\n",
       "      <td>1</td>\n",
       "      <td>334.40</td>\n",
       "      <td>1</td>\n",
       "      <td>1</td>\n",
       "      <td>2</td>\n",
       "      <td>11</td>\n",
       "      <td>hibernating</td>\n",
       "    </tr>\n",
       "    <tr>\n",
       "      <th>4</th>\n",
       "      <td>12352.0</td>\n",
       "      <td>58</td>\n",
       "      <td>8</td>\n",
       "      <td>1849.49</td>\n",
       "      <td>3</td>\n",
       "      <td>5</td>\n",
       "      <td>4</td>\n",
       "      <td>35</td>\n",
       "      <td>loyal_customers</td>\n",
       "    </tr>\n",
       "  </tbody>\n",
       "</table>\n",
       "</div>"
      ],
      "text/plain": [
       "   CustomerID  recency  frequency  monetary recency_score frequency_score  \\\n",
       "0     12347.0       24          7   4310.00             5               5   \n",
       "1     12348.0       97          4   1744.44             2               4   \n",
       "2     12349.0       40          1   1757.55             4               1   \n",
       "3     12350.0      332          1    334.40             1               1   \n",
       "4     12352.0       58          8   1849.49             3               5   \n",
       "\n",
       "  monetary_score RFM_SCORE          segment  \n",
       "0              5        55        champions  \n",
       "1              4        24          at_Risk  \n",
       "2              4        41   need_attention  \n",
       "3              2        11      hibernating  \n",
       "4              4        35  loyal_customers  "
      ]
     },
     "execution_count": 51,
     "metadata": {},
     "output_type": "execute_result"
    }
   ],
   "source": [
    "seg_map = {\n",
    "    r'[1-2][1-2]': 'hibernating',\n",
    "    r'[1-2][3-4]': 'at_Risk',\n",
    "    r'[1-2]5': 'cant_loose',\n",
    "    \n",
    "    r'[3-4][1-3]': 'need_attention',\n",
    "    r'[3-4][4-5]': 'loyal_customers',\n",
    "    \n",
    "    r'51': 'new_customers',\n",
    "    r'5[2-3]': 'potential_loyalists',\n",
    "    r'5[4-5]': 'champions'\n",
    "}\n",
    "rfm['segment'] = rfm['RFM_SCORE'].replace(seg_map, regex=True)\n",
    "rfm.reset_index(inplace=True)\n",
    "rfm.head()"
   ]
  },
  {
   "cell_type": "code",
   "execution_count": 52,
   "id": "fbd1d3ad",
   "metadata": {
    "execution": {
     "iopub.execute_input": "2023-08-18T17:14:09.113407Z",
     "iopub.status.busy": "2023-08-18T17:14:09.112997Z",
     "iopub.status.idle": "2023-08-18T17:14:09.125897Z",
     "shell.execute_reply": "2023-08-18T17:14:09.124956Z"
    },
    "papermill": {
     "duration": 0.044291,
     "end_time": "2023-08-18T17:14:09.128188",
     "exception": false,
     "start_time": "2023-08-18T17:14:09.083897",
     "status": "completed"
    },
    "tags": []
   },
   "outputs": [
    {
     "data": {
      "text/html": [
       "<div>\n",
       "<style scoped>\n",
       "    .dataframe tbody tr th:only-of-type {\n",
       "        vertical-align: middle;\n",
       "    }\n",
       "\n",
       "    .dataframe tbody tr th {\n",
       "        vertical-align: top;\n",
       "    }\n",
       "\n",
       "    .dataframe thead th {\n",
       "        text-align: right;\n",
       "    }\n",
       "</style>\n",
       "<table border=\"1\" class=\"dataframe\">\n",
       "  <thead>\n",
       "    <tr style=\"text-align: right;\">\n",
       "      <th></th>\n",
       "      <th>segment</th>\n",
       "      <th>count</th>\n",
       "    </tr>\n",
       "  </thead>\n",
       "  <tbody>\n",
       "    <tr>\n",
       "      <th>0</th>\n",
       "      <td>at_Risk</td>\n",
       "      <td>593</td>\n",
       "    </tr>\n",
       "    <tr>\n",
       "      <th>1</th>\n",
       "      <td>cant_loose</td>\n",
       "      <td>62</td>\n",
       "    </tr>\n",
       "    <tr>\n",
       "      <th>2</th>\n",
       "      <td>champions</td>\n",
       "      <td>655</td>\n",
       "    </tr>\n",
       "    <tr>\n",
       "      <th>3</th>\n",
       "      <td>hibernating</td>\n",
       "      <td>1070</td>\n",
       "    </tr>\n",
       "    <tr>\n",
       "      <th>4</th>\n",
       "      <td>loyal_customers</td>\n",
       "      <td>793</td>\n",
       "    </tr>\n",
       "    <tr>\n",
       "      <th>5</th>\n",
       "      <td>need_attention</td>\n",
       "      <td>909</td>\n",
       "    </tr>\n",
       "    <tr>\n",
       "      <th>6</th>\n",
       "      <td>new_customers</td>\n",
       "      <td>46</td>\n",
       "    </tr>\n",
       "    <tr>\n",
       "      <th>7</th>\n",
       "      <td>potential_loyalists</td>\n",
       "      <td>202</td>\n",
       "    </tr>\n",
       "  </tbody>\n",
       "</table>\n",
       "</div>"
      ],
      "text/plain": [
       "               segment  count\n",
       "0              at_Risk    593\n",
       "1           cant_loose     62\n",
       "2            champions    655\n",
       "3          hibernating   1070\n",
       "4      loyal_customers    793\n",
       "5       need_attention    909\n",
       "6        new_customers     46\n",
       "7  potential_loyalists    202"
      ]
     },
     "execution_count": 52,
     "metadata": {},
     "output_type": "execute_result"
    }
   ],
   "source": [
    "segments_count = rfm.groupby(\"segment\").agg({\"CustomerID\": \"count\"})\n",
    "segments_count.reset_index(inplace=True)\n",
    "segments_count.columns = ['segment', 'count']\n",
    "segments_count.head(9)"
   ]
  },
  {
   "cell_type": "code",
   "execution_count": 53,
   "id": "a2187a99",
   "metadata": {
    "execution": {
     "iopub.execute_input": "2023-08-18T17:14:09.183827Z",
     "iopub.status.busy": "2023-08-18T17:14:09.183148Z",
     "iopub.status.idle": "2023-08-18T17:14:09.439852Z",
     "shell.execute_reply": "2023-08-18T17:14:09.438968Z"
    },
    "papermill": {
     "duration": 0.28722,
     "end_time": "2023-08-18T17:14:09.442463",
     "exception": false,
     "start_time": "2023-08-18T17:14:09.155243",
     "status": "completed"
    },
    "tags": []
   },
   "outputs": [
    {
     "data": {
      "image/png": "[encoded data removed]",
      "text/plain": [
       "<Figure size 2000x1000 with 1 Axes>"
      ]
     },
     "metadata": {},
     "output_type": "display_data"
    }
   ],
   "source": [
    "fig  = plt.figure(figsize = (20,10)).suptitle('Custumers Distribution of Segments', fontsize=25)\n",
    "plt.pie(segments_count[\"count\"], labels = segments_count[\"segment\"], autopct='%.0f%%')\n",
    "\n",
    "plt.show()"
   ]
  },
  {
   "cell_type": "code",
   "execution_count": 54,
   "id": "8db37d45",
   "metadata": {
    "execution": {
     "iopub.execute_input": "2023-08-18T17:14:09.500827Z",
     "iopub.status.busy": "2023-08-18T17:14:09.500149Z",
     "iopub.status.idle": "2023-08-18T17:14:09.526966Z",
     "shell.execute_reply": "2023-08-18T17:14:09.526204Z"
    },
    "papermill": {
     "duration": 0.058013,
     "end_time": "2023-08-18T17:14:09.528907",
     "exception": false,
     "start_time": "2023-08-18T17:14:09.470894",
     "status": "completed"
    },
    "tags": []
   },
   "outputs": [
    {
     "data": {
      "text/html": [
       "<div>\n",
       "<style scoped>\n",
       "    .dataframe tbody tr th:only-of-type {\n",
       "        vertical-align: middle;\n",
       "    }\n",
       "\n",
       "    .dataframe tbody tr th {\n",
       "        vertical-align: top;\n",
       "    }\n",
       "\n",
       "    .dataframe thead tr th {\n",
       "        text-align: left;\n",
       "    }\n",
       "\n",
       "    .dataframe thead tr:last-of-type th {\n",
       "        text-align: right;\n",
       "    }\n",
       "</style>\n",
       "<table border=\"1\" class=\"dataframe\">\n",
       "  <thead>\n",
       "    <tr>\n",
       "      <th></th>\n",
       "      <th colspan=\"3\" halign=\"left\">recency</th>\n",
       "      <th colspan=\"3\" halign=\"left\">frequency</th>\n",
       "      <th colspan=\"3\" halign=\"left\">monetary</th>\n",
       "    </tr>\n",
       "    <tr>\n",
       "      <th></th>\n",
       "      <th>mean</th>\n",
       "      <th>count</th>\n",
       "      <th>max</th>\n",
       "      <th>mean</th>\n",
       "      <th>count</th>\n",
       "      <th>max</th>\n",
       "      <th>mean</th>\n",
       "      <th>count</th>\n",
       "      <th>max</th>\n",
       "    </tr>\n",
       "    <tr>\n",
       "      <th>segment</th>\n",
       "      <th></th>\n",
       "      <th></th>\n",
       "      <th></th>\n",
       "      <th></th>\n",
       "      <th></th>\n",
       "      <th></th>\n",
       "      <th></th>\n",
       "      <th></th>\n",
       "      <th></th>\n",
       "    </tr>\n",
       "  </thead>\n",
       "  <tbody>\n",
       "    <tr>\n",
       "      <th>at_Risk</th>\n",
       "      <td>174.224283</td>\n",
       "      <td>593</td>\n",
       "      <td>395</td>\n",
       "      <td>2.878583</td>\n",
       "      <td>593</td>\n",
       "      <td>6</td>\n",
       "      <td>927.769093</td>\n",
       "      <td>593</td>\n",
       "      <td>11072.67</td>\n",
       "    </tr>\n",
       "    <tr>\n",
       "      <th>cant_loose</th>\n",
       "      <td>154.387097</td>\n",
       "      <td>62</td>\n",
       "      <td>394</td>\n",
       "      <td>8.338710</td>\n",
       "      <td>62</td>\n",
       "      <td>34</td>\n",
       "      <td>2641.406935</td>\n",
       "      <td>62</td>\n",
       "      <td>10254.18</td>\n",
       "    </tr>\n",
       "    <tr>\n",
       "      <th>champions</th>\n",
       "      <td>27.683969</td>\n",
       "      <td>655</td>\n",
       "      <td>36</td>\n",
       "      <td>12.164885</td>\n",
       "      <td>655</td>\n",
       "      <td>208</td>\n",
       "      <td>5797.777008</td>\n",
       "      <td>655</td>\n",
       "      <td>261088.26</td>\n",
       "    </tr>\n",
       "    <tr>\n",
       "      <th>hibernating</th>\n",
       "      <td>238.763551</td>\n",
       "      <td>1070</td>\n",
       "      <td>395</td>\n",
       "      <td>1.098131</td>\n",
       "      <td>1070</td>\n",
       "      <td>2</td>\n",
       "      <td>401.174160</td>\n",
       "      <td>1070</td>\n",
       "      <td>9864.26</td>\n",
       "    </tr>\n",
       "    <tr>\n",
       "      <th>loyal_customers</th>\n",
       "      <td>55.171501</td>\n",
       "      <td>793</td>\n",
       "      <td>93</td>\n",
       "      <td>6.421185</td>\n",
       "      <td>793</td>\n",
       "      <td>61</td>\n",
       "      <td>2684.639018</td>\n",
       "      <td>793</td>\n",
       "      <td>106883.65</td>\n",
       "    </tr>\n",
       "    <tr>\n",
       "      <th>need_attention</th>\n",
       "      <td>62.343234</td>\n",
       "      <td>909</td>\n",
       "      <td>93</td>\n",
       "      <td>1.620462</td>\n",
       "      <td>909</td>\n",
       "      <td>3</td>\n",
       "      <td>585.373872</td>\n",
       "      <td>909</td>\n",
       "      <td>6207.67</td>\n",
       "    </tr>\n",
       "    <tr>\n",
       "      <th>new_customers</th>\n",
       "      <td>29.347826</td>\n",
       "      <td>46</td>\n",
       "      <td>36</td>\n",
       "      <td>1.000000</td>\n",
       "      <td>46</td>\n",
       "      <td>1</td>\n",
       "      <td>288.625652</td>\n",
       "      <td>46</td>\n",
       "      <td>848.55</td>\n",
       "    </tr>\n",
       "    <tr>\n",
       "      <th>potential_loyalists</th>\n",
       "      <td>28.980198</td>\n",
       "      <td>202</td>\n",
       "      <td>36</td>\n",
       "      <td>2.103960</td>\n",
       "      <td>202</td>\n",
       "      <td>3</td>\n",
       "      <td>664.503416</td>\n",
       "      <td>202</td>\n",
       "      <td>3452.73</td>\n",
       "    </tr>\n",
       "  </tbody>\n",
       "</table>\n",
       "</div>"
      ],
      "text/plain": [
       "                        recency             frequency                monetary  \\\n",
       "                           mean count  max       mean count  max         mean   \n",
       "segment                                                                         \n",
       "at_Risk              174.224283   593  395   2.878583   593    6   927.769093   \n",
       "cant_loose           154.387097    62  394   8.338710    62   34  2641.406935   \n",
       "champions             27.683969   655   36  12.164885   655  208  5797.777008   \n",
       "hibernating          238.763551  1070  395   1.098131  1070    2   401.174160   \n",
       "loyal_customers       55.171501   793   93   6.421185   793   61  2684.639018   \n",
       "need_attention        62.343234   909   93   1.620462   909    3   585.373872   \n",
       "new_customers         29.347826    46   36   1.000000    46    1   288.625652   \n",
       "potential_loyalists   28.980198   202   36   2.103960   202    3   664.503416   \n",
       "\n",
       "                                      \n",
       "                    count        max  \n",
       "segment                               \n",
       "at_Risk               593   11072.67  \n",
       "cant_loose             62   10254.18  \n",
       "champions             655  261088.26  \n",
       "hibernating          1070    9864.26  \n",
       "loyal_customers       793  106883.65  \n",
       "need_attention        909    6207.67  \n",
       "new_customers          46     848.55  \n",
       "potential_loyalists   202    3452.73  "
      ]
     },
     "execution_count": 54,
     "metadata": {},
     "output_type": "execute_result"
    }
   ],
   "source": [
    "agg_list=[\"mean\", \"count\", \"max\"]\n",
    "rfm[[\"segment\", \"recency\", \"frequency\", \"monetary\"]].groupby(\"segment\").agg(agg_list)"
   ]
  },
  {
   "cell_type": "markdown",
   "id": "021c3c9d",
   "metadata": {
    "papermill": {
     "duration": 0.027196,
     "end_time": "2023-08-18T17:14:09.584252",
     "exception": false,
     "start_time": "2023-08-18T17:14:09.557056",
     "status": "completed"
    },
    "tags": []
   },
   "source": [
    "> There are **19% of Champions & Potential Loyalists** who make the most transactions \n",
    "> > Giving some extra discounts can help to retain them for a longer period\n",
    "\n",
    "> Apparently,there is a segment of **21% which needs attentio**n to increase their frequency of transcation. This can be done by targeted campainging"
   ]
  },
  {
   "cell_type": "markdown",
   "id": "6e53f130",
   "metadata": {
    "papermill": {
     "duration": 0.027392,
     "end_time": "2023-08-18T17:14:09.639366",
     "exception": false,
     "start_time": "2023-08-18T17:14:09.611974",
     "status": "completed"
    },
    "tags": []
   },
   "source": [
    "# K-Means Clustering :"
   ]
  },
  {
   "cell_type": "code",
   "execution_count": 55,
   "id": "a8c0d52f",
   "metadata": {
    "execution": {
     "iopub.execute_input": "2023-08-18T17:14:09.697658Z",
     "iopub.status.busy": "2023-08-18T17:14:09.696977Z",
     "iopub.status.idle": "2023-08-18T17:14:10.385874Z",
     "shell.execute_reply": "2023-08-18T17:14:10.384843Z"
    },
    "papermill": {
     "duration": 0.720793,
     "end_time": "2023-08-18T17:14:10.388474",
     "exception": false,
     "start_time": "2023-08-18T17:14:09.667681",
     "status": "completed"
    },
    "tags": []
   },
   "outputs": [],
   "source": [
    "df_c=data.groupby('CustomerID').agg({ 'InvoiceDate': lambda InvoiceDate: (today_date - InvoiceDate.max()).days,'InvoiceNo':'nunique'})\n",
    "df_c.columns = ['recency', 'frequency']"
   ]
  },
  {
   "cell_type": "code",
   "execution_count": 56,
   "id": "c91e67f1",
   "metadata": {
    "execution": {
     "iopub.execute_input": "2023-08-18T17:14:10.451394Z",
     "iopub.status.busy": "2023-08-18T17:14:10.450891Z",
     "iopub.status.idle": "2023-08-18T17:14:10.462885Z",
     "shell.execute_reply": "2023-08-18T17:14:10.461893Z"
    },
    "papermill": {
     "duration": 0.048776,
     "end_time": "2023-08-18T17:14:10.465598",
     "exception": false,
     "start_time": "2023-08-18T17:14:10.416822",
     "status": "completed"
    },
    "tags": []
   },
   "outputs": [],
   "source": [
    "std_scaler = StandardScaler()\n",
    "df_scaled = std_scaler.fit_transform(df_c)\n",
    "df_scaled\n",
    "df_scaled = pd.DataFrame(df_scaled,columns=['recency','frequency'])\n",
    "df_scaled[\"CustomerID\"] = df_c.index\n",
    "df_scaled = df_scaled.set_index(\"CustomerID\",drop=True)"
   ]
  },
  {
   "cell_type": "markdown",
   "id": "553ff06b",
   "metadata": {
    "papermill": {
     "duration": 0.027919,
     "end_time": "2023-08-18T17:14:10.524489",
     "exception": false,
     "start_time": "2023-08-18T17:14:10.496570",
     "status": "completed"
    },
    "tags": []
   },
   "source": [
    "**Finding the optimal clusters using elbow method**"
   ]
  },
  {
   "cell_type": "code",
   "execution_count": 57,
   "id": "df7e53ac",
   "metadata": {
    "execution": {
     "iopub.execute_input": "2023-08-18T17:14:10.584425Z",
     "iopub.status.busy": "2023-08-18T17:14:10.583615Z",
     "iopub.status.idle": "2023-08-18T17:14:11.784614Z",
     "shell.execute_reply": "2023-08-18T17:14:11.783331Z"
    },
    "papermill": {
     "duration": 1.233964,
     "end_time": "2023-08-18T17:14:11.787542",
     "exception": false,
     "start_time": "2023-08-18T17:14:10.553578",
     "status": "completed"
    },
    "tags": []
   },
   "outputs": [
    {
     "data": {
      "image/png": "[encoded data removed]",
      "text/plain": [
       "<Figure size 800x550 with 1 Axes>"
      ]
     },
     "metadata": {},
     "output_type": "display_data"
    },
    {
     "data": {
      "text/plain": [
       "<Axes: title={'center': 'Distortion Score Elbow for KMeans Clustering'}, xlabel='k', ylabel='distortion score'>"
      ]
     },
     "execution_count": 57,
     "metadata": {},
     "output_type": "execute_result"
    }
   ],
   "source": [
    "from yellowbrick.cluster import KElbowVisualizer\n",
    "model = KMeans()\n",
    "visualizer = KElbowVisualizer(model, k=(1,11), timings= False)\n",
    "visualizer.fit(df_scaled)        \n",
    "visualizer.show()        "
   ]
  },
  {
   "cell_type": "code",
   "execution_count": 58,
   "id": "22d1ce47",
   "metadata": {
    "execution": {
     "iopub.execute_input": "2023-08-18T17:14:11.853454Z",
     "iopub.status.busy": "2023-08-18T17:14:11.852632Z",
     "iopub.status.idle": "2023-08-18T17:14:11.938000Z",
     "shell.execute_reply": "2023-08-18T17:14:11.936853Z"
    },
    "papermill": {
     "duration": 0.118304,
     "end_time": "2023-08-18T17:14:11.940466",
     "exception": false,
     "start_time": "2023-08-18T17:14:11.822162",
     "status": "completed"
    },
    "tags": []
   },
   "outputs": [
    {
     "data": {
      "text/html": [
       "<div>\n",
       "<style scoped>\n",
       "    .dataframe tbody tr th:only-of-type {\n",
       "        vertical-align: middle;\n",
       "    }\n",
       "\n",
       "    .dataframe tbody tr th {\n",
       "        vertical-align: top;\n",
       "    }\n",
       "\n",
       "    .dataframe thead th {\n",
       "        text-align: right;\n",
       "    }\n",
       "</style>\n",
       "<table border=\"1\" class=\"dataframe\">\n",
       "  <thead>\n",
       "    <tr style=\"text-align: right;\">\n",
       "      <th></th>\n",
       "      <th>recency</th>\n",
       "      <th>frequency</th>\n",
       "    </tr>\n",
       "  </thead>\n",
       "  <tbody>\n",
       "    <tr>\n",
       "      <th>0</th>\n",
       "      <td>-0.480754</td>\n",
       "      <td>-0.100609</td>\n",
       "    </tr>\n",
       "    <tr>\n",
       "      <th>1</th>\n",
       "      <td>1.559092</td>\n",
       "      <td>-0.353054</td>\n",
       "    </tr>\n",
       "    <tr>\n",
       "      <th>2</th>\n",
       "      <td>-0.910102</td>\n",
       "      <td>16.302255</td>\n",
       "    </tr>\n",
       "    <tr>\n",
       "      <th>3</th>\n",
       "      <td>-0.804242</td>\n",
       "      <td>2.123605</td>\n",
       "    </tr>\n",
       "  </tbody>\n",
       "</table>\n",
       "</div>"
      ],
      "text/plain": [
       "    recency  frequency\n",
       "0 -0.480754  -0.100609\n",
       "1  1.559092  -0.353054\n",
       "2 -0.910102  16.302255\n",
       "3 -0.804242   2.123605"
      ]
     },
     "execution_count": 58,
     "metadata": {},
     "output_type": "execute_result"
    }
   ],
   "source": [
    "kmeans = KMeans(n_clusters=4, n_init = 15, random_state=1)\n",
    "kmeans.fit(df_scaled)\n",
    "centroids = kmeans.cluster_centers_\n",
    "centroid_df = pd.DataFrame(centroids, columns = df_scaled.columns )\n",
    "centroid_df"
   ]
  },
  {
   "cell_type": "code",
   "execution_count": 59,
   "id": "243b902e",
   "metadata": {
    "execution": {
     "iopub.execute_input": "2023-08-18T17:14:12.001013Z",
     "iopub.status.busy": "2023-08-18T17:14:11.999902Z",
     "iopub.status.idle": "2023-08-18T17:14:12.359881Z",
     "shell.execute_reply": "2023-08-18T17:14:12.358632Z"
    },
    "papermill": {
     "duration": 0.393477,
     "end_time": "2023-08-18T17:14:12.362638",
     "exception": false,
     "start_time": "2023-08-18T17:14:11.969161",
     "status": "completed"
    },
    "tags": []
   },
   "outputs": [
    {
     "data": {
      "text/plain": [
       "<Figure size 1500x1500 with 0 Axes>"
      ]
     },
     "metadata": {},
     "output_type": "display_data"
    },
    {
     "data": {
      "image/png": "[encoded data removed]",
      "text/plain": [
       "<Figure size 800x600 with 1 Axes>"
      ]
     },
     "metadata": {},
     "output_type": "display_data"
    }
   ],
   "source": [
    "df_kmeans = df_c.copy()\n",
    "df_kmeans['labels'] = kmeans.labels_.tolist()\n",
    "\n",
    "\n",
    "colors = np.array([\"blue\", \"purple\",\"red\",\"green\"])\n",
    "fig  = plt.figure(figsize = (15,15)).suptitle('Plot of Customer\\'s Distribution', fontsize=25)\n",
    "# Define colors for each label\n",
    "label_colors = {0: 'purple', 1: 'red', 2: 'green', 3: 'blue'}\n",
    "\n",
    "# Scatter plot\n",
    "plt.figure(figsize=(8, 6))\n",
    "\n",
    "for label, color in label_colors.items():\n",
    "    label_data = df_kmeans[df_kmeans['labels'] == label]\n",
    "    plt.scatter(label_data['recency'], label_data['frequency'], c=color, label=f'Cluster {label}')\n",
    "\n",
    "plt.xlabel('Recency')\n",
    "plt.ylabel('Frequency')\n",
    "plt.legend()\n",
    "plt.grid(True)\n",
    "plt.show()\n"
   ]
  },
  {
   "cell_type": "code",
   "execution_count": 60,
   "id": "437e556a",
   "metadata": {
    "execution": {
     "iopub.execute_input": "2023-08-18T17:14:12.425040Z",
     "iopub.status.busy": "2023-08-18T17:14:12.423811Z",
     "iopub.status.idle": "2023-08-18T17:14:12.445033Z",
     "shell.execute_reply": "2023-08-18T17:14:12.443855Z"
    },
    "papermill": {
     "duration": 0.054567,
     "end_time": "2023-08-18T17:14:12.447387",
     "exception": false,
     "start_time": "2023-08-18T17:14:12.392820",
     "status": "completed"
    },
    "tags": []
   },
   "outputs": [
    {
     "data": {
      "text/html": [
       "<div>\n",
       "<style scoped>\n",
       "    .dataframe tbody tr th:only-of-type {\n",
       "        vertical-align: middle;\n",
       "    }\n",
       "\n",
       "    .dataframe tbody tr th {\n",
       "        vertical-align: top;\n",
       "    }\n",
       "\n",
       "    .dataframe thead tr th {\n",
       "        text-align: left;\n",
       "    }\n",
       "\n",
       "    .dataframe thead tr:last-of-type th {\n",
       "        text-align: right;\n",
       "    }\n",
       "</style>\n",
       "<table border=\"1\" class=\"dataframe\">\n",
       "  <thead>\n",
       "    <tr>\n",
       "      <th></th>\n",
       "      <th colspan=\"3\" halign=\"left\">recency</th>\n",
       "      <th colspan=\"3\" halign=\"left\">frequency</th>\n",
       "    </tr>\n",
       "    <tr>\n",
       "      <th></th>\n",
       "      <th>mean</th>\n",
       "      <th>count</th>\n",
       "      <th>max</th>\n",
       "      <th>mean</th>\n",
       "      <th>count</th>\n",
       "      <th>max</th>\n",
       "    </tr>\n",
       "    <tr>\n",
       "      <th>labels</th>\n",
       "      <th></th>\n",
       "      <th></th>\n",
       "      <th></th>\n",
       "      <th></th>\n",
       "      <th></th>\n",
       "      <th></th>\n",
       "    </tr>\n",
       "  </thead>\n",
       "  <tbody>\n",
       "    <tr>\n",
       "      <th>0</th>\n",
       "      <td>66.060120</td>\n",
       "      <td>2994</td>\n",
       "      <td>178</td>\n",
       "      <td>3.484636</td>\n",
       "      <td>2994</td>\n",
       "      <td>12</td>\n",
       "    </tr>\n",
       "    <tr>\n",
       "      <th>1</th>\n",
       "      <td>269.961466</td>\n",
       "      <td>1064</td>\n",
       "      <td>395</td>\n",
       "      <td>1.563910</td>\n",
       "      <td>1064</td>\n",
       "      <td>12</td>\n",
       "    </tr>\n",
       "    <tr>\n",
       "      <th>2</th>\n",
       "      <td>23.142857</td>\n",
       "      <td>7</td>\n",
       "      <td>25</td>\n",
       "      <td>128.285714</td>\n",
       "      <td>7</td>\n",
       "      <td>208</td>\n",
       "    </tr>\n",
       "    <tr>\n",
       "      <th>3</th>\n",
       "      <td>33.724528</td>\n",
       "      <td>265</td>\n",
       "      <td>394</td>\n",
       "      <td>20.407547</td>\n",
       "      <td>265</td>\n",
       "      <td>69</td>\n",
       "    </tr>\n",
       "  </tbody>\n",
       "</table>\n",
       "</div>"
      ],
      "text/plain": [
       "           recency              frequency           \n",
       "              mean count  max        mean count  max\n",
       "labels                                              \n",
       "0        66.060120  2994  178    3.484636  2994   12\n",
       "1       269.961466  1064  395    1.563910  1064   12\n",
       "2        23.142857     7   25  128.285714     7  208\n",
       "3        33.724528   265  394   20.407547   265   69"
      ]
     },
     "execution_count": 60,
     "metadata": {},
     "output_type": "execute_result"
    }
   ],
   "source": [
    "agg_list=[\"mean\", \"count\", \"max\",]\n",
    "df_kmeans[[\"labels\", \"recency\", \"frequency\"]].groupby(\"labels\").agg(agg_list)"
   ]
  },
  {
   "cell_type": "markdown",
   "id": "12b9db5d",
   "metadata": {
    "papermill": {
     "duration": 0.030079,
     "end_time": "2023-08-18T17:14:12.507296",
     "exception": false,
     "start_time": "2023-08-18T17:14:12.477217",
     "status": "completed"
    },
    "tags": []
   },
   "source": [
    "**Cluster 0 - Infrequent Customers**\n",
    "\n",
    "**Cluster 1 - Dormant Customers**\n",
    "\n",
    "**Cluster 2 - Highly engaging Customers**\n",
    "\n",
    "**Cluster 3 - Regular One's**"
   ]
  },
  {
   "cell_type": "code",
   "execution_count": 61,
   "id": "4ed692b6",
   "metadata": {
    "execution": {
     "iopub.execute_input": "2023-08-18T17:14:12.570201Z",
     "iopub.status.busy": "2023-08-18T17:14:12.569147Z",
     "iopub.status.idle": "2023-08-18T17:14:12.589125Z",
     "shell.execute_reply": "2023-08-18T17:14:12.588043Z"
    },
    "papermill": {
     "duration": 0.054903,
     "end_time": "2023-08-18T17:14:12.592022",
     "exception": false,
     "start_time": "2023-08-18T17:14:12.537119",
     "status": "completed"
    },
    "tags": []
   },
   "outputs": [],
   "source": [
    "df_c=data.groupby('CustomerID').agg({ 'GOV':'sum'})\n",
    "df_c.columns = ['Expenditure']\n"
   ]
  },
  {
   "cell_type": "code",
   "execution_count": 62,
   "id": "dbdeb5de",
   "metadata": {
    "execution": {
     "iopub.execute_input": "2023-08-18T17:14:12.653670Z",
     "iopub.status.busy": "2023-08-18T17:14:12.653302Z",
     "iopub.status.idle": "2023-08-18T17:14:12.664875Z",
     "shell.execute_reply": "2023-08-18T17:14:12.663932Z"
    },
    "papermill": {
     "duration": 0.044413,
     "end_time": "2023-08-18T17:14:12.666896",
     "exception": false,
     "start_time": "2023-08-18T17:14:12.622483",
     "status": "completed"
    },
    "tags": []
   },
   "outputs": [],
   "source": [
    "std_scaler = StandardScaler()\n",
    "df_scaled = std_scaler.fit_transform(df_c)\n",
    "df_scaled\n",
    "df_scaled = pd.DataFrame(df_scaled,columns=['Expenditure'])\n",
    "df_scaled[\"CustomerID\"] = df_c.index\n",
    "df_scaled = df_scaled.set_index(\"CustomerID\",drop=True)"
   ]
  },
  {
   "cell_type": "code",
   "execution_count": 63,
   "id": "bf183012",
   "metadata": {
    "execution": {
     "iopub.execute_input": "2023-08-18T17:14:12.726793Z",
     "iopub.status.busy": "2023-08-18T17:14:12.726387Z",
     "iopub.status.idle": "2023-08-18T17:14:13.469104Z",
     "shell.execute_reply": "2023-08-18T17:14:13.468045Z"
    },
    "papermill": {
     "duration": 0.775511,
     "end_time": "2023-08-18T17:14:13.471578",
     "exception": false,
     "start_time": "2023-08-18T17:14:12.696067",
     "status": "completed"
    },
    "tags": []
   },
   "outputs": [
    {
     "data": {
      "image/png": "[encoded data removed]",
      "text/plain": [
       "<Figure size 800x550 with 1 Axes>"
      ]
     },
     "metadata": {},
     "output_type": "display_data"
    },
    {
     "data": {
      "text/plain": [
       "<Axes: title={'center': 'Distortion Score Elbow for KMeans Clustering'}, xlabel='k', ylabel='distortion score'>"
      ]
     },
     "execution_count": 63,
     "metadata": {},
     "output_type": "execute_result"
    }
   ],
   "source": [
    "from yellowbrick.cluster import KElbowVisualizer\n",
    "model = KMeans()\n",
    "visualizer = KElbowVisualizer(model, k=(1,11), timings= False)\n",
    "visualizer.fit(df_scaled)        \n",
    "visualizer.show()    "
   ]
  },
  {
   "cell_type": "code",
   "execution_count": 64,
   "id": "34258666",
   "metadata": {
    "execution": {
     "iopub.execute_input": "2023-08-18T17:14:13.534653Z",
     "iopub.status.busy": "2023-08-18T17:14:13.534251Z",
     "iopub.status.idle": "2023-08-18T17:14:13.584163Z",
     "shell.execute_reply": "2023-08-18T17:14:13.583217Z"
    },
    "papermill": {
     "duration": 0.084169,
     "end_time": "2023-08-18T17:14:13.586347",
     "exception": false,
     "start_time": "2023-08-18T17:14:13.502178",
     "status": "completed"
    },
    "tags": []
   },
   "outputs": [
    {
     "data": {
      "text/html": [
       "<div>\n",
       "<style scoped>\n",
       "    .dataframe tbody tr th:only-of-type {\n",
       "        vertical-align: middle;\n",
       "    }\n",
       "\n",
       "    .dataframe tbody tr th {\n",
       "        vertical-align: top;\n",
       "    }\n",
       "\n",
       "    .dataframe thead th {\n",
       "        text-align: right;\n",
       "    }\n",
       "</style>\n",
       "<table border=\"1\" class=\"dataframe\">\n",
       "  <thead>\n",
       "    <tr style=\"text-align: right;\">\n",
       "      <th></th>\n",
       "      <th>Expenditure</th>\n",
       "    </tr>\n",
       "  </thead>\n",
       "  <tbody>\n",
       "    <tr>\n",
       "      <th>0</th>\n",
       "      <td>-0.058922</td>\n",
       "    </tr>\n",
       "    <tr>\n",
       "      <th>1</th>\n",
       "      <td>30.959444</td>\n",
       "    </tr>\n",
       "    <tr>\n",
       "      <th>2</th>\n",
       "      <td>7.367866</td>\n",
       "    </tr>\n",
       "  </tbody>\n",
       "</table>\n",
       "</div>"
      ],
      "text/plain": [
       "   Expenditure\n",
       "0    -0.058922\n",
       "1    30.959444\n",
       "2     7.367866"
      ]
     },
     "execution_count": 64,
     "metadata": {},
     "output_type": "execute_result"
    }
   ],
   "source": [
    "kmeans = KMeans(n_clusters=3, n_init = 15, random_state=1)\n",
    "kmeans.fit(df_scaled)\n",
    "centroids = kmeans.cluster_centers_\n",
    "centroid_df = pd.DataFrame(centroids, columns = df_scaled.columns )\n",
    "centroid_df"
   ]
  },
  {
   "cell_type": "markdown",
   "id": "053596e1",
   "metadata": {
    "papermill": {
     "duration": 0.029862,
     "end_time": "2023-08-18T17:14:13.646652",
     "exception": false,
     "start_time": "2023-08-18T17:14:13.616790",
     "status": "completed"
    },
    "tags": []
   },
   "source": [
    "**Cluster 0 - Low Spenders**\n",
    "\n",
    "**Cluster 1 - High Spenders**\n",
    "\n",
    "**Cluster 2 - Med Spenders**"
   ]
  },
  {
   "cell_type": "code",
   "execution_count": 65,
   "id": "f6c4703f",
   "metadata": {
    "execution": {
     "iopub.execute_input": "2023-08-18T17:14:13.712391Z",
     "iopub.status.busy": "2023-08-18T17:14:13.711997Z",
     "iopub.status.idle": "2023-08-18T17:14:14.043227Z",
     "shell.execute_reply": "2023-08-18T17:14:14.042103Z"
    },
    "papermill": {
     "duration": 0.366668,
     "end_time": "2023-08-18T17:14:14.045685",
     "exception": false,
     "start_time": "2023-08-18T17:14:13.679017",
     "status": "completed"
    },
    "tags": []
   },
   "outputs": [
    {
     "data": {
      "text/plain": [
       "<Figure size 1500x1500 with 0 Axes>"
      ]
     },
     "metadata": {},
     "output_type": "display_data"
    },
    {
     "data": {
      "image/png": "[encoded data removed]",
      "text/plain": [
       "<Figure size 800x600 with 1 Axes>"
      ]
     },
     "metadata": {},
     "output_type": "display_data"
    }
   ],
   "source": [
    "df_kmeans = df_c.copy()\n",
    "df_kmeans['labels'] = kmeans.labels_.tolist()\n",
    "df_kmeans.reset_index(inplace=True)\n",
    "\n",
    "fig  = plt.figure(figsize = (15,15)).suptitle('Plot of Customer\\'s Distribution', fontsize=25)\n",
    "# Define colors for each label\n",
    "label_colors = {0: 'red', 1: 'green', 2: 'purple'}\n",
    "\n",
    "# Scatter plot\n",
    "plt.figure(figsize=(8, 6))\n",
    "\n",
    "for label, color in label_colors.items():\n",
    "    label_data = df_kmeans[df_kmeans['labels'] == label]\n",
    "    plt.scatter(label_data['Expenditure'], label_data['CustomerID'], c=color, label=f'Cluster {label}')\n",
    "\n",
    "plt.xlabel('Recency')\n",
    "plt.ylabel('Frequency')\n",
    "plt.legend()\n",
    "plt.grid(True)\n",
    "plt.show()"
   ]
  }
 ],
 "metadata": {
  "kernelspec": {
   "display_name": "Python 3",
   "language": "python",
   "name": "python3"
  },
  "language_info": {
   "codemirror_mode": {
    "name": "ipython",
    "version": 3
   },
   "file_extension": ".py",
   "mimetype": "text/x-python",
   "name": "python",
   "nbconvert_exporter": "python",
   "pygments_lexer": "ipython3",
   "version": "3.10.12"
  },
  "papermill": {
   "default_parameters": {},
   "duration": 93.179435,
   "end_time": "2023-08-18T17:14:15.203401",
   "environment_variables": {},
   "exception": null,
   "input_path": "__notebook__.ipynb",
   "output_path": "__notebook__.ipynb",
   "parameters": {},
   "start_time": "2023-08-18T17:12:42.023966",
   "version": "2.4.0"
  }
 },
 "nbformat": 4,
 "nbformat_minor": 5
}
